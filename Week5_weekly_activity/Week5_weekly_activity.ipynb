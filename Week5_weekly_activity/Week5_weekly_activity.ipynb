{
 "cells": [
  {
   "cell_type": "code",
   "execution_count": 1,
   "id": "468490ee",
   "metadata": {},
   "outputs": [
    {
     "data": {
      "text/plain": [
       "True"
      ]
     },
     "execution_count": 1,
     "metadata": {},
     "output_type": "execute_result"
    }
   ],
   "source": [
    "import sys\n",
    "# Python 3.7 is required\n",
    "assert sys.version_info >= (3,7)\n",
    "\n",
    "import cv2 as cv\n",
    "import numpy as np\n",
    "\n",
    "# Make sure that optimization is enabled\n",
    "if not cv.useOptimized():\n",
    "    cv.setUseOptimized(True)\n",
    "\n",
    "cv.useOptimized()"
   ]
  },
  {
   "cell_type": "code",
   "execution_count": 2,
   "id": "1243af3a",
   "metadata": {},
   "outputs": [],
   "source": [
    "import matplotlib.pyplot as plt"
   ]
  },
  {
   "cell_type": "markdown",
   "id": "7ffe64ad",
   "metadata": {},
   "source": [
    "## Question 1"
   ]
  },
  {
   "cell_type": "code",
   "execution_count": 5,
   "id": "34b0a1fd",
   "metadata": {},
   "outputs": [],
   "source": [
    "img = cv.imread('dog.jfif')\n",
    "img_copy = img.copy()\n",
    "\n",
    "height, width = img.shape[:2]\n",
    "num_horizontal_patches = 2\n",
    "num_vertical_patches = 2\n",
    "\n",
    "def crop_grid(img, num_horizontal_grid, num_vertical_grid, line_color):\n",
    "    M, N = int(height/num_horizontal_grid), int(width/num_vertical_grid)\n",
    "\n",
    "    x1, y1 = 0, 0\n",
    "\n",
    "    for y in range(0, height, M):\n",
    "        for x in range(0, width, N):\n",
    "            y1 = y + M    # lower right coordinate that will be used to construct rectangle\n",
    "            x1 = x + N\n",
    "        \n",
    "            # Check whether patch lower right coordinate exceeds image height and width\n",
    "            if x1 >= width and y1 >= height:\n",
    "                x1 = width - 1\n",
    "                y1 = height - 1\n",
    "                tile = img[y:height, x:width]\n",
    "                cv.rectangle(img, (x, y), (x1, y1), line_color, 2)\n",
    "                cv.imshow('tile', tile)\n",
    "            # When patch lower right y-coordinate exceeds patch height\n",
    "            elif y1 >= height:\n",
    "                y1 = height - 1\n",
    "                cv.rectangle(img, (x, y), (x1, y1), line_color, 2)\n",
    "            \n",
    "            # When patch lower right x-coordinate exceeds patch width\n",
    "            elif x1 >= width:\n",
    "                x1 = width - 1\n",
    "                cv.rectangle(img, (x, y), (x1, y1), line_color, 2)\n",
    "        \n",
    "            else:\n",
    "                cv.rectangle(img, (x, y), (x1, y1), line_color, 2)\n",
    "\n",
    "\n",
    "#call function\n",
    "crop_grid(img_copy, num_horizontal_patches, num_vertical_patches, (29,29,250))\n",
    "\n",
    "cv.imshow('patched image', img_copy)\n",
    "cv.waitKey(0)\n",
    "cv.destroyAllWindows()"
   ]
  },
  {
   "cell_type": "markdown",
   "id": "8c049b1c",
   "metadata": {},
   "source": [
    "## Question 2"
   ]
  },
  {
   "cell_type": "code",
   "execution_count": 6,
   "id": "13ecad74",
   "metadata": {},
   "outputs": [],
   "source": [
    "import time\n",
    "\n",
    "img1 = cv.imread('lena.jfif')\n",
    "img2 = cv.imread('coins.jfif')\n",
    "\n",
    "#resize img2\n",
    "new_shape = img1.shape[:2]\n",
    "img2 = cv.resize(img2, new_shape)\n",
    "\n",
    "for i in np.linspace(0,1,50):\n",
    "    alpha = i\n",
    "    beta = 1 - alpha\n",
    "    dst = cv.addWeighted(img1, alpha, img2, beta, 0)\n",
    "    cv.imshow('Image blending', dst)\n",
    "    time.sleep(0.05)\n",
    "    if cv.waitKey(1) & 0xFF == 27:\n",
    "        break\n",
    "    \n",
    "cv.destroyAllWindows()"
   ]
  },
  {
   "cell_type": "markdown",
   "id": "342b8e43",
   "metadata": {},
   "source": [
    "## Question 3"
   ]
  },
  {
   "cell_type": "code",
   "execution_count": 21,
   "id": "84f57403",
   "metadata": {},
   "outputs": [
    {
     "name": "stdout",
     "output_type": "stream",
     "text": [
      "Collecting imutils\n",
      "  Downloading imutils-0.5.4.tar.gz (17 kB)\n",
      "Building wheels for collected packages: imutils\n",
      "  Building wheel for imutils (setup.py): started\n",
      "  Building wheel for imutils (setup.py): finished with status 'done'\n",
      "  Created wheel for imutils: filename=imutils-0.5.4-py3-none-any.whl size=25872 sha256=e03729ff46ea9779de065cdf98c6718a3ff7dc400ea41cdf560a9cb723282f22\n",
      "  Stored in directory: c:\\users\\jiali\\appdata\\local\\pip\\cache\\wheels\\4b\\a5\\2d\\4a070a801d3a3d93f033d3ee9728f470f514826e89952df3ea\n",
      "Successfully built imutils\n",
      "Installing collected packages: imutils\n",
      "Successfully installed imutils-0.5.4\n",
      "Note: you may need to restart the kernel to use updated packages.\n"
     ]
    }
   ],
   "source": [
    "pip install imutils"
   ]
  },
  {
   "cell_type": "code",
   "execution_count": 7,
   "id": "52b1e3b1",
   "metadata": {},
   "outputs": [],
   "source": [
    "import imutils\n",
    "\n",
    "img = cv.imread('lena.jfif')\n",
    "dst = imutils.rotate_bound(img, 45)\n",
    "\n",
    "cv.imshow('Rotation', dst)\n",
    "cv.waitKey(0)\n",
    "cv.destroyAllWindows()"
   ]
  },
  {
   "cell_type": "markdown",
   "id": "33a71121",
   "metadata": {},
   "source": [
    "## Question 4"
   ]
  },
  {
   "cell_type": "code",
   "execution_count": 10,
   "id": "2c8eb225",
   "metadata": {},
   "outputs": [],
   "source": [
    "bee = cv.imread('native-bee.png')\n",
    "flower = cv.imread('flower.jfif')\n",
    "\n",
    "flower = flower[40:120, 90:180]\n",
    "a, b = 80, 50\n",
    "height, width = flower.shape[:2]\n",
    "\n",
    "#threshold the flower image\n",
    "ret,flower_segment = cv.threshold(flower, 80, 255, cv.THRESH_BINARY_INV)\n",
    "\n",
    "bee[b:b+height, a:a+width] = cv.bitwise_and(bee[b:b+height,a:a+width], flower_segment)\n",
    "bee[b:b+height, a:a+width] = cv.bitwise_or(bee[b:b+height, a:a+width], flower)\n",
    "\n",
    "cv.imshow('flower_bee', bee)\n",
    "cv.waitKey(0)\n",
    "cv.destroyAllWindows()"
   ]
  },
  {
   "cell_type": "code",
   "execution_count": null,
   "id": "ace486fa",
   "metadata": {},
   "outputs": [],
   "source": []
  }
 ],
 "metadata": {
  "kernelspec": {
   "display_name": "Python 3 (ipykernel)",
   "language": "python",
   "name": "python3"
  },
  "language_info": {
   "codemirror_mode": {
    "name": "ipython",
    "version": 3
   },
   "file_extension": ".py",
   "mimetype": "text/x-python",
   "name": "python",
   "nbconvert_exporter": "python",
   "pygments_lexer": "ipython3",
   "version": "3.9.12"
  }
 },
 "nbformat": 4,
 "nbformat_minor": 5
}
