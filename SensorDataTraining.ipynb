{
  "cells": [
    {
      "cell_type": "markdown",
      "metadata": {
        "id": "view-in-github",
        "colab_type": "text"
      },
      "source": [
        "<a href=\"https://colab.research.google.com/github/imposter0/UCCC2513_Mini_Project/blob/main/SensorDataTraining.ipynb\" target=\"_parent\"><img src=\"https://colab.research.google.com/assets/colab-badge.svg\" alt=\"Open In Colab\"/></a>"
      ]
    },
    {
      "cell_type": "code",
      "execution_count": 3,
      "id": "c84d047b",
      "metadata": {
        "scrolled": false,
        "id": "c84d047b"
      },
      "outputs": [],
      "source": [
        "from google.cloud import storage\n",
        "import numpy as np\n",
        "import pandas as pd\n",
        "import seaborn as sns\n",
        "import matplotlib.pyplot as plt\n",
        "import gcsfs\n",
        "import warnings\n",
        "warnings.filterwarnings('ignore')\n",
        "\n",
        "from sklearn import metrics\n",
        "from sklearn.metrics import confusion_matrix\n",
        "from sklearn.metrics import accuracy_score\n",
        "from sklearn.metrics import classification_report\n",
        "from sklearn.metrics import ConfusionMatrixDisplay\n",
        "from sklearn.metrics import make_scorer\n",
        "from sklearn.metrics import mean_squared_error\n",
        "from sklearn.model_selection import train_test_split\n",
        "from sklearn.model_selection import cross_validate\n",
        "from sklearn.model_selection import cross_val_predict\n",
        "from sklearn.model_selection import cross_val_score\n",
        "from sklearn.model_selection import GridSearchCV\n",
        "from sklearn.base import clone\n",
        "\n",
        "import tensorflow as tf\n",
        "from tensorflow import keras\n",
        "from tensorflow import stack\n",
        "import scikeras\n",
        "from scikeras.wrappers import KerasClassifier\n",
        "from keras.models import Sequential\n",
        "from keras.layers import Dense, GlobalAveragePooling1D, BatchNormalization, MaxPool1D, Reshape, Activation, Dropout\n",
        "from keras.layers import LSTM\n",
        "from keras.callbacks import ModelCheckpoint, EarlyStopping\n",
        "from keras.optimizers import Adam\n",
        "\n",
        "from scipy import stats\n",
        "from scipy.stats import mode"
      ]
    },
    {
      "cell_type": "code",
      "source": [
        "pip install scikeras"
      ],
      "metadata": {
        "colab": {
          "base_uri": "https://localhost:8080/"
        },
        "id": "mXWDeQUU6Gk1",
        "outputId": "b94f6a73-323e-4880-89b1-493703681f02"
      },
      "id": "mXWDeQUU6Gk1",
      "execution_count": 2,
      "outputs": [
        {
          "output_type": "stream",
          "name": "stdout",
          "text": [
            "Collecting scikeras\n",
            "  Downloading scikeras-0.11.0-py3-none-any.whl (27 kB)\n",
            "Requirement already satisfied: packaging>=0.21 in /usr/local/lib/python3.10/dist-packages (from scikeras) (23.1)\n",
            "Requirement already satisfied: scikit-learn>=1.0.0 in /usr/local/lib/python3.10/dist-packages (from scikeras) (1.2.2)\n",
            "Requirement already satisfied: numpy>=1.17.3 in /usr/local/lib/python3.10/dist-packages (from scikit-learn>=1.0.0->scikeras) (1.23.5)\n",
            "Requirement already satisfied: scipy>=1.3.2 in /usr/local/lib/python3.10/dist-packages (from scikit-learn>=1.0.0->scikeras) (1.11.2)\n",
            "Requirement already satisfied: joblib>=1.1.1 in /usr/local/lib/python3.10/dist-packages (from scikit-learn>=1.0.0->scikeras) (1.3.2)\n",
            "Requirement already satisfied: threadpoolctl>=2.0.0 in /usr/local/lib/python3.10/dist-packages (from scikit-learn>=1.0.0->scikeras) (3.2.0)\n",
            "Installing collected packages: scikeras\n",
            "Successfully installed scikeras-0.11.0\n"
          ]
        }
      ]
    },
    {
      "cell_type": "code",
      "source": [
        "from google.colab import auth\n",
        "auth.authenticate_user()"
      ],
      "metadata": {
        "id": "K54D3y_lBpQG"
      },
      "id": "K54D3y_lBpQG",
      "execution_count": 1,
      "outputs": []
    },
    {
      "cell_type": "markdown",
      "id": "6e3cd158",
      "metadata": {
        "id": "6e3cd158"
      },
      "source": [
        "## Dataset Creation"
      ]
    },
    {
      "cell_type": "markdown",
      "id": "6a92eda9",
      "metadata": {
        "id": "6a92eda9"
      },
      "source": [
        "### Import CSV File"
      ]
    },
    {
      "cell_type": "code",
      "execution_count": 4,
      "id": "bd952b56",
      "metadata": {
        "colab": {
          "base_uri": "https://localhost:8080/"
        },
        "id": "bd952b56",
        "outputId": "64cbc70f-e6c0-48d6-80aa-5c60f929f9e5"
      },
      "outputs": [
        {
          "output_type": "stream",
          "name": "stdout",
          "text": [
            "Blob name:\n",
            "List of csv files:\n",
            "['CSVFile/Log_1_20230814202506.csv', 'CSVFile/Log_1_20230814202822.csv', 'CSVFile/Log_1_20230814203019.csv', 'CSVFile/Log_1_20230910133848.csv', 'CSVFile/Log_1_20230910134100.csv', 'CSVFile/Log_2_20230815131944.csv', 'CSVFile/Log_2_20230815132233.csv', 'CSVFile/Log_2_20230815132348.csv', 'CSVFile/Log_2_20230910134549.csv', 'CSVFile/Log_2_20230910134701.csv', 'CSVFile/Log_3_20230910135254.csv', 'CSVFile/Log_3_20230910135506.csv', 'CSVFile/Log_3_20230910135659.csv', 'CSVFile/Log_3_20230910135917.csv', 'CSVFile/Log_3_20230910140101.csv', 'CSVFile/Log_3_20230910140320.csv', 'CSVFile/Log_3_20230910140552.csv', 'CSVFile/Log_3_20230910140728.csv', 'CSVFile/Log_3_20230910140921.csv', 'CSVFile/Log_3_20230910141143.csv', 'CSVFile/Log_4_20230910135127.csv', 'CSVFile/Log_4_20230910135350.csv', 'CSVFile/Log_4_20230910135604.csv', 'CSVFile/Log_4_20230910135755.csv', 'CSVFile/Log_4_20230910140005.csv', 'CSVFile/Log_4_20230910140203.csv', 'CSVFile/Log_4_20230910140416.csv', 'CSVFile/Log_4_20230910140638.csv', 'CSVFile/Log_4_20230910140817.csv', 'CSVFile/Log_4_20230910141013.csv']\n"
          ]
        }
      ],
      "source": [
        "# get list of filepaths from google cloud bucket\n",
        "csv_file_paths = []\n",
        "\n",
        "def get_csv_files(project_id=\"sensordatalogger-logfiles\"):\n",
        "    storage_client = storage.Client(project=project_id)\n",
        "    bucket = storage.Bucket(storage_client, 'sensordatalogger-logfiles.appspot.com')\n",
        "    str_folder_name_on_gcs = 'CSVFile/'\n",
        "    blobs = bucket.list_blobs(prefix=str_folder_name_on_gcs)\n",
        "    print(\"Blob name:\")\n",
        "    for blob in blobs:\n",
        "        csv_file_paths.append(blob.name)\n",
        "\n",
        "get_csv_files()\n",
        "print(\"List of csv files:\")\n",
        "print(csv_file_paths)"
      ]
    },
    {
      "cell_type": "code",
      "execution_count": 5,
      "id": "d0f3d504",
      "metadata": {
        "colab": {
          "base_uri": "https://localhost:8080/"
        },
        "id": "d0f3d504",
        "outputId": "4793e194-2e9a-4738-fe7e-573d66e78137"
      },
      "outputs": [
        {
          "output_type": "stream",
          "name": "stdout",
          "text": [
            "gs://sensordatalogger-logfiles.appspot.com/CSVFile/Log_1_20230814202506.csv\n",
            "gs://sensordatalogger-logfiles.appspot.com/CSVFile/Log_1_20230814202822.csv\n",
            "gs://sensordatalogger-logfiles.appspot.com/CSVFile/Log_1_20230814203019.csv\n",
            "gs://sensordatalogger-logfiles.appspot.com/CSVFile/Log_1_20230910133848.csv\n",
            "gs://sensordatalogger-logfiles.appspot.com/CSVFile/Log_1_20230910134100.csv\n",
            "gs://sensordatalogger-logfiles.appspot.com/CSVFile/Log_2_20230815131944.csv\n",
            "gs://sensordatalogger-logfiles.appspot.com/CSVFile/Log_2_20230815132233.csv\n",
            "gs://sensordatalogger-logfiles.appspot.com/CSVFile/Log_2_20230815132348.csv\n",
            "gs://sensordatalogger-logfiles.appspot.com/CSVFile/Log_2_20230910134549.csv\n",
            "gs://sensordatalogger-logfiles.appspot.com/CSVFile/Log_2_20230910134701.csv\n",
            "gs://sensordatalogger-logfiles.appspot.com/CSVFile/Log_3_20230910135254.csv\n",
            "gs://sensordatalogger-logfiles.appspot.com/CSVFile/Log_3_20230910135506.csv\n",
            "gs://sensordatalogger-logfiles.appspot.com/CSVFile/Log_3_20230910135659.csv\n",
            "gs://sensordatalogger-logfiles.appspot.com/CSVFile/Log_3_20230910135917.csv\n",
            "gs://sensordatalogger-logfiles.appspot.com/CSVFile/Log_3_20230910140101.csv\n",
            "gs://sensordatalogger-logfiles.appspot.com/CSVFile/Log_3_20230910140320.csv\n",
            "gs://sensordatalogger-logfiles.appspot.com/CSVFile/Log_3_20230910140552.csv\n",
            "gs://sensordatalogger-logfiles.appspot.com/CSVFile/Log_3_20230910140728.csv\n",
            "gs://sensordatalogger-logfiles.appspot.com/CSVFile/Log_3_20230910140921.csv\n",
            "gs://sensordatalogger-logfiles.appspot.com/CSVFile/Log_3_20230910141143.csv\n",
            "gs://sensordatalogger-logfiles.appspot.com/CSVFile/Log_4_20230910135127.csv\n",
            "gs://sensordatalogger-logfiles.appspot.com/CSVFile/Log_4_20230910135350.csv\n",
            "gs://sensordatalogger-logfiles.appspot.com/CSVFile/Log_4_20230910135604.csv\n",
            "gs://sensordatalogger-logfiles.appspot.com/CSVFile/Log_4_20230910135755.csv\n",
            "gs://sensordatalogger-logfiles.appspot.com/CSVFile/Log_4_20230910140005.csv\n",
            "gs://sensordatalogger-logfiles.appspot.com/CSVFile/Log_4_20230910140203.csv\n",
            "gs://sensordatalogger-logfiles.appspot.com/CSVFile/Log_4_20230910140416.csv\n",
            "gs://sensordatalogger-logfiles.appspot.com/CSVFile/Log_4_20230910140638.csv\n",
            "gs://sensordatalogger-logfiles.appspot.com/CSVFile/Log_4_20230910140817.csv\n",
            "gs://sensordatalogger-logfiles.appspot.com/CSVFile/Log_4_20230910141013.csv\n"
          ]
        }
      ],
      "source": [
        "# format file name\n",
        "for i in range(len(csv_file_paths)):\n",
        "    csv_file_paths[i] = \"gs://sensordatalogger-logfiles.appspot.com/\" + csv_file_paths[i]\n",
        "    print(csv_file_paths[i])"
      ]
    },
    {
      "cell_type": "markdown",
      "id": "ca38239d",
      "metadata": {
        "id": "ca38239d"
      },
      "source": [
        "### Convert CSV File to Parquet File"
      ]
    },
    {
      "cell_type": "code",
      "execution_count": null,
      "id": "be22b176",
      "metadata": {
        "colab": {
          "base_uri": "https://localhost:8080/"
        },
        "id": "be22b176",
        "outputId": "f864f6ff-03c7-4459-bc71-7d563134007d"
      },
      "outputs": [
        {
          "output_type": "stream",
          "name": "stdout",
          "text": [
            "gs://sensordatalogger-logfiles.appspot.com/ParquetFile/Log_1_20230814202506.parquet\n",
            "gs://sensordatalogger-logfiles.appspot.com/ParquetFile/Log_1_20230814202822.parquet\n",
            "gs://sensordatalogger-logfiles.appspot.com/ParquetFile/Log_1_20230814203019.parquet\n",
            "gs://sensordatalogger-logfiles.appspot.com/ParquetFile/Log_1_20230910133848.parquet\n",
            "gs://sensordatalogger-logfiles.appspot.com/ParquetFile/Log_1_20230910134100.parquet\n",
            "gs://sensordatalogger-logfiles.appspot.com/ParquetFile/Log_2_20230815131944.parquet\n",
            "gs://sensordatalogger-logfiles.appspot.com/ParquetFile/Log_2_20230815132233.parquet\n",
            "gs://sensordatalogger-logfiles.appspot.com/ParquetFile/Log_2_20230815132348.parquet\n",
            "gs://sensordatalogger-logfiles.appspot.com/ParquetFile/Log_2_20230910134549.parquet\n",
            "gs://sensordatalogger-logfiles.appspot.com/ParquetFile/Log_2_20230910134701.parquet\n",
            "gs://sensordatalogger-logfiles.appspot.com/ParquetFile/Log_3_20230910135254.parquet\n",
            "gs://sensordatalogger-logfiles.appspot.com/ParquetFile/Log_3_20230910135506.parquet\n",
            "gs://sensordatalogger-logfiles.appspot.com/ParquetFile/Log_3_20230910135659.parquet\n",
            "gs://sensordatalogger-logfiles.appspot.com/ParquetFile/Log_3_20230910135917.parquet\n",
            "gs://sensordatalogger-logfiles.appspot.com/ParquetFile/Log_3_20230910140101.parquet\n",
            "gs://sensordatalogger-logfiles.appspot.com/ParquetFile/Log_3_20230910140320.parquet\n",
            "gs://sensordatalogger-logfiles.appspot.com/ParquetFile/Log_3_20230910140552.parquet\n",
            "gs://sensordatalogger-logfiles.appspot.com/ParquetFile/Log_3_20230910140728.parquet\n",
            "gs://sensordatalogger-logfiles.appspot.com/ParquetFile/Log_3_20230910140921.parquet\n",
            "gs://sensordatalogger-logfiles.appspot.com/ParquetFile/Log_3_20230910141143.parquet\n",
            "gs://sensordatalogger-logfiles.appspot.com/ParquetFile/Log_4_20230910135127.parquet\n",
            "gs://sensordatalogger-logfiles.appspot.com/ParquetFile/Log_4_20230910135350.parquet\n",
            "gs://sensordatalogger-logfiles.appspot.com/ParquetFile/Log_4_20230910135604.parquet\n",
            "gs://sensordatalogger-logfiles.appspot.com/ParquetFile/Log_4_20230910135755.parquet\n",
            "gs://sensordatalogger-logfiles.appspot.com/ParquetFile/Log_4_20230910140005.parquet\n",
            "gs://sensordatalogger-logfiles.appspot.com/ParquetFile/Log_4_20230910140203.parquet\n",
            "gs://sensordatalogger-logfiles.appspot.com/ParquetFile/Log_4_20230910140416.parquet\n",
            "gs://sensordatalogger-logfiles.appspot.com/ParquetFile/Log_4_20230910140638.parquet\n",
            "gs://sensordatalogger-logfiles.appspot.com/ParquetFile/Log_4_20230910140817.parquet\n",
            "gs://sensordatalogger-logfiles.appspot.com/ParquetFile/Log_4_20230910141013.parquet\n"
          ]
        }
      ],
      "source": [
        "parquet_dir = \"gs://sensordatalogger-logfiles.appspot.com/ParquetFile/\"\n",
        "\n",
        "def convert_csv_to_parquet(input_file_path, output_file_path):\n",
        "    csv_df = pd.read_csv(input_file_path, names=['sensor', 'x', 'y', 'z', 'timestamp', 'label'])\n",
        "    csv_df.to_parquet(output_file_path)\n",
        "\n",
        "for i in range(len(csv_file_paths)):\n",
        "    filename = csv_file_paths[i].split('/')[-1]\n",
        "    filename = filename.replace('csv', 'parquet')\n",
        "    parquet_file_name = parquet_dir + filename\n",
        "    print(parquet_file_name)\n",
        "    convert_csv_to_parquet(csv_file_paths[i], parquet_file_name)"
      ]
    },
    {
      "cell_type": "markdown",
      "id": "136d6613",
      "metadata": {
        "id": "136d6613"
      },
      "source": [
        "### Import Parquet File"
      ]
    },
    {
      "cell_type": "code",
      "execution_count": null,
      "id": "7f5a3a9c",
      "metadata": {
        "colab": {
          "base_uri": "https://localhost:8080/"
        },
        "id": "7f5a3a9c",
        "outputId": "740e8ba5-54e4-4681-a2a9-61e1ee62ea07"
      },
      "outputs": [
        {
          "output_type": "stream",
          "name": "stdout",
          "text": [
            "Blob name:\n",
            "List of parquet files:\n",
            "['ParquetFile/Log_1_20230814202506.parquet', 'ParquetFile/Log_1_20230814202822.parquet', 'ParquetFile/Log_1_20230814203019.parquet', 'ParquetFile/Log_1_20230910133848.parquet', 'ParquetFile/Log_1_20230910134100.parquet', 'ParquetFile/Log_2_20230815131944.parquet', 'ParquetFile/Log_2_20230815132233.parquet', 'ParquetFile/Log_2_20230815132348.parquet', 'ParquetFile/Log_2_20230910134549.parquet', 'ParquetFile/Log_2_20230910134701.parquet', 'ParquetFile/Log_3_20230910135254.parquet', 'ParquetFile/Log_3_20230910135506.parquet', 'ParquetFile/Log_3_20230910135659.parquet', 'ParquetFile/Log_3_20230910135917.parquet', 'ParquetFile/Log_3_20230910140101.parquet', 'ParquetFile/Log_3_20230910140320.parquet', 'ParquetFile/Log_3_20230910140552.parquet', 'ParquetFile/Log_3_20230910140728.parquet', 'ParquetFile/Log_3_20230910140921.parquet', 'ParquetFile/Log_3_20230910141143.parquet', 'ParquetFile/Log_4_20230910135127.parquet', 'ParquetFile/Log_4_20230910135350.parquet', 'ParquetFile/Log_4_20230910135604.parquet', 'ParquetFile/Log_4_20230910135755.parquet', 'ParquetFile/Log_4_20230910140005.parquet', 'ParquetFile/Log_4_20230910140203.parquet', 'ParquetFile/Log_4_20230910140416.parquet', 'ParquetFile/Log_4_20230910140638.parquet', 'ParquetFile/Log_4_20230910140817.parquet', 'ParquetFile/Log_4_20230910141013.parquet']\n"
          ]
        }
      ],
      "source": [
        "# get list of filepaths from google cloud bucket\n",
        "parquet_file_paths = []\n",
        "\n",
        "def get_parquet_files(project_id=\"sensordatalogger-logfiles\"):\n",
        "    storage_client = storage.Client(project=project_id)\n",
        "    bucket = storage.Bucket(storage_client, 'sensordatalogger-logfiles.appspot.com')\n",
        "    str_folder_name_on_gcs = 'ParquetFile/'\n",
        "    blobs = bucket.list_blobs(prefix=str_folder_name_on_gcs)\n",
        "    print(\"Blob name:\")\n",
        "    for blob in blobs:\n",
        "        parquet_file_paths.append(blob.name)\n",
        "\n",
        "get_parquet_files()\n",
        "print(\"List of parquet files:\")\n",
        "print(parquet_file_paths)"
      ]
    },
    {
      "cell_type": "code",
      "execution_count": null,
      "id": "eabbe494",
      "metadata": {
        "colab": {
          "base_uri": "https://localhost:8080/"
        },
        "id": "eabbe494",
        "outputId": "4aa5f4a6-0a70-41f6-dcf3-c74bcfd07774"
      },
      "outputs": [
        {
          "output_type": "stream",
          "name": "stdout",
          "text": [
            "gs://sensordatalogger-logfiles.appspot.com/ParquetFile/Log_1_20230814202506.parquet\n",
            "gs://sensordatalogger-logfiles.appspot.com/ParquetFile/Log_1_20230814202822.parquet\n",
            "gs://sensordatalogger-logfiles.appspot.com/ParquetFile/Log_1_20230814203019.parquet\n",
            "gs://sensordatalogger-logfiles.appspot.com/ParquetFile/Log_1_20230910133848.parquet\n",
            "gs://sensordatalogger-logfiles.appspot.com/ParquetFile/Log_1_20230910134100.parquet\n",
            "gs://sensordatalogger-logfiles.appspot.com/ParquetFile/Log_2_20230815131944.parquet\n",
            "gs://sensordatalogger-logfiles.appspot.com/ParquetFile/Log_2_20230815132233.parquet\n",
            "gs://sensordatalogger-logfiles.appspot.com/ParquetFile/Log_2_20230815132348.parquet\n",
            "gs://sensordatalogger-logfiles.appspot.com/ParquetFile/Log_2_20230910134549.parquet\n",
            "gs://sensordatalogger-logfiles.appspot.com/ParquetFile/Log_2_20230910134701.parquet\n",
            "gs://sensordatalogger-logfiles.appspot.com/ParquetFile/Log_3_20230910135254.parquet\n",
            "gs://sensordatalogger-logfiles.appspot.com/ParquetFile/Log_3_20230910135506.parquet\n",
            "gs://sensordatalogger-logfiles.appspot.com/ParquetFile/Log_3_20230910135659.parquet\n",
            "gs://sensordatalogger-logfiles.appspot.com/ParquetFile/Log_3_20230910135917.parquet\n",
            "gs://sensordatalogger-logfiles.appspot.com/ParquetFile/Log_3_20230910140101.parquet\n",
            "gs://sensordatalogger-logfiles.appspot.com/ParquetFile/Log_3_20230910140320.parquet\n",
            "gs://sensordatalogger-logfiles.appspot.com/ParquetFile/Log_3_20230910140552.parquet\n",
            "gs://sensordatalogger-logfiles.appspot.com/ParquetFile/Log_3_20230910140728.parquet\n",
            "gs://sensordatalogger-logfiles.appspot.com/ParquetFile/Log_3_20230910140921.parquet\n",
            "gs://sensordatalogger-logfiles.appspot.com/ParquetFile/Log_3_20230910141143.parquet\n",
            "gs://sensordatalogger-logfiles.appspot.com/ParquetFile/Log_4_20230910135127.parquet\n",
            "gs://sensordatalogger-logfiles.appspot.com/ParquetFile/Log_4_20230910135350.parquet\n",
            "gs://sensordatalogger-logfiles.appspot.com/ParquetFile/Log_4_20230910135604.parquet\n",
            "gs://sensordatalogger-logfiles.appspot.com/ParquetFile/Log_4_20230910135755.parquet\n",
            "gs://sensordatalogger-logfiles.appspot.com/ParquetFile/Log_4_20230910140005.parquet\n",
            "gs://sensordatalogger-logfiles.appspot.com/ParquetFile/Log_4_20230910140203.parquet\n",
            "gs://sensordatalogger-logfiles.appspot.com/ParquetFile/Log_4_20230910140416.parquet\n",
            "gs://sensordatalogger-logfiles.appspot.com/ParquetFile/Log_4_20230910140638.parquet\n",
            "gs://sensordatalogger-logfiles.appspot.com/ParquetFile/Log_4_20230910140817.parquet\n",
            "gs://sensordatalogger-logfiles.appspot.com/ParquetFile/Log_4_20230910141013.parquet\n"
          ]
        }
      ],
      "source": [
        "# format file name\n",
        "for i in range(len(parquet_file_paths)):\n",
        "    parquet_file_paths[i] = \"gs://sensordatalogger-logfiles.appspot.com/\" + parquet_file_paths[i]\n",
        "    print(parquet_file_paths[i])"
      ]
    },
    {
      "cell_type": "code",
      "execution_count": null,
      "id": "f029cf4f",
      "metadata": {
        "colab": {
          "base_uri": "https://localhost:8080/"
        },
        "id": "f029cf4f",
        "outputId": "d3c78500-3df2-411d-dada-37f6b0bd9cef"
      },
      "outputs": [
        {
          "output_type": "stream",
          "name": "stdout",
          "text": [
            "False\n",
            "(12018, 6)\n",
            "      sensor     x     y     z  timestamp  label\n",
            "0       ACCE -0.58  9.71 -0.22  299674305      1\n",
            "1       ACCE -0.58  9.74 -0.23  299674315      1\n",
            "2       ACCE -0.59  9.76 -0.23  299674325      1\n",
            "3       ACCE -0.58  9.76 -0.22  299674335      1\n",
            "4       ACCE -0.58  9.77 -0.22  299674345      1\n",
            "...      ...   ...   ...   ...        ...    ...\n",
            "12013   GYRO -0.00  0.01 -0.00  299734647      1\n",
            "12014   GYRO  0.00  0.00 -0.00  299734657      1\n",
            "12015   GYRO  0.00 -0.00 -0.00  299734667      1\n",
            "12016   GYRO  0.00 -0.00 -0.00  299734677      1\n",
            "12017   GYRO  0.01  0.00 -0.00  299734687      1\n",
            "\n",
            "[12018 rows x 6 columns]\n",
            "\n",
            "\n",
            "False\n",
            "(12028, 6)\n",
            "      sensor     x     y     z  timestamp  label\n",
            "0       ACCE -0.89  9.76  0.11  299870823      1\n",
            "1       ACCE -0.88  9.77  0.11  299870833      1\n",
            "2       ACCE -0.89  9.78  0.12  299870843      1\n",
            "3       ACCE -0.83  9.79  0.15  299870853      1\n",
            "4       ACCE -0.80  9.78  0.15  299870863      1\n",
            "...      ...   ...   ...   ...        ...    ...\n",
            "12023   GYRO -0.01 -0.00  0.00  299931218      1\n",
            "12024   GYRO -0.01 -0.00  0.00  299931228      1\n",
            "12025   GYRO -0.01 -0.00  0.00  299931238      1\n",
            "12026   GYRO -0.00 -0.00  0.00  299931248      1\n",
            "12027   GYRO -0.00 -0.00  0.00  299931258      1\n",
            "\n",
            "[12028 rows x 6 columns]\n",
            "\n",
            "\n",
            "False\n",
            "(12020, 6)\n",
            "      sensor     x     y     z  timestamp  label\n",
            "0       ACCE -0.86  9.77 -0.23  299988629      1\n",
            "1       ACCE -0.91  9.78 -0.21  299988639      1\n",
            "2       ACCE -0.97  9.78 -0.24  299988649      1\n",
            "3       ACCE -1.02  9.78 -0.25  299988659      1\n",
            "4       ACCE -1.05  9.77 -0.25  299988669      1\n",
            "...      ...   ...   ...   ...        ...    ...\n",
            "12015   GYRO  0.01  0.00  0.00  300048984      1\n",
            "12016   GYRO  0.01  0.00  0.00  300048995      1\n",
            "12017   GYRO  0.01  0.01  0.00  300049005      1\n",
            "12018   GYRO  0.01  0.01  0.00  300049015      1\n",
            "12019   GYRO  0.01  0.01 -0.00  300049025      1\n",
            "\n",
            "[12020 rows x 6 columns]\n",
            "\n",
            "\n",
            "False\n",
            "(12020, 6)\n",
            "      sensor     x     y     z   timestamp  label\n",
            "0       ACCE  1.08  9.67 -0.38  2608090364      1\n",
            "1       ACCE  1.07  9.65 -0.39  2608090374      1\n",
            "2       ACCE  1.06  9.65 -0.41  2608090384      1\n",
            "3       ACCE  1.06  9.67 -0.40  2608090394      1\n",
            "4       ACCE  1.06  9.71 -0.36  2608090404      1\n",
            "...      ...   ...   ...   ...         ...    ...\n",
            "12015   GYRO  0.00 -0.00  0.00  2608150715      1\n",
            "12016   GYRO -0.00 -0.00  0.00  2608150725      1\n",
            "12017   GYRO -0.00 -0.00  0.00  2608150735      1\n",
            "12018   GYRO -0.00 -0.00 -0.00  2608150745      1\n",
            "12019   GYRO -0.00  0.00 -0.00  2608150755      1\n",
            "\n",
            "[12020 rows x 6 columns]\n",
            "\n",
            "\n",
            "False\n",
            "(12012, 6)\n",
            "      sensor     x     y     z   timestamp  label\n",
            "0       ACCE  1.09  9.77 -0.29  2608224053      1\n",
            "1       ACCE  1.09  9.77 -0.31  2608224063      1\n",
            "2       ACCE  1.09  9.76 -0.34  2608224073      1\n",
            "3       ACCE  1.09  9.74 -0.33  2608224083      1\n",
            "4       ACCE  1.09  9.72 -0.33  2608224093      1\n",
            "...      ...   ...   ...   ...         ...    ...\n",
            "12007   GYRO -0.00 -0.04  0.01  2608284366      1\n",
            "12008   GYRO -0.00 -0.04  0.01  2608284376      1\n",
            "12009   GYRO -0.00 -0.05  0.01  2608284386      1\n",
            "12010   GYRO -0.00 -0.05  0.01  2608284396      1\n",
            "12011   GYRO -0.00 -0.05  0.01  2608284407      1\n",
            "\n",
            "[12012 rows x 6 columns]\n",
            "\n",
            "\n",
            "False\n",
            "(12018, 6)\n",
            "      sensor     x      y     z  timestamp  label\n",
            "0       ACCE -1.10   7.62 -3.34  360552984      2\n",
            "1       ACCE -1.22   8.22 -3.49  360552994      2\n",
            "2       ACCE -1.40   8.80 -2.95  360553004      2\n",
            "3       ACCE -1.48   9.69 -2.11  360553014      2\n",
            "4       ACCE -1.50  11.18 -1.47  360553024      2\n",
            "...      ...   ...    ...   ...        ...    ...\n",
            "12013   GYRO  1.80   0.63  0.58  360613333      2\n",
            "12014   GYRO  1.74   0.62  0.57  360613343      2\n",
            "12015   GYRO  1.65   0.47  0.55  360613354      2\n",
            "12016   GYRO  1.57   0.32  0.50  360613364      2\n",
            "12017   GYRO  1.47   0.19  0.44  360613374      2\n",
            "\n",
            "[12018 rows x 6 columns]\n",
            "\n",
            "\n",
            "False\n",
            "(12018, 6)\n",
            "      sensor     x      y     z  timestamp  label\n",
            "0       ACCE  4.24  12.72  0.81  360722273      2\n",
            "1       ACCE  2.68   8.58  0.71  360722283      2\n",
            "2       ACCE  1.20   6.70  1.06  360722293      2\n",
            "3       ACCE -0.13   5.71  0.55  360722303      2\n",
            "4       ACCE -0.74   4.67  0.17  360722313      2\n",
            "...      ...   ...    ...   ...        ...    ...\n",
            "12013   GYRO  0.01   0.15 -0.16  360782623      2\n",
            "12014   GYRO  0.13   0.17 -0.15  360782633      2\n",
            "12015   GYRO  0.30   0.17 -0.16  360782643      2\n",
            "12016   GYRO  0.48   0.14 -0.20  360782653      2\n",
            "12017   GYRO  0.60   0.16 -0.27  360782663      2\n",
            "\n",
            "[12018 rows x 6 columns]\n",
            "\n",
            "\n",
            "False\n",
            "(12014, 6)\n",
            "      sensor     x      y     z  timestamp  label\n",
            "0       ACCE  1.04  10.07  3.96  360797519      2\n",
            "1       ACCE  1.16  10.24  3.39  360797529      2\n",
            "2       ACCE  1.32  10.42  2.91  360797539      2\n",
            "3       ACCE  1.21  10.96  2.08  360797549      2\n",
            "4       ACCE  0.81  11.81  0.87  360797559      2\n",
            "...      ...   ...    ...   ...        ...    ...\n",
            "12009   GYRO  0.01   0.14  0.06  360857849      2\n",
            "12010   GYRO -0.08   0.11  0.04  360857859      2\n",
            "12011   GYRO -0.19   0.11  0.02  360857869      2\n",
            "12012   GYRO -0.31   0.12 -0.00  360857879      2\n",
            "12013   GYRO -0.46   0.14 -0.04  360857889      2\n",
            "\n",
            "[12014 rows x 6 columns]\n",
            "\n",
            "\n",
            "False\n",
            "(12016, 6)\n",
            "      sensor     x      y     z   timestamp  label\n",
            "0       ACCE  1.75   8.28 -3.86  2608513590      2\n",
            "1       ACCE  1.87   8.31 -3.74  2608513600      2\n",
            "2       ACCE  1.97   8.65 -3.35  2608513610      2\n",
            "3       ACCE  1.93   9.43 -2.86  2608513620      2\n",
            "4       ACCE  1.80  10.54 -2.22  2608513630      2\n",
            "...      ...   ...    ...   ...         ...    ...\n",
            "12011   GYRO  0.05   0.12 -0.03  2608573924      2\n",
            "12012   GYRO  0.11  -0.03  0.12  2608573934      2\n",
            "12013   GYRO  0.13  -0.39  0.30  2608573944      2\n",
            "12014   GYRO  0.03  -0.74  0.47  2608573954      2\n",
            "12015   GYRO -0.22  -0.59  0.61  2608573964      2\n",
            "\n",
            "[12016 rows x 6 columns]\n",
            "\n",
            "\n",
            "False\n",
            "(12014, 6)\n",
            "      sensor     x      y     z   timestamp  label\n",
            "0       ACCE  0.27  12.78  0.00  2608585372      2\n",
            "1       ACCE  0.20  12.65 -0.32  2608585382      2\n",
            "2       ACCE  0.01  12.40 -0.69  2608585392      2\n",
            "3       ACCE -0.29  12.12 -0.89  2608585402      2\n",
            "4       ACCE -0.58  12.02 -0.56  2608585412      2\n",
            "...      ...   ...    ...   ...         ...    ...\n",
            "12009   GYRO -0.41  -0.51 -0.01  2608645697      2\n",
            "12010   GYRO -0.43  -0.45  0.04  2608645707      2\n",
            "12011   GYRO -0.47  -0.40  0.07  2608645717      2\n",
            "12012   GYRO -0.50  -0.36  0.10  2608645727      2\n",
            "12013   GYRO -0.51  -0.34  0.12  2608645737      2\n",
            "\n",
            "[12014 rows x 6 columns]\n",
            "\n",
            "\n",
            "False\n",
            "(6008, 6)\n",
            "     sensor     x      y     z   timestamp  label\n",
            "0      ACCE -3.44  10.41 -0.96  2608966017      3\n",
            "1      ACCE -3.49  10.05 -0.97  2608966027      3\n",
            "2      ACCE -3.54   9.70 -1.02  2608966037      3\n",
            "3      ACCE -3.52   9.44 -1.13  2608966047      3\n",
            "4      ACCE -3.59   9.34 -1.21  2608966057      3\n",
            "...     ...   ...    ...   ...         ...    ...\n",
            "6003   GYRO  0.01  -0.05 -0.03  2608996160      3\n",
            "6004   GYRO  0.02  -0.04 -0.03  2608996170      3\n",
            "6005   GYRO  0.02  -0.03 -0.03  2608996180      3\n",
            "6006   GYRO  0.02  -0.02 -0.03  2608996190      3\n",
            "6007   GYRO  0.01  -0.01 -0.03  2608996200      3\n",
            "\n",
            "[6008 rows x 6 columns]\n",
            "\n",
            "\n",
            "False\n",
            "(6010, 6)\n",
            "     sensor     x     y     z   timestamp  label\n",
            "0      ACCE -2.12  8.39 -0.12  2609097193      3\n",
            "1      ACCE -2.06  8.18  0.14  2609097203      3\n",
            "2      ACCE -1.92  7.86  0.16  2609097213      3\n",
            "3      ACCE -1.67  7.48  0.18  2609097223      3\n",
            "4      ACCE -1.37  7.11 -0.03  2609097233      3\n",
            "...     ...   ...   ...   ...         ...    ...\n",
            "6005   GYRO  0.13 -0.33 -0.16  2609127346      3\n",
            "6006   GYRO  0.27 -0.43 -0.20  2609127356      3\n",
            "6007   GYRO  0.37 -0.52 -0.24  2609127366      3\n",
            "6008   GYRO  0.43 -0.57 -0.26  2609127376      3\n",
            "6009   GYRO  0.41 -0.56 -0.27  2609127386      3\n",
            "\n",
            "[6010 rows x 6 columns]\n",
            "\n",
            "\n",
            "False\n",
            "(6010, 6)\n",
            "     sensor     x      y     z   timestamp  label\n",
            "0      ACCE -2.96  12.60 -0.39  2609211042      3\n",
            "1      ACCE -2.94  13.39 -0.45  2609211052      3\n",
            "2      ACCE -2.62  14.53 -0.27  2609211062      3\n",
            "3      ACCE -2.02  16.32 -0.13  2609211072      3\n",
            "4      ACCE -1.07  17.76  0.04  2609211082      3\n",
            "...     ...   ...    ...   ...         ...    ...\n",
            "6005   GYRO -0.02   0.01  0.00  2609241195      3\n",
            "6006   GYRO -0.02   0.02  0.00  2609241205      3\n",
            "6007   GYRO -0.02   0.02  0.01  2609241215      3\n",
            "6008   GYRO -0.02   0.02  0.01  2609241225      3\n",
            "6009   GYRO -0.02   0.01  0.01  2609241235      3\n",
            "\n",
            "[6010 rows x 6 columns]\n",
            "\n",
            "\n",
            "False\n",
            "(6008, 6)\n",
            "     sensor     x     y     z   timestamp  label\n",
            "0      ACCE -0.01  7.99 -1.62  2609348651      3\n",
            "1      ACCE  0.08  7.92 -1.81  2609348661      3\n",
            "2      ACCE  0.04  7.97 -2.02  2609348671      3\n",
            "3      ACCE -0.08  8.09 -2.29  2609348681      3\n",
            "4      ACCE -0.29  8.24 -2.38  2609348691      3\n",
            "...     ...   ...   ...   ...         ...    ...\n",
            "6003   GYRO  0.03  0.02 -0.02  2609378794      3\n",
            "6004   GYRO  0.03  0.02 -0.02  2609378805      3\n",
            "6005   GYRO  0.02  0.02 -0.02  2609378815      3\n",
            "6006   GYRO  0.02  0.02 -0.02  2609378825      3\n",
            "6007   GYRO  0.02  0.03 -0.02  2609378835      3\n",
            "\n",
            "[6008 rows x 6 columns]\n",
            "\n",
            "\n",
            "False\n",
            "(6038, 6)\n",
            "     sensor     x     y     z   timestamp  label\n",
            "0      ACCE -1.52  8.97 -1.56  2609453937      3\n",
            "1      ACCE -1.47  8.84 -1.47  2609453947      3\n",
            "2      ACCE -1.36  8.81 -1.41  2609453957      3\n",
            "3      ACCE -1.27  8.95 -1.35  2609453967      3\n",
            "4      ACCE -1.16  9.03 -1.35  2609453977      3\n",
            "...     ...   ...   ...   ...         ...    ...\n",
            "6033   GYRO -0.04  0.05  0.01  2609484231      3\n",
            "6034   GYRO -0.04  0.06  0.01  2609484241      3\n",
            "6035   GYRO -0.04  0.07  0.01  2609484251      3\n",
            "6036   GYRO -0.03  0.08  0.01  2609484261      3\n",
            "6037   GYRO -0.03  0.08  0.01  2609484271      3\n",
            "\n",
            "[6038 rows x 6 columns]\n",
            "\n",
            "\n",
            "False\n",
            "(6010, 6)\n",
            "     sensor     x      y     z   timestamp  label\n",
            "0      ACCE -0.97  11.84  1.10  2609595649      3\n",
            "1      ACCE -1.21  12.46  0.86  2609595659      3\n",
            "2      ACCE -1.34  13.32  0.21  2609595669      3\n",
            "3      ACCE -1.24  14.71 -0.39  2609595679      3\n",
            "4      ACCE -0.97  15.91 -0.82  2609595689      3\n",
            "...     ...   ...    ...   ...         ...    ...\n",
            "6005   GYRO  0.02  -0.04 -0.02  2609625802      3\n",
            "6006   GYRO  0.02  -0.03 -0.02  2609625812      3\n",
            "6007   GYRO  0.01  -0.02 -0.02  2609625822      3\n",
            "6008   GYRO  0.01  -0.02 -0.02  2609625832      3\n",
            "6009   GYRO  0.01  -0.02 -0.02  2609625842      3\n",
            "\n",
            "[6010 rows x 6 columns]\n",
            "\n",
            "\n",
            "False\n",
            "(6010, 6)\n",
            "     sensor     x      y     z   timestamp  label\n",
            "0      ACCE -5.76  15.27 -4.27  2609747613      3\n",
            "1      ACCE -3.95  13.78 -3.04  2609747623      3\n",
            "2      ACCE -2.06  12.52 -2.68  2609747633      3\n",
            "3      ACCE -1.10  12.02 -2.84  2609747643      3\n",
            "4      ACCE -0.57  11.75 -3.24  2609747653      3\n",
            "...     ...   ...    ...   ...         ...    ...\n",
            "6005   GYRO  0.01  -0.03 -0.00  2609777767      3\n",
            "6006   GYRO -0.01  -0.02 -0.00  2609777777      3\n",
            "6007   GYRO -0.02  -0.00  0.00  2609777787      3\n",
            "6008   GYRO -0.04   0.00  0.01  2609777797      3\n",
            "6009   GYRO -0.05   0.01  0.01  2609777807      3\n",
            "\n",
            "[6010 rows x 6 columns]\n",
            "\n",
            "\n",
            "False\n",
            "(6040, 6)\n",
            "     sensor     x     y     z   timestamp  label\n",
            "0      ACCE -1.32  7.33 -1.65  2609841170      3\n",
            "1      ACCE -1.30  7.37 -2.00  2609841180      3\n",
            "2      ACCE -1.27  7.50 -2.38  2609841190      3\n",
            "3      ACCE -1.42  7.75 -2.82  2609841200      3\n",
            "4      ACCE -1.70  8.18 -2.89  2609841210      3\n",
            "...     ...   ...   ...   ...         ...    ...\n",
            "6035   GYRO -0.02  0.01  0.01  2609871475      3\n",
            "6036   GYRO -0.02  0.01  0.00  2609871485      3\n",
            "6037   GYRO -0.02  0.01  0.00  2609871495      3\n",
            "6038   GYRO -0.02  0.01  0.00  2609871505      3\n",
            "6039   GYRO -0.02  0.02  0.01  2609871515      3\n",
            "\n",
            "[6040 rows x 6 columns]\n",
            "\n",
            "\n",
            "False\n",
            "(6006, 6)\n",
            "     sensor     x      y     z   timestamp  label\n",
            "0      ACCE -0.75  11.88 -2.21  2609955031      3\n",
            "1      ACCE -0.82  12.20 -2.35  2609955041      3\n",
            "2      ACCE -1.11  12.16 -2.56  2609955051      3\n",
            "3      ACCE -1.41  11.84 -2.66  2609955061      3\n",
            "4      ACCE -1.43  11.52 -2.28  2609955071      3\n",
            "...     ...   ...    ...   ...         ...    ...\n",
            "6001   GYRO -0.01  -0.07  0.02  2609985165      3\n",
            "6002   GYRO  0.01  -0.08  0.02  2609985175      3\n",
            "6003   GYRO  0.02  -0.09  0.02  2609985185      3\n",
            "6004   GYRO  0.03  -0.10  0.01  2609985195      3\n",
            "6005   GYRO  0.04  -0.11  0.01  2609985205      3\n",
            "\n",
            "[6006 rows x 6 columns]\n",
            "\n",
            "\n",
            "False\n",
            "(6036, 6)\n",
            "     sensor     x     y     z   timestamp  label\n",
            "0      ACCE -1.15  8.02 -2.30  2610096603      3\n",
            "1      ACCE -1.25  8.04 -1.80  2610096613      3\n",
            "2      ACCE -1.40  8.12 -1.33  2610096623      3\n",
            "3      ACCE -1.50  8.20 -0.99  2610096633      3\n",
            "4      ACCE -1.48  8.18 -0.99  2610096643      3\n",
            "...     ...   ...   ...   ...         ...    ...\n",
            "6031   GYRO -0.01  0.05 -0.00  2610126887      3\n",
            "6032   GYRO -0.02  0.04 -0.00  2610126898      3\n",
            "6033   GYRO -0.02  0.03 -0.00  2610126908      3\n",
            "6034   GYRO -0.02  0.02 -0.00  2610126918      3\n",
            "6035   GYRO -0.02  0.02  0.00  2610126928      3\n",
            "\n",
            "[6036 rows x 6 columns]\n",
            "\n",
            "\n",
            "False\n",
            "(6012, 6)\n",
            "     sensor     x     y     z   timestamp  label\n",
            "0      ACCE -0.07  7.39 -1.23  2608881367      4\n",
            "1      ACCE -0.10  6.85 -1.66  2608881377      4\n",
            "2      ACCE -0.13  6.65 -1.85  2608881387      4\n",
            "3      ACCE -0.41  6.78 -1.73  2608881397      4\n",
            "4      ACCE -0.47  6.60 -1.98  2608881407      4\n",
            "...     ...   ...   ...   ...         ...    ...\n",
            "6007   GYRO  0.04  0.03 -0.02  2608911530      4\n",
            "6008   GYRO  0.05  0.02 -0.02  2608911540      4\n",
            "6009   GYRO  0.06  0.02 -0.02  2608911550      4\n",
            "6010   GYRO  0.06  0.02 -0.02  2608911560      4\n",
            "6011   GYRO  0.07  0.01 -0.02  2608911570      4\n",
            "\n",
            "[6012 rows x 6 columns]\n",
            "\n",
            "\n",
            "False\n",
            "(6008, 6)\n",
            "     sensor     x      y     z   timestamp  label\n",
            "0      ACCE  1.16  14.58 -5.25  2609020966      4\n",
            "1      ACCE  0.81  13.53 -5.72  2609020976      4\n",
            "2      ACCE  0.57  13.01 -5.93  2609020986      4\n",
            "3      ACCE  0.55  12.22 -5.51  2609020996      4\n",
            "4      ACCE  0.68  11.80 -4.73  2609021006      4\n",
            "...     ...   ...    ...   ...         ...    ...\n",
            "6003   GYRO -0.03   0.04  0.01  2609051109      4\n",
            "6004   GYRO -0.03   0.03  0.02  2609051119      4\n",
            "6005   GYRO -0.03   0.02  0.03  2609051129      4\n",
            "6006   GYRO -0.02   0.01  0.04  2609051139      4\n",
            "6007   GYRO -0.02  -0.00  0.04  2609051149      4\n",
            "\n",
            "[6008 rows x 6 columns]\n",
            "\n",
            "\n",
            "False\n",
            "(6010, 6)\n",
            "     sensor     x     y     z   timestamp  label\n",
            "0      ACCE -2.58  8.99 -0.02  2609156092      4\n",
            "1      ACCE -2.53  9.17  0.13  2609156102      4\n",
            "2      ACCE -2.45  9.34  0.27  2609156112      4\n",
            "3      ACCE -2.37  9.43  0.28  2609156122      4\n",
            "4      ACCE -2.32  9.51  0.18  2609156132      4\n",
            "...     ...   ...   ...   ...         ...    ...\n",
            "6005   GYRO -0.77  0.20 -0.73  2609186245      4\n",
            "6006   GYRO -0.59  0.14 -0.59  2609186256      4\n",
            "6007   GYRO -0.36  0.04 -0.39  2609186266      4\n",
            "6008   GYRO -0.12 -0.09 -0.19  2609186276      4\n",
            "6009   GYRO  0.07 -0.14 -0.04  2609186286      4\n",
            "\n",
            "[6010 rows x 6 columns]\n",
            "\n",
            "\n",
            "False\n",
            "(6008, 6)\n",
            "     sensor     x      y     z   timestamp  label\n",
            "0      ACCE  0.53  10.93  3.49  2609265991      4\n",
            "1      ACCE  1.05  10.41  3.00  2609266001      4\n",
            "2      ACCE  1.35  10.02  2.68  2609266011      4\n",
            "3      ACCE  1.50   9.52  2.15  2609266021      4\n",
            "4      ACCE  1.36   9.01  1.54  2609266031      4\n",
            "...     ...   ...    ...   ...         ...    ...\n",
            "6003   GYRO -0.02  -0.04  0.03  2609296134      4\n",
            "6004   GYRO -0.02  -0.04  0.03  2609296144      4\n",
            "6005   GYRO -0.02  -0.04  0.03  2609296154      4\n",
            "6006   GYRO -0.02  -0.02  0.02  2609296164      4\n",
            "6007   GYRO -0.03  -0.01  0.01  2609296174      4\n",
            "\n",
            "[6008 rows x 6 columns]\n",
            "\n",
            "\n",
            "False\n",
            "(6018, 6)\n",
            "     sensor     x      y     z   timestamp  label\n",
            "0      ACCE -0.65  10.53  0.56  2609398103      4\n",
            "1      ACCE -0.60  10.65  0.54  2609398113      4\n",
            "2      ACCE -0.55  10.77  0.59  2609398123      4\n",
            "3      ACCE -0.52  10.93  0.72  2609398133      4\n",
            "4      ACCE -0.59  11.21  0.95  2609398143      4\n",
            "...     ...   ...    ...   ...         ...    ...\n",
            "6013   GYRO  0.04   0.00 -0.00  2609428296      4\n",
            "6014   GYRO  0.04   0.00 -0.00  2609428306      4\n",
            "6015   GYRO  0.05   0.00 -0.01  2609428316      4\n",
            "6016   GYRO  0.05  -0.00 -0.01  2609428326      4\n",
            "6017   GYRO  0.04  -0.01 -0.01  2609428336      4\n",
            "\n",
            "[6018 rows x 6 columns]\n",
            "\n",
            "\n",
            "False\n",
            "(6008, 6)\n",
            "     sensor     x      y     z   timestamp  label\n",
            "0      ACCE  0.25  12.02  0.60  2609516455      4\n",
            "1      ACCE  0.20  12.74  0.56  2609516465      4\n",
            "2      ACCE -0.35  13.52  0.39  2609516475      4\n",
            "3      ACCE -1.20  14.20  0.42  2609516485      4\n",
            "4      ACCE -2.07  14.83  0.80  2609516495      4\n",
            "...     ...   ...    ...   ...         ...    ...\n",
            "6003   GYRO  0.09  -0.04 -0.08  2609546599      4\n",
            "6004   GYRO  0.05  -0.06 -0.09  2609546609      4\n",
            "6005   GYRO  0.02  -0.08 -0.10  2609546619      4\n",
            "6006   GYRO  0.00  -0.11 -0.10  2609546629      4\n",
            "6007   GYRO -0.01  -0.15 -0.11  2609546639      4\n",
            "\n",
            "[6008 rows x 6 columns]\n",
            "\n",
            "\n",
            "False\n",
            "(6036, 6)\n",
            "     sensor     x     y     z   timestamp  label\n",
            "0      ACCE -3.12  8.72 -0.07  2609651101      4\n",
            "1      ACCE -2.92  8.86 -0.14  2609651111      4\n",
            "2      ACCE -2.76  9.08 -0.15  2609651121      4\n",
            "3      ACCE -2.53  9.25 -0.06  2609651131      4\n",
            "4      ACCE -2.33  8.91 -0.04  2609651141      4\n",
            "...     ...   ...   ...   ...         ...    ...\n",
            "6031   GYRO -0.05  0.06 -0.02  2609681385      4\n",
            "6032   GYRO -0.05  0.06 -0.02  2609681395      4\n",
            "6033   GYRO -0.05  0.07 -0.02  2609681405      4\n",
            "6034   GYRO -0.05  0.08 -0.03  2609681415      4\n",
            "6035   GYRO -0.06  0.10 -0.02  2609681425      4\n",
            "\n",
            "[6036 rows x 6 columns]\n",
            "\n",
            "\n",
            "False\n",
            "(6010, 6)\n",
            "     sensor     x     y     z   timestamp  label\n",
            "0      ACCE  1.86  7.14 -1.53  2609793155      4\n",
            "1      ACCE  1.29  7.07 -1.50  2609793165      4\n",
            "2      ACCE  0.02  6.70 -1.44  2609793175      4\n",
            "3      ACCE  0.02  6.54 -1.57  2609793185      4\n",
            "4      ACCE -0.13  6.81 -1.87  2609793195      4\n",
            "...     ...   ...   ...   ...         ...    ...\n",
            "6005   GYRO -0.83  0.75 -0.00  2609823309      4\n",
            "6006   GYRO -0.96  0.83 -0.05  2609823319      4\n",
            "6007   GYRO -1.03  0.87 -0.08  2609823329      4\n",
            "6008   GYRO -1.05  0.88 -0.10  2609823339      4\n",
            "6009   GYRO -1.02  0.81 -0.11  2609823349      4\n",
            "\n",
            "[6010 rows x 6 columns]\n",
            "\n",
            "\n",
            "False\n",
            "(6018, 6)\n",
            "     sensor     x     y     z   timestamp  label\n",
            "0      ACCE -0.05  4.87 -3.45  2609889637      4\n",
            "1      ACCE  0.05  4.00 -3.42  2609889647      4\n",
            "2      ACCE  0.42  3.92 -3.07  2609889657      4\n",
            "3      ACCE  0.91  4.32 -3.18  2609889667      4\n",
            "4      ACCE  1.47  5.33 -3.22  2609889678      4\n",
            "...     ...   ...   ...   ...         ...    ...\n",
            "6013   GYRO -0.00 -0.08 -0.01  2609919831      4\n",
            "6014   GYRO  0.02 -0.08 -0.00  2609919841      4\n",
            "6015   GYRO  0.03 -0.08 -0.00  2609919851      4\n",
            "6016   GYRO  0.03 -0.07  0.00  2609919861      4\n",
            "6017   GYRO  0.03 -0.06  0.01  2609919872      4\n",
            "\n",
            "[6018 rows x 6 columns]\n",
            "\n",
            "\n",
            "False\n",
            "(6008, 6)\n",
            "     sensor     x     y     z   timestamp  label\n",
            "0      ACCE  1.48  7.87 -0.53  2610008484      4\n",
            "1      ACCE  0.85  7.99 -0.69  2610008494      4\n",
            "2      ACCE -0.14  7.03 -1.16  2610008504      4\n",
            "3      ACCE -0.12  6.30 -1.38  2610008514      4\n",
            "4      ACCE  0.44  6.36 -2.17  2610008524      4\n",
            "...     ...   ...   ...   ...         ...    ...\n",
            "6003   GYRO -0.01 -0.05 -0.00  2610038627      4\n",
            "6004   GYRO -0.01 -0.05 -0.00  2610038637      4\n",
            "6005   GYRO -0.00 -0.05 -0.00  2610038647      4\n",
            "6006   GYRO  0.01 -0.05 -0.00  2610038657      4\n",
            "6007   GYRO  0.02 -0.05  0.00  2610038668      4\n",
            "\n",
            "[6008 rows x 6 columns]\n",
            "\n",
            "\n"
          ]
        }
      ],
      "source": [
        "# read parquet files\n",
        "for i in range(len(parquet_file_paths)):\n",
        "    df = pd.read_parquet(parquet_file_paths[i], engine='auto')\n",
        "    print(df.isnull().values.any())\n",
        "    print(df.shape)\n",
        "    print(df)\n",
        "    print(\"\\n\")"
      ]
    },
    {
      "cell_type": "markdown",
      "id": "1c521432",
      "metadata": {
        "id": "1c521432"
      },
      "source": [
        "### Combine Log Files"
      ]
    },
    {
      "cell_type": "code",
      "execution_count": null,
      "id": "26d1d49e",
      "metadata": {
        "colab": {
          "base_uri": "https://localhost:8080/"
        },
        "id": "26d1d49e",
        "outputId": "8280a4b9-3dd7-453f-e05c-35b69dcf9f13"
      },
      "outputs": [
        {
          "output_type": "stream",
          "name": "stdout",
          "text": [
            "(6009, 10)\n",
            "False\n",
            "\n",
            "\n",
            "(6014, 10)\n",
            "False\n",
            "\n",
            "\n",
            "(6010, 10)\n",
            "False\n",
            "\n",
            "\n",
            "(6010, 10)\n",
            "False\n",
            "\n",
            "\n",
            "(6006, 10)\n",
            "False\n",
            "\n",
            "\n",
            "(6009, 10)\n",
            "False\n",
            "\n",
            "\n",
            "(6009, 10)\n",
            "False\n",
            "\n",
            "\n",
            "(6007, 10)\n",
            "False\n",
            "\n",
            "\n",
            "(6008, 10)\n",
            "False\n",
            "\n",
            "\n",
            "(6007, 10)\n",
            "False\n",
            "\n",
            "\n",
            "(3004, 10)\n",
            "False\n",
            "\n",
            "\n",
            "(3005, 10)\n",
            "False\n",
            "\n",
            "\n",
            "(3005, 10)\n",
            "False\n",
            "\n",
            "\n",
            "(3004, 10)\n",
            "False\n",
            "\n",
            "\n",
            "(3019, 10)\n",
            "False\n",
            "\n",
            "\n",
            "(3005, 10)\n",
            "False\n",
            "\n",
            "\n",
            "(3005, 10)\n",
            "False\n",
            "\n",
            "\n",
            "(3020, 10)\n",
            "False\n",
            "\n",
            "\n",
            "(3003, 10)\n",
            "False\n",
            "\n",
            "\n",
            "(3018, 10)\n",
            "False\n",
            "\n",
            "\n",
            "(3006, 10)\n",
            "False\n",
            "\n",
            "\n",
            "(3004, 10)\n",
            "False\n",
            "\n",
            "\n",
            "(3005, 10)\n",
            "False\n",
            "\n",
            "\n",
            "(3004, 10)\n",
            "False\n",
            "\n",
            "\n",
            "(3009, 10)\n",
            "False\n",
            "\n",
            "\n",
            "(3004, 10)\n",
            "False\n",
            "\n",
            "\n",
            "(3018, 10)\n",
            "False\n",
            "\n",
            "\n",
            "(3005, 10)\n",
            "False\n",
            "\n",
            "\n",
            "(3009, 10)\n",
            "False\n",
            "\n",
            "\n",
            "(3004, 10)\n",
            "False\n",
            "\n",
            "\n"
          ]
        }
      ],
      "source": [
        "preprocessed_parquet_dir = \"gs://sensordatalogger-logfiles.appspot.com/PreprocessedParquetFile/\"\n",
        "\n",
        "for i in range(len(parquet_file_paths)):\n",
        "    preprocessed_df = pd.read_parquet(parquet_file_paths[i], engine='auto')\n",
        "    parts = parquet_file_paths[i].split('/')\n",
        "    preprocessed_parquet_file_path = preprocessed_parquet_dir + parts[-1]\n",
        "\n",
        "    # drop null values\n",
        "    preprocessed_df.dropna(inplace=True)\n",
        "\n",
        "    # drop the rows where timestamp is 0\n",
        "    preprocessed_df = preprocessed_df[preprocessed_df['timestamp'] != 0]\n",
        "\n",
        "    index = 0\n",
        "\n",
        "    # split accelerometer and gyroscope data\n",
        "    for r in range(preprocessed_df.shape[0]):\n",
        "        if preprocessed_df['sensor'].iloc[r] == 'GYRO':\n",
        "            index = r\n",
        "            break;\n",
        "\n",
        "    signals_acce = preprocessed_df.values[:index, 1:6]\n",
        "    signals_gyro = preprocessed_df.values[index:, 1:6]\n",
        "\n",
        "    acce_row = signals_acce.shape[0]\n",
        "    gyro_row = signals_gyro.shape[0]\n",
        "    keep_row = min(acce_row, gyro_row)\n",
        "\n",
        "    signals_acce = signals_acce[:keep_row]\n",
        "    signals_gyro = signals_gyro[:keep_row]\n",
        "\n",
        "    acce_raw_df = pd.DataFrame(signals_acce, columns=['x', 'y', 'z', 'ts', 'label'])\n",
        "    gyro_raw_df = pd.DataFrame(signals_gyro, columns=['x2', 'y2', 'z2', 'ts2', 'label2'])\n",
        "\n",
        "    # sort in ascending order\n",
        "    acce_raw_df = acce_raw_df.sort_values(by = ['ts'], ignore_index=True)\n",
        "    gyro_raw_df = gyro_raw_df.sort_values(by = ['ts2'], ignore_index=True)\n",
        "\n",
        "    # combine and arrange side by side\n",
        "    final_df = pd.concat([acce_raw_df, gyro_raw_df], axis=1, join='outer')\n",
        "    final_df.to_parquet(preprocessed_parquet_file_path)\n",
        "\n",
        "    print(final_df.shape)\n",
        "    print(final_df.isnull().values.any())\n",
        "    print(\"\\n\")"
      ]
    },
    {
      "cell_type": "code",
      "execution_count": null,
      "id": "13d620ca",
      "metadata": {
        "colab": {
          "base_uri": "https://localhost:8080/",
          "height": 394
        },
        "id": "13d620ca",
        "outputId": "ccdd2c70-5e80-47f4-9421-768da5550743"
      },
      "outputs": [
        {
          "output_type": "error",
          "ename": "NameError",
          "evalue": "ignored",
          "traceback": [
            "\u001b[0;31m---------------------------------------------------------------------------\u001b[0m",
            "\u001b[0;31mNameError\u001b[0m                                 Traceback (most recent call last)",
            "\u001b[0;32m<ipython-input-1-c96ba5ab0ca2>\u001b[0m in \u001b[0;36m<cell line: 13>\u001b[0;34m()\u001b[0m\n\u001b[1;32m     11\u001b[0m         \u001b[0mpreprocessed_parquet_file_paths\u001b[0m\u001b[0;34m.\u001b[0m\u001b[0mappend\u001b[0m\u001b[0;34m(\u001b[0m\u001b[0mblob\u001b[0m\u001b[0;34m.\u001b[0m\u001b[0mname\u001b[0m\u001b[0;34m)\u001b[0m\u001b[0;34m\u001b[0m\u001b[0;34m\u001b[0m\u001b[0m\n\u001b[1;32m     12\u001b[0m \u001b[0;34m\u001b[0m\u001b[0m\n\u001b[0;32m---> 13\u001b[0;31m \u001b[0mget_preprocessed_parquet_files\u001b[0m\u001b[0;34m(\u001b[0m\u001b[0;34m)\u001b[0m\u001b[0;34m\u001b[0m\u001b[0;34m\u001b[0m\u001b[0m\n\u001b[0m\u001b[1;32m     14\u001b[0m \u001b[0mprint\u001b[0m\u001b[0;34m(\u001b[0m\u001b[0;34m\"List of parquet files:\"\u001b[0m\u001b[0;34m)\u001b[0m\u001b[0;34m\u001b[0m\u001b[0;34m\u001b[0m\u001b[0m\n\u001b[1;32m     15\u001b[0m \u001b[0mprint\u001b[0m\u001b[0;34m(\u001b[0m\u001b[0mpreprocessed_parquet_file_paths\u001b[0m\u001b[0;34m)\u001b[0m\u001b[0;34m\u001b[0m\u001b[0;34m\u001b[0m\u001b[0m\n",
            "\u001b[0;32m<ipython-input-1-c96ba5ab0ca2>\u001b[0m in \u001b[0;36mget_preprocessed_parquet_files\u001b[0;34m(project_id)\u001b[0m\n\u001b[1;32m      3\u001b[0m \u001b[0;34m\u001b[0m\u001b[0m\n\u001b[1;32m      4\u001b[0m \u001b[0;32mdef\u001b[0m \u001b[0mget_preprocessed_parquet_files\u001b[0m\u001b[0;34m(\u001b[0m\u001b[0mproject_id\u001b[0m\u001b[0;34m=\u001b[0m\u001b[0;34m\"sensordatalogger-logfiles\"\u001b[0m\u001b[0;34m)\u001b[0m\u001b[0;34m:\u001b[0m\u001b[0;34m\u001b[0m\u001b[0;34m\u001b[0m\u001b[0m\n\u001b[0;32m----> 5\u001b[0;31m     \u001b[0mstorage_client\u001b[0m \u001b[0;34m=\u001b[0m \u001b[0mstorage\u001b[0m\u001b[0;34m.\u001b[0m\u001b[0mClient\u001b[0m\u001b[0;34m(\u001b[0m\u001b[0mproject\u001b[0m\u001b[0;34m=\u001b[0m\u001b[0mproject_id\u001b[0m\u001b[0;34m)\u001b[0m\u001b[0;34m\u001b[0m\u001b[0;34m\u001b[0m\u001b[0m\n\u001b[0m\u001b[1;32m      6\u001b[0m     \u001b[0mbucket\u001b[0m \u001b[0;34m=\u001b[0m \u001b[0mstorage\u001b[0m\u001b[0;34m.\u001b[0m\u001b[0mBucket\u001b[0m\u001b[0;34m(\u001b[0m\u001b[0mstorage_client\u001b[0m\u001b[0;34m,\u001b[0m \u001b[0;34m'sensordatalogger-logfiles.appspot.com'\u001b[0m\u001b[0;34m)\u001b[0m\u001b[0;34m\u001b[0m\u001b[0;34m\u001b[0m\u001b[0m\n\u001b[1;32m      7\u001b[0m     \u001b[0mstr_folder_name_on_gcs\u001b[0m \u001b[0;34m=\u001b[0m \u001b[0;34m'PreprocessedParquetFile/'\u001b[0m\u001b[0;34m\u001b[0m\u001b[0;34m\u001b[0m\u001b[0m\n",
            "\u001b[0;31mNameError\u001b[0m: name 'storage' is not defined"
          ]
        }
      ],
      "source": [
        "# get preprocessed file path\n",
        "preprocessed_parquet_file_paths = []\n",
        "\n",
        "def get_preprocessed_parquet_files(project_id=\"sensordatalogger-logfiles\"):\n",
        "    storage_client = storage.Client(project=project_id)\n",
        "    bucket = storage.Bucket(storage_client, 'sensordatalogger-logfiles.appspot.com')\n",
        "    str_folder_name_on_gcs = 'PreprocessedParquetFile/'\n",
        "    blobs = bucket.list_blobs(prefix=str_folder_name_on_gcs)\n",
        "    print(\"Blob name:\")\n",
        "    for blob in blobs:\n",
        "        preprocessed_parquet_file_paths.append(blob.name)\n",
        "\n",
        "get_preprocessed_parquet_files()\n",
        "print(\"List of parquet files:\")\n",
        "print(preprocessed_parquet_file_paths)"
      ]
    },
    {
      "cell_type": "code",
      "execution_count": null,
      "id": "5d9a3f80",
      "metadata": {
        "colab": {
          "base_uri": "https://localhost:8080/"
        },
        "id": "5d9a3f80",
        "outputId": "e18072d2-6700-46cd-d684-a2e830ac7ac9"
      },
      "outputs": [
        {
          "output_type": "stream",
          "name": "stdout",
          "text": [
            "gs://sensordatalogger-logfiles.appspot.com/PreprocessedParquetFile/Log_1_20230814202506.parquet\n",
            "gs://sensordatalogger-logfiles.appspot.com/PreprocessedParquetFile/Log_1_20230814202822.parquet\n",
            "gs://sensordatalogger-logfiles.appspot.com/PreprocessedParquetFile/Log_1_20230814203019.parquet\n",
            "gs://sensordatalogger-logfiles.appspot.com/PreprocessedParquetFile/Log_1_20230910133848.parquet\n",
            "gs://sensordatalogger-logfiles.appspot.com/PreprocessedParquetFile/Log_1_20230910134100.parquet\n",
            "gs://sensordatalogger-logfiles.appspot.com/PreprocessedParquetFile/Log_2_20230815131944.parquet\n",
            "gs://sensordatalogger-logfiles.appspot.com/PreprocessedParquetFile/Log_2_20230815132233.parquet\n",
            "gs://sensordatalogger-logfiles.appspot.com/PreprocessedParquetFile/Log_2_20230815132348.parquet\n",
            "gs://sensordatalogger-logfiles.appspot.com/PreprocessedParquetFile/Log_2_20230910134549.parquet\n",
            "gs://sensordatalogger-logfiles.appspot.com/PreprocessedParquetFile/Log_2_20230910134701.parquet\n",
            "gs://sensordatalogger-logfiles.appspot.com/PreprocessedParquetFile/Log_3_20230910135254.parquet\n",
            "gs://sensordatalogger-logfiles.appspot.com/PreprocessedParquetFile/Log_3_20230910135506.parquet\n",
            "gs://sensordatalogger-logfiles.appspot.com/PreprocessedParquetFile/Log_3_20230910135659.parquet\n",
            "gs://sensordatalogger-logfiles.appspot.com/PreprocessedParquetFile/Log_3_20230910135917.parquet\n",
            "gs://sensordatalogger-logfiles.appspot.com/PreprocessedParquetFile/Log_3_20230910140101.parquet\n",
            "gs://sensordatalogger-logfiles.appspot.com/PreprocessedParquetFile/Log_3_20230910140320.parquet\n",
            "gs://sensordatalogger-logfiles.appspot.com/PreprocessedParquetFile/Log_3_20230910140552.parquet\n",
            "gs://sensordatalogger-logfiles.appspot.com/PreprocessedParquetFile/Log_3_20230910140728.parquet\n",
            "gs://sensordatalogger-logfiles.appspot.com/PreprocessedParquetFile/Log_3_20230910140921.parquet\n",
            "gs://sensordatalogger-logfiles.appspot.com/PreprocessedParquetFile/Log_3_20230910141143.parquet\n",
            "gs://sensordatalogger-logfiles.appspot.com/PreprocessedParquetFile/Log_4_20230910135127.parquet\n",
            "gs://sensordatalogger-logfiles.appspot.com/PreprocessedParquetFile/Log_4_20230910135350.parquet\n",
            "gs://sensordatalogger-logfiles.appspot.com/PreprocessedParquetFile/Log_4_20230910135604.parquet\n",
            "gs://sensordatalogger-logfiles.appspot.com/PreprocessedParquetFile/Log_4_20230910135755.parquet\n",
            "gs://sensordatalogger-logfiles.appspot.com/PreprocessedParquetFile/Log_4_20230910140005.parquet\n",
            "gs://sensordatalogger-logfiles.appspot.com/PreprocessedParquetFile/Log_4_20230910140203.parquet\n",
            "gs://sensordatalogger-logfiles.appspot.com/PreprocessedParquetFile/Log_4_20230910140416.parquet\n",
            "gs://sensordatalogger-logfiles.appspot.com/PreprocessedParquetFile/Log_4_20230910140638.parquet\n",
            "gs://sensordatalogger-logfiles.appspot.com/PreprocessedParquetFile/Log_4_20230910140817.parquet\n",
            "gs://sensordatalogger-logfiles.appspot.com/PreprocessedParquetFile/Log_4_20230910141013.parquet\n"
          ]
        }
      ],
      "source": [
        "# format file name\n",
        "for i in range(len(preprocessed_parquet_file_paths)):\n",
        "    preprocessed_parquet_file_paths[i] = \"gs://sensordatalogger-logfiles.appspot.com/\" + preprocessed_parquet_file_paths[i]\n",
        "    print(preprocessed_parquet_file_paths[i])"
      ]
    },
    {
      "cell_type": "code",
      "execution_count": null,
      "id": "4905ba39",
      "metadata": {
        "colab": {
          "base_uri": "https://localhost:8080/"
        },
        "id": "4905ba39",
        "outputId": "bbd1c46a-2cb5-42da-e901-506b3ec8a493"
      },
      "outputs": [
        {
          "output_type": "stream",
          "name": "stdout",
          "text": [
            "False\n",
            "False\n",
            "False\n",
            "False\n",
            "False\n",
            "False\n",
            "False\n",
            "False\n",
            "False\n",
            "False\n",
            "False\n",
            "False\n",
            "False\n",
            "False\n",
            "False\n",
            "False\n",
            "False\n",
            "False\n",
            "False\n",
            "False\n",
            "False\n",
            "False\n",
            "False\n",
            "False\n",
            "False\n",
            "False\n",
            "False\n",
            "False\n",
            "False\n",
            "False\n"
          ]
        }
      ],
      "source": [
        "for i in range(len(preprocessed_parquet_file_paths)):\n",
        "    df = pd.read_parquet(preprocessed_parquet_file_paths[i], engine='auto')\n",
        "    print(df.isnull().values.any())"
      ]
    },
    {
      "cell_type": "markdown",
      "id": "53d34b5b",
      "metadata": {
        "id": "53d34b5b"
      },
      "source": [
        "### Combine Data For Each Activity"
      ]
    },
    {
      "cell_type": "code",
      "execution_count": null,
      "id": "f71c8a8f",
      "metadata": {
        "colab": {
          "base_uri": "https://localhost:8080/"
        },
        "id": "f71c8a8f",
        "outputId": "99c0b067-5444-454f-d071-e792d843a9d5"
      },
      "outputs": [
        {
          "output_type": "stream",
          "name": "stdout",
          "text": [
            "{'1': ['gs://sensordatalogger-logfiles.appspot.com/PreprocessedParquetFile/Log_1_20230814202506.parquet', 'gs://sensordatalogger-logfiles.appspot.com/PreprocessedParquetFile/Log_1_20230814202822.parquet', 'gs://sensordatalogger-logfiles.appspot.com/PreprocessedParquetFile/Log_1_20230814203019.parquet', 'gs://sensordatalogger-logfiles.appspot.com/PreprocessedParquetFile/Log_1_20230910133848.parquet', 'gs://sensordatalogger-logfiles.appspot.com/PreprocessedParquetFile/Log_1_20230910134100.parquet'], '2': ['gs://sensordatalogger-logfiles.appspot.com/PreprocessedParquetFile/Log_2_20230815131944.parquet', 'gs://sensordatalogger-logfiles.appspot.com/PreprocessedParquetFile/Log_2_20230815132233.parquet', 'gs://sensordatalogger-logfiles.appspot.com/PreprocessedParquetFile/Log_2_20230815132348.parquet', 'gs://sensordatalogger-logfiles.appspot.com/PreprocessedParquetFile/Log_2_20230910134549.parquet', 'gs://sensordatalogger-logfiles.appspot.com/PreprocessedParquetFile/Log_2_20230910134701.parquet'], '3': ['gs://sensordatalogger-logfiles.appspot.com/PreprocessedParquetFile/Log_3_20230910135254.parquet', 'gs://sensordatalogger-logfiles.appspot.com/PreprocessedParquetFile/Log_3_20230910135506.parquet', 'gs://sensordatalogger-logfiles.appspot.com/PreprocessedParquetFile/Log_3_20230910135659.parquet', 'gs://sensordatalogger-logfiles.appspot.com/PreprocessedParquetFile/Log_3_20230910135917.parquet', 'gs://sensordatalogger-logfiles.appspot.com/PreprocessedParquetFile/Log_3_20230910140101.parquet', 'gs://sensordatalogger-logfiles.appspot.com/PreprocessedParquetFile/Log_3_20230910140320.parquet', 'gs://sensordatalogger-logfiles.appspot.com/PreprocessedParquetFile/Log_3_20230910140552.parquet', 'gs://sensordatalogger-logfiles.appspot.com/PreprocessedParquetFile/Log_3_20230910140728.parquet', 'gs://sensordatalogger-logfiles.appspot.com/PreprocessedParquetFile/Log_3_20230910140921.parquet', 'gs://sensordatalogger-logfiles.appspot.com/PreprocessedParquetFile/Log_3_20230910141143.parquet'], '4': ['gs://sensordatalogger-logfiles.appspot.com/PreprocessedParquetFile/Log_4_20230910135127.parquet', 'gs://sensordatalogger-logfiles.appspot.com/PreprocessedParquetFile/Log_4_20230910135350.parquet', 'gs://sensordatalogger-logfiles.appspot.com/PreprocessedParquetFile/Log_4_20230910135604.parquet', 'gs://sensordatalogger-logfiles.appspot.com/PreprocessedParquetFile/Log_4_20230910135755.parquet', 'gs://sensordatalogger-logfiles.appspot.com/PreprocessedParquetFile/Log_4_20230910140005.parquet', 'gs://sensordatalogger-logfiles.appspot.com/PreprocessedParquetFile/Log_4_20230910140203.parquet', 'gs://sensordatalogger-logfiles.appspot.com/PreprocessedParquetFile/Log_4_20230910140416.parquet', 'gs://sensordatalogger-logfiles.appspot.com/PreprocessedParquetFile/Log_4_20230910140638.parquet', 'gs://sensordatalogger-logfiles.appspot.com/PreprocessedParquetFile/Log_4_20230910140817.parquet', 'gs://sensordatalogger-logfiles.appspot.com/PreprocessedParquetFile/Log_4_20230910141013.parquet']}\n"
          ]
        }
      ],
      "source": [
        "# combine file paths\n",
        "same_activity_file_paths = {}\n",
        "\n",
        "for i in range(len(preprocessed_parquet_file_paths)):\n",
        "    p1 = preprocessed_parquet_file_paths[i].split('/')[-1]\n",
        "    p2 = p1.split('_')[1]\n",
        "\n",
        "    if p2 in same_activity_file_paths:\n",
        "        same_activity_file_paths[p2].append(preprocessed_parquet_file_paths[i])\n",
        "    else:\n",
        "        same_activity_file_paths[p2] = [preprocessed_parquet_file_paths[i]]\n",
        "\n",
        "print(same_activity_file_paths)"
      ]
    },
    {
      "cell_type": "code",
      "execution_count": null,
      "id": "ed2ff592",
      "metadata": {
        "colab": {
          "base_uri": "https://localhost:8080/"
        },
        "id": "ed2ff592",
        "outputId": "a12f51ae-901a-41a0-c70a-f587cd25388b"
      },
      "outputs": [
        {
          "output_type": "stream",
          "name": "stdout",
          "text": [
            "1\n",
            "gs://sensordatalogger-logfiles.appspot.com/ActivityParquetFile/Log_1.parquet\n",
            "[10, 10, 10, 10, 10]\n",
            "The files have similar number of columns.\n",
            "(30049, 10)\n",
            "\n",
            "\n",
            "2\n",
            "gs://sensordatalogger-logfiles.appspot.com/ActivityParquetFile/Log_2.parquet\n",
            "[10, 10, 10, 10, 10]\n",
            "The files have similar number of columns.\n",
            "(30040, 10)\n",
            "\n",
            "\n",
            "3\n",
            "gs://sensordatalogger-logfiles.appspot.com/ActivityParquetFile/Log_3.parquet\n",
            "[10, 10, 10, 10, 10, 10, 10, 10, 10, 10]\n",
            "The files have similar number of columns.\n",
            "(30088, 10)\n",
            "\n",
            "\n",
            "4\n",
            "gs://sensordatalogger-logfiles.appspot.com/ActivityParquetFile/Log_4.parquet\n",
            "[10, 10, 10, 10, 10, 10, 10, 10, 10, 10]\n",
            "The files have similar number of columns.\n",
            "(30068, 10)\n",
            "\n",
            "\n"
          ]
        }
      ],
      "source": [
        "# combine files for each activity\n",
        "\n",
        "activity_file_dir = 'gs://sensordatalogger-logfiles.appspot.com/ActivityParquetFile/'\n",
        "column_names = ['x', 'y', 'z', 'ts', 'label', 'x2', 'y2', 'z2', 'ts2', 'label2']\n",
        "\n",
        "for key in same_activity_file_paths:\n",
        "    activity_list = []\n",
        "    same_activity_df = pd.DataFrame()\n",
        "\n",
        "    print(key)\n",
        "\n",
        "    # change data to numpy and append to activity_list\n",
        "    for l in range(len(same_activity_file_paths[key])):\n",
        "        activity_df = pd.read_parquet(same_activity_file_paths[key][l], engine='auto')\n",
        "        activity_np = activity_df.to_numpy()\n",
        "        activity_list.append(activity_np)\n",
        "\n",
        "        if l == 0:\n",
        "            parts = same_activity_file_paths[key][l].split('/')\n",
        "            parts2 = parts[-1].split('_')[0] + '_' + parts[-1].split('_')[1] + '.parquet'\n",
        "            activity_parquet_file_path = activity_file_dir + parts2\n",
        "            print(activity_parquet_file_path)\n",
        "\n",
        "    # Check if all elements in num_columns_list are the same\n",
        "    num_columns_list = [array.shape[1] for array in activity_list]\n",
        "    print(num_columns_list)\n",
        "\n",
        "    if all(num == num_columns_list[0] for num in num_columns_list):\n",
        "        print(\"The files have similar number of columns.\")\n",
        "    else:\n",
        "        print(\"The files does not have similar number of columns.\")\n",
        "\n",
        "    # append data to file\n",
        "    for n in range(len(activity_list)):\n",
        "        df = pd.DataFrame(activity_list[n])\n",
        "        same_activity_df = pd.concat([same_activity_df, df], ignore_index=True)\n",
        "\n",
        "    same_activity_df.columns = column_names\n",
        "    same_activity_df.to_parquet(activity_parquet_file_path)\n",
        "\n",
        "    #print(same_activity_df)\n",
        "    print(same_activity_df.shape)\n",
        "    print('\\n')"
      ]
    },
    {
      "cell_type": "code",
      "execution_count": null,
      "id": "cb872074",
      "metadata": {
        "colab": {
          "base_uri": "https://localhost:8080/"
        },
        "id": "cb872074",
        "outputId": "f13576ff-27fb-44cc-f011-2023d9adb18a"
      },
      "outputs": [
        {
          "output_type": "stream",
          "name": "stdout",
          "text": [
            "Blob name:\n",
            "List of parquet files:\n",
            "['ActivityParquetFile/Log_1.parquet', 'ActivityParquetFile/Log_2.parquet', 'ActivityParquetFile/Log_3.parquet', 'ActivityParquetFile/Log_4.parquet']\n"
          ]
        }
      ],
      "source": [
        "# get files\n",
        "activity_parquet_file_paths = []\n",
        "\n",
        "def get_activity_parquet_files(project_id=\"sensordatalogger-logfiles\"):\n",
        "    storage_client = storage.Client(project=project_id)\n",
        "    bucket = storage.Bucket(storage_client, 'sensordatalogger-logfiles.appspot.com')\n",
        "    str_folder_name_on_gcs = 'ActivityParquetFile/'\n",
        "    blobs = bucket.list_blobs(prefix=str_folder_name_on_gcs)\n",
        "    print(\"Blob name:\")\n",
        "    for blob in blobs:\n",
        "        activity_parquet_file_paths.append(blob.name)\n",
        "\n",
        "get_activity_parquet_files()\n",
        "print(\"List of parquet files:\")\n",
        "print(activity_parquet_file_paths)"
      ]
    },
    {
      "cell_type": "code",
      "execution_count": null,
      "id": "ef8639bb",
      "metadata": {
        "colab": {
          "base_uri": "https://localhost:8080/"
        },
        "id": "ef8639bb",
        "outputId": "94ca8461-bfa2-48ef-89ce-4a209b626a6b"
      },
      "outputs": [
        {
          "output_type": "stream",
          "name": "stdout",
          "text": [
            "gs://sensordatalogger-logfiles.appspot.com/ActivityParquetFile/Log_1.parquet\n",
            "gs://sensordatalogger-logfiles.appspot.com/ActivityParquetFile/Log_2.parquet\n",
            "gs://sensordatalogger-logfiles.appspot.com/ActivityParquetFile/Log_3.parquet\n",
            "gs://sensordatalogger-logfiles.appspot.com/ActivityParquetFile/Log_4.parquet\n"
          ]
        }
      ],
      "source": [
        "# format file name\n",
        "for i in range(len(activity_parquet_file_paths)):\n",
        "    activity_parquet_file_paths[i] = \"gs://sensordatalogger-logfiles.appspot.com/\" + activity_parquet_file_paths[i]\n",
        "    print(activity_parquet_file_paths[i])"
      ]
    },
    {
      "cell_type": "code",
      "execution_count": null,
      "id": "e723caf9",
      "metadata": {
        "id": "e723caf9"
      },
      "outputs": [],
      "source": [
        "# sort values in ascending order of ts, ts2\n",
        "for i in range(len(activity_parquet_file_paths)):\n",
        "    activity_df = pd.read_parquet(activity_parquet_file_paths[i], engine='auto')\n",
        "    activity_df = activity_df.sort_values(by = ['ts', 'ts2'], ignore_index=True)\n",
        "    activity_df.to_parquet(activity_parquet_file_paths[i])"
      ]
    },
    {
      "cell_type": "markdown",
      "id": "1f76106e",
      "metadata": {
        "id": "1f76106e"
      },
      "source": [
        "### Combine Data For All Activity"
      ]
    },
    {
      "cell_type": "code",
      "execution_count": null,
      "id": "5e737390",
      "metadata": {
        "colab": {
          "base_uri": "https://localhost:8080/"
        },
        "id": "5e737390",
        "outputId": "c6e63688-c84b-482c-8556-603adc291a15"
      },
      "outputs": [
        {
          "output_type": "stream",
          "name": "stdout",
          "text": [
            "           x     y     z            ts  label    x2    y2    z2           ts2  \\\n",
            "0      -0.58  9.71 -0.22  2.996743e+08      1 -0.03 -0.05  0.02  2.996743e+08   \n",
            "1      -0.58  9.74 -0.23  2.996743e+08      1 -0.04 -0.04  0.02  2.996743e+08   \n",
            "2      -0.59  9.76 -0.23  2.996743e+08      1 -0.05 -0.03  0.02  2.996743e+08   \n",
            "3      -0.58  9.76 -0.22  2.996743e+08      1 -0.05 -0.01  0.03  2.996743e+08   \n",
            "4      -0.58  9.77 -0.22  2.996743e+08      1 -0.06  0.01  0.03  2.996743e+08   \n",
            "...      ...   ...   ...           ...    ...   ...   ...   ...           ...   \n",
            "120240 -0.36  9.89  0.32  2.610039e+09      4 -0.01 -0.05 -0.00  2.610039e+09   \n",
            "120241 -0.35  9.87  0.35  2.610039e+09      4 -0.01 -0.05 -0.00  2.610039e+09   \n",
            "120242 -0.34  9.84  0.38  2.610039e+09      4 -0.00 -0.05 -0.00  2.610039e+09   \n",
            "120243 -0.33  9.82  0.39  2.610039e+09      4  0.01 -0.05 -0.00  2.610039e+09   \n",
            "120244 -0.31  9.82  0.40  2.610039e+09      4  0.02 -0.05  0.00  2.610039e+09   \n",
            "\n",
            "        label2  \n",
            "0            1  \n",
            "1            1  \n",
            "2            1  \n",
            "3            1  \n",
            "4            1  \n",
            "...        ...  \n",
            "120240       4  \n",
            "120241       4  \n",
            "120242       4  \n",
            "120243       4  \n",
            "120244       4  \n",
            "\n",
            "[120245 rows x 10 columns]\n",
            "(120245, 10)\n"
          ]
        }
      ],
      "source": [
        "# combine vertically - keep timestamp\n",
        "har_df = pd.DataFrame()\n",
        "\n",
        "for k in range(len(activity_parquet_file_paths)):\n",
        "    df = pd.read_parquet(activity_parquet_file_paths[k], engine='auto')\n",
        "    df['label'] = df['label'].astype(int)\n",
        "    df['label2'] = df['label2'].astype(int)\n",
        "    har_df = pd.concat([har_df, df], axis=0, ignore_index=True)\n",
        "\n",
        "har_df.to_parquet('gs://sensordatalogger-logfiles.appspot.com/time_har.parquet', engine='auto', index=False)\n",
        "print(har_df)\n",
        "print(har_df.shape)"
      ]
    },
    {
      "cell_type": "code",
      "execution_count": null,
      "id": "fb7a6a44",
      "metadata": {
        "colab": {
          "base_uri": "https://localhost:8080/"
        },
        "id": "fb7a6a44",
        "outputId": "e1752ef2-7aaf-4d71-c8e0-414a654331f9"
      },
      "outputs": [
        {
          "output_type": "stream",
          "name": "stdout",
          "text": [
            "           x     y     z    x2    y2    z2  label\n",
            "0      -0.58  9.71 -0.22 -0.03 -0.05  0.02      1\n",
            "1      -0.58  9.74 -0.23 -0.04 -0.04  0.02      1\n",
            "2      -0.59  9.76 -0.23 -0.05 -0.03  0.02      1\n",
            "3      -0.58  9.76 -0.22 -0.05 -0.01  0.03      1\n",
            "4      -0.58  9.77 -0.22 -0.06  0.01  0.03      1\n",
            "...      ...   ...   ...   ...   ...   ...    ...\n",
            "120240 -0.36  9.89  0.32 -0.01 -0.05 -0.00      4\n",
            "120241 -0.35  9.87  0.35 -0.01 -0.05 -0.00      4\n",
            "120242 -0.34  9.84  0.38 -0.00 -0.05 -0.00      4\n",
            "120243 -0.33  9.82  0.39  0.01 -0.05 -0.00      4\n",
            "120244 -0.31  9.82  0.40  0.02 -0.05  0.00      4\n",
            "\n",
            "[120245 rows x 7 columns]\n",
            "(120245, 7)\n"
          ]
        }
      ],
      "source": [
        "# combine vertically - without timestamp\n",
        "har_df = pd.DataFrame()\n",
        "\n",
        "for k in range(len(activity_parquet_file_paths)):\n",
        "    df = pd.read_parquet(activity_parquet_file_paths[k], engine='auto')\n",
        "    df.drop(['ts', 'ts2', 'label'], axis=1, inplace=True)\n",
        "    df.rename(columns = {'label2':'label'}, inplace = True)\n",
        "    df['label'] = df['label'].astype(int)\n",
        "    har_df = pd.concat([har_df, df], axis=0, ignore_index=True)\n",
        "\n",
        "har_df.to_parquet('gs://sensordatalogger-logfiles.appspot.com/har.parquet', engine='auto', index=False)\n",
        "print(har_df)\n",
        "print(har_df.shape)"
      ]
    },
    {
      "cell_type": "markdown",
      "id": "228ee5a8",
      "metadata": {
        "id": "228ee5a8"
      },
      "source": [
        "### Final Dataset"
      ]
    },
    {
      "cell_type": "code",
      "execution_count": null,
      "id": "03178cd3",
      "metadata": {
        "colab": {
          "base_uri": "https://localhost:8080/"
        },
        "id": "03178cd3",
        "outputId": "433ef0cd-2c7c-41d4-dede-86de462494c9"
      },
      "outputs": [
        {
          "output_type": "stream",
          "name": "stdout",
          "text": [
            "[[-0.58  9.71 -0.22 -0.03 -0.05  0.02]\n",
            " [-0.58  9.74 -0.23 -0.04 -0.04  0.02]\n",
            " [-0.59  9.76 -0.23 -0.05 -0.03  0.02]\n",
            " ...\n",
            " [-0.34  9.84  0.38 -0.   -0.05 -0.  ]\n",
            " [-0.33  9.82  0.39  0.01 -0.05 -0.  ]\n",
            " [-0.31  9.82  0.4   0.02 -0.05  0.  ]]\n",
            "[1 1 1 ... 4 4 4]\n",
            "(120245, 6)\n",
            "(120245,)\n"
          ]
        }
      ],
      "source": [
        "final_df = pd.read_parquet(\"gs://sensordatalogger-logfiles.appspot.com/har.parquet\", engine='auto')\n",
        "\n",
        "signals = final_df.iloc[:, :-1]\n",
        "signals = np.array(signals, dtype=np.float32)\n",
        "\n",
        "labels = final_df.iloc[:, -1]\n",
        "labels = np.array(labels, dtype=np.int64)\n",
        "\n",
        "print(signals)\n",
        "print(labels)\n",
        "print(signals.shape)\n",
        "print(labels.shape)"
      ]
    },
    {
      "cell_type": "markdown",
      "id": "91be39d7",
      "metadata": {
        "id": "91be39d7"
      },
      "source": [
        "## Exploratory Data Analysis"
      ]
    },
    {
      "cell_type": "code",
      "execution_count": null,
      "id": "55ec1e7e",
      "metadata": {
        "id": "55ec1e7e"
      },
      "outputs": [],
      "source": [
        "explore_df = pd.read_parquet(\"gs://sensordatalogger-logfiles.appspot.com/har.parquet\", engine='auto')"
      ]
    },
    {
      "cell_type": "code",
      "execution_count": null,
      "id": "a94a5087",
      "metadata": {
        "colab": {
          "base_uri": "https://localhost:8080/"
        },
        "id": "a94a5087",
        "outputId": "70125050-dd12-4524-ab2b-16aee960e3f1"
      },
      "outputs": [
        {
          "output_type": "execute_result",
          "data": {
            "text/plain": [
              "(120245, 7)"
            ]
          },
          "metadata": {},
          "execution_count": 26
        }
      ],
      "source": [
        "explore_df.shape"
      ]
    },
    {
      "cell_type": "code",
      "execution_count": null,
      "id": "73e2efff",
      "metadata": {
        "scrolled": true,
        "colab": {
          "base_uri": "https://localhost:8080/"
        },
        "id": "73e2efff",
        "outputId": "7dd5769a-6c39-4a01-9e03-17a39ca7d43f"
      },
      "outputs": [
        {
          "output_type": "stream",
          "name": "stdout",
          "text": [
            "<class 'pandas.core.frame.DataFrame'>\n",
            "RangeIndex: 120245 entries, 0 to 120244\n",
            "Data columns (total 7 columns):\n",
            " #   Column  Non-Null Count   Dtype  \n",
            "---  ------  --------------   -----  \n",
            " 0   x       120245 non-null  float64\n",
            " 1   y       120245 non-null  float64\n",
            " 2   z       120245 non-null  float64\n",
            " 3   x2      120245 non-null  float64\n",
            " 4   y2      120245 non-null  float64\n",
            " 5   z2      120245 non-null  float64\n",
            " 6   label   120245 non-null  int64  \n",
            "dtypes: float64(6), int64(1)\n",
            "memory usage: 6.4 MB\n"
          ]
        }
      ],
      "source": [
        "explore_df.info()"
      ]
    },
    {
      "cell_type": "code",
      "execution_count": null,
      "id": "27253a2d",
      "metadata": {
        "colab": {
          "base_uri": "https://localhost:8080/",
          "height": 300
        },
        "id": "27253a2d",
        "outputId": "e371bfff-a614-4c16-d087-0c680caaef25"
      },
      "outputs": [
        {
          "output_type": "execute_result",
          "data": {
            "text/plain": [
              "                   x              y              z             x2  \\\n",
              "count  120245.000000  120245.000000  120245.000000  120245.000000   \n",
              "mean       -0.151056       9.628805      -0.740232       0.004703   \n",
              "std         1.559903       2.348864       2.022521       0.710679   \n",
              "min       -11.060000       1.270000     -10.190000      -1.800000   \n",
              "25%        -0.920000       8.400000      -1.850000      -0.460000   \n",
              "50%        -0.340000       9.740000      -0.390000       0.000000   \n",
              "75%         1.050000      10.120000       0.030000       0.170000   \n",
              "max        10.510000      28.430000      11.010000       3.230000   \n",
              "\n",
              "                  y2             z2          label  \n",
              "count  120245.000000  120245.000000  120245.000000  \n",
              "mean       -0.006436      -0.003936       2.500437  \n",
              "std         0.593695       0.309292       1.117998  \n",
              "min        -4.290000      -1.550000       1.000000  \n",
              "25%        -0.240000      -0.180000       2.000000  \n",
              "50%         0.000000       0.000000       3.000000  \n",
              "75%         0.240000       0.170000       4.000000  \n",
              "max         4.230000       1.440000       4.000000  "
            ],
            "text/html": [
              "\n",
              "  <div id=\"df-d1283d83-b5e7-47af-8d36-d8f32b12dfe7\" class=\"colab-df-container\">\n",
              "    <div>\n",
              "<style scoped>\n",
              "    .dataframe tbody tr th:only-of-type {\n",
              "        vertical-align: middle;\n",
              "    }\n",
              "\n",
              "    .dataframe tbody tr th {\n",
              "        vertical-align: top;\n",
              "    }\n",
              "\n",
              "    .dataframe thead th {\n",
              "        text-align: right;\n",
              "    }\n",
              "</style>\n",
              "<table border=\"1\" class=\"dataframe\">\n",
              "  <thead>\n",
              "    <tr style=\"text-align: right;\">\n",
              "      <th></th>\n",
              "      <th>x</th>\n",
              "      <th>y</th>\n",
              "      <th>z</th>\n",
              "      <th>x2</th>\n",
              "      <th>y2</th>\n",
              "      <th>z2</th>\n",
              "      <th>label</th>\n",
              "    </tr>\n",
              "  </thead>\n",
              "  <tbody>\n",
              "    <tr>\n",
              "      <th>count</th>\n",
              "      <td>120245.000000</td>\n",
              "      <td>120245.000000</td>\n",
              "      <td>120245.000000</td>\n",
              "      <td>120245.000000</td>\n",
              "      <td>120245.000000</td>\n",
              "      <td>120245.000000</td>\n",
              "      <td>120245.000000</td>\n",
              "    </tr>\n",
              "    <tr>\n",
              "      <th>mean</th>\n",
              "      <td>-0.151056</td>\n",
              "      <td>9.628805</td>\n",
              "      <td>-0.740232</td>\n",
              "      <td>0.004703</td>\n",
              "      <td>-0.006436</td>\n",
              "      <td>-0.003936</td>\n",
              "      <td>2.500437</td>\n",
              "    </tr>\n",
              "    <tr>\n",
              "      <th>std</th>\n",
              "      <td>1.559903</td>\n",
              "      <td>2.348864</td>\n",
              "      <td>2.022521</td>\n",
              "      <td>0.710679</td>\n",
              "      <td>0.593695</td>\n",
              "      <td>0.309292</td>\n",
              "      <td>1.117998</td>\n",
              "    </tr>\n",
              "    <tr>\n",
              "      <th>min</th>\n",
              "      <td>-11.060000</td>\n",
              "      <td>1.270000</td>\n",
              "      <td>-10.190000</td>\n",
              "      <td>-1.800000</td>\n",
              "      <td>-4.290000</td>\n",
              "      <td>-1.550000</td>\n",
              "      <td>1.000000</td>\n",
              "    </tr>\n",
              "    <tr>\n",
              "      <th>25%</th>\n",
              "      <td>-0.920000</td>\n",
              "      <td>8.400000</td>\n",
              "      <td>-1.850000</td>\n",
              "      <td>-0.460000</td>\n",
              "      <td>-0.240000</td>\n",
              "      <td>-0.180000</td>\n",
              "      <td>2.000000</td>\n",
              "    </tr>\n",
              "    <tr>\n",
              "      <th>50%</th>\n",
              "      <td>-0.340000</td>\n",
              "      <td>9.740000</td>\n",
              "      <td>-0.390000</td>\n",
              "      <td>0.000000</td>\n",
              "      <td>0.000000</td>\n",
              "      <td>0.000000</td>\n",
              "      <td>3.000000</td>\n",
              "    </tr>\n",
              "    <tr>\n",
              "      <th>75%</th>\n",
              "      <td>1.050000</td>\n",
              "      <td>10.120000</td>\n",
              "      <td>0.030000</td>\n",
              "      <td>0.170000</td>\n",
              "      <td>0.240000</td>\n",
              "      <td>0.170000</td>\n",
              "      <td>4.000000</td>\n",
              "    </tr>\n",
              "    <tr>\n",
              "      <th>max</th>\n",
              "      <td>10.510000</td>\n",
              "      <td>28.430000</td>\n",
              "      <td>11.010000</td>\n",
              "      <td>3.230000</td>\n",
              "      <td>4.230000</td>\n",
              "      <td>1.440000</td>\n",
              "      <td>4.000000</td>\n",
              "    </tr>\n",
              "  </tbody>\n",
              "</table>\n",
              "</div>\n",
              "    <div class=\"colab-df-buttons\">\n",
              "\n",
              "  <div class=\"colab-df-container\">\n",
              "    <button class=\"colab-df-convert\" onclick=\"convertToInteractive('df-d1283d83-b5e7-47af-8d36-d8f32b12dfe7')\"\n",
              "            title=\"Convert this dataframe to an interactive table.\"\n",
              "            style=\"display:none;\">\n",
              "\n",
              "  <svg xmlns=\"http://www.w3.org/2000/svg\" height=\"24px\" viewBox=\"0 -960 960 960\">\n",
              "    <path d=\"M120-120v-720h720v720H120Zm60-500h600v-160H180v160Zm220 220h160v-160H400v160Zm0 220h160v-160H400v160ZM180-400h160v-160H180v160Zm440 0h160v-160H620v160ZM180-180h160v-160H180v160Zm440 0h160v-160H620v160Z\"/>\n",
              "  </svg>\n",
              "    </button>\n",
              "\n",
              "  <style>\n",
              "    .colab-df-container {\n",
              "      display:flex;\n",
              "      gap: 12px;\n",
              "    }\n",
              "\n",
              "    .colab-df-convert {\n",
              "      background-color: #E8F0FE;\n",
              "      border: none;\n",
              "      border-radius: 50%;\n",
              "      cursor: pointer;\n",
              "      display: none;\n",
              "      fill: #1967D2;\n",
              "      height: 32px;\n",
              "      padding: 0 0 0 0;\n",
              "      width: 32px;\n",
              "    }\n",
              "\n",
              "    .colab-df-convert:hover {\n",
              "      background-color: #E2EBFA;\n",
              "      box-shadow: 0px 1px 2px rgba(60, 64, 67, 0.3), 0px 1px 3px 1px rgba(60, 64, 67, 0.15);\n",
              "      fill: #174EA6;\n",
              "    }\n",
              "\n",
              "    .colab-df-buttons div {\n",
              "      margin-bottom: 4px;\n",
              "    }\n",
              "\n",
              "    [theme=dark] .colab-df-convert {\n",
              "      background-color: #3B4455;\n",
              "      fill: #D2E3FC;\n",
              "    }\n",
              "\n",
              "    [theme=dark] .colab-df-convert:hover {\n",
              "      background-color: #434B5C;\n",
              "      box-shadow: 0px 1px 3px 1px rgba(0, 0, 0, 0.15);\n",
              "      filter: drop-shadow(0px 1px 2px rgba(0, 0, 0, 0.3));\n",
              "      fill: #FFFFFF;\n",
              "    }\n",
              "  </style>\n",
              "\n",
              "    <script>\n",
              "      const buttonEl =\n",
              "        document.querySelector('#df-d1283d83-b5e7-47af-8d36-d8f32b12dfe7 button.colab-df-convert');\n",
              "      buttonEl.style.display =\n",
              "        google.colab.kernel.accessAllowed ? 'block' : 'none';\n",
              "\n",
              "      async function convertToInteractive(key) {\n",
              "        const element = document.querySelector('#df-d1283d83-b5e7-47af-8d36-d8f32b12dfe7');\n",
              "        const dataTable =\n",
              "          await google.colab.kernel.invokeFunction('convertToInteractive',\n",
              "                                                    [key], {});\n",
              "        if (!dataTable) return;\n",
              "\n",
              "        const docLinkHtml = 'Like what you see? Visit the ' +\n",
              "          '<a target=\"_blank\" href=https://colab.research.google.com/notebooks/data_table.ipynb>data table notebook</a>'\n",
              "          + ' to learn more about interactive tables.';\n",
              "        element.innerHTML = '';\n",
              "        dataTable['output_type'] = 'display_data';\n",
              "        await google.colab.output.renderOutput(dataTable, element);\n",
              "        const docLink = document.createElement('div');\n",
              "        docLink.innerHTML = docLinkHtml;\n",
              "        element.appendChild(docLink);\n",
              "      }\n",
              "    </script>\n",
              "  </div>\n",
              "\n",
              "\n",
              "<div id=\"df-d2649acf-5a59-4886-86fb-c1ebc64df995\">\n",
              "  <button class=\"colab-df-quickchart\" onclick=\"quickchart('df-d2649acf-5a59-4886-86fb-c1ebc64df995')\"\n",
              "            title=\"Suggest charts.\"\n",
              "            style=\"display:none;\">\n",
              "\n",
              "<svg xmlns=\"http://www.w3.org/2000/svg\" height=\"24px\"viewBox=\"0 0 24 24\"\n",
              "     width=\"24px\">\n",
              "    <g>\n",
              "        <path d=\"M19 3H5c-1.1 0-2 .9-2 2v14c0 1.1.9 2 2 2h14c1.1 0 2-.9 2-2V5c0-1.1-.9-2-2-2zM9 17H7v-7h2v7zm4 0h-2V7h2v10zm4 0h-2v-4h2v4z\"/>\n",
              "    </g>\n",
              "</svg>\n",
              "  </button>\n",
              "\n",
              "<style>\n",
              "  .colab-df-quickchart {\n",
              "      --bg-color: #E8F0FE;\n",
              "      --fill-color: #1967D2;\n",
              "      --hover-bg-color: #E2EBFA;\n",
              "      --hover-fill-color: #174EA6;\n",
              "      --disabled-fill-color: #AAA;\n",
              "      --disabled-bg-color: #DDD;\n",
              "  }\n",
              "\n",
              "  [theme=dark] .colab-df-quickchart {\n",
              "      --bg-color: #3B4455;\n",
              "      --fill-color: #D2E3FC;\n",
              "      --hover-bg-color: #434B5C;\n",
              "      --hover-fill-color: #FFFFFF;\n",
              "      --disabled-bg-color: #3B4455;\n",
              "      --disabled-fill-color: #666;\n",
              "  }\n",
              "\n",
              "  .colab-df-quickchart {\n",
              "    background-color: var(--bg-color);\n",
              "    border: none;\n",
              "    border-radius: 50%;\n",
              "    cursor: pointer;\n",
              "    display: none;\n",
              "    fill: var(--fill-color);\n",
              "    height: 32px;\n",
              "    padding: 0;\n",
              "    width: 32px;\n",
              "  }\n",
              "\n",
              "  .colab-df-quickchart:hover {\n",
              "    background-color: var(--hover-bg-color);\n",
              "    box-shadow: 0 1px 2px rgba(60, 64, 67, 0.3), 0 1px 3px 1px rgba(60, 64, 67, 0.15);\n",
              "    fill: var(--button-hover-fill-color);\n",
              "  }\n",
              "\n",
              "  .colab-df-quickchart-complete:disabled,\n",
              "  .colab-df-quickchart-complete:disabled:hover {\n",
              "    background-color: var(--disabled-bg-color);\n",
              "    fill: var(--disabled-fill-color);\n",
              "    box-shadow: none;\n",
              "  }\n",
              "\n",
              "  .colab-df-spinner {\n",
              "    border: 2px solid var(--fill-color);\n",
              "    border-color: transparent;\n",
              "    border-bottom-color: var(--fill-color);\n",
              "    animation:\n",
              "      spin 1s steps(1) infinite;\n",
              "  }\n",
              "\n",
              "  @keyframes spin {\n",
              "    0% {\n",
              "      border-color: transparent;\n",
              "      border-bottom-color: var(--fill-color);\n",
              "      border-left-color: var(--fill-color);\n",
              "    }\n",
              "    20% {\n",
              "      border-color: transparent;\n",
              "      border-left-color: var(--fill-color);\n",
              "      border-top-color: var(--fill-color);\n",
              "    }\n",
              "    30% {\n",
              "      border-color: transparent;\n",
              "      border-left-color: var(--fill-color);\n",
              "      border-top-color: var(--fill-color);\n",
              "      border-right-color: var(--fill-color);\n",
              "    }\n",
              "    40% {\n",
              "      border-color: transparent;\n",
              "      border-right-color: var(--fill-color);\n",
              "      border-top-color: var(--fill-color);\n",
              "    }\n",
              "    60% {\n",
              "      border-color: transparent;\n",
              "      border-right-color: var(--fill-color);\n",
              "    }\n",
              "    80% {\n",
              "      border-color: transparent;\n",
              "      border-right-color: var(--fill-color);\n",
              "      border-bottom-color: var(--fill-color);\n",
              "    }\n",
              "    90% {\n",
              "      border-color: transparent;\n",
              "      border-bottom-color: var(--fill-color);\n",
              "    }\n",
              "  }\n",
              "</style>\n",
              "\n",
              "  <script>\n",
              "    async function quickchart(key) {\n",
              "      const quickchartButtonEl =\n",
              "        document.querySelector('#' + key + ' button');\n",
              "      quickchartButtonEl.disabled = true;  // To prevent multiple clicks.\n",
              "      quickchartButtonEl.classList.add('colab-df-spinner');\n",
              "      try {\n",
              "        const charts = await google.colab.kernel.invokeFunction(\n",
              "            'suggestCharts', [key], {});\n",
              "      } catch (error) {\n",
              "        console.error('Error during call to suggestCharts:', error);\n",
              "      }\n",
              "      quickchartButtonEl.classList.remove('colab-df-spinner');\n",
              "      quickchartButtonEl.classList.add('colab-df-quickchart-complete');\n",
              "    }\n",
              "    (() => {\n",
              "      let quickchartButtonEl =\n",
              "        document.querySelector('#df-d2649acf-5a59-4886-86fb-c1ebc64df995 button');\n",
              "      quickchartButtonEl.style.display =\n",
              "        google.colab.kernel.accessAllowed ? 'block' : 'none';\n",
              "    })();\n",
              "  </script>\n",
              "</div>\n",
              "    </div>\n",
              "  </div>\n"
            ]
          },
          "metadata": {},
          "execution_count": 28
        }
      ],
      "source": [
        "explore_df.describe()"
      ]
    },
    {
      "cell_type": "code",
      "execution_count": null,
      "id": "ae336226",
      "metadata": {
        "colab": {
          "base_uri": "https://localhost:8080/"
        },
        "id": "ae336226",
        "outputId": "91de5b51-4c2c-49fd-d333-10c0c1a63d00"
      },
      "outputs": [
        {
          "output_type": "execute_result",
          "data": {
            "text/plain": [
              "x        0.0\n",
              "y        0.0\n",
              "z        0.0\n",
              "x2       0.0\n",
              "y2       0.0\n",
              "z2       0.0\n",
              "label    0.0\n",
              "dtype: float64"
            ]
          },
          "metadata": {},
          "execution_count": 29
        }
      ],
      "source": [
        "#null value in %\n",
        "explore_df.isnull().sum()*100/len(explore_df)"
      ]
    },
    {
      "cell_type": "code",
      "execution_count": null,
      "id": "c4977ec5",
      "metadata": {
        "colab": {
          "base_uri": "https://localhost:8080/"
        },
        "id": "c4977ec5",
        "outputId": "2c81b5f7-601f-470d-8d86-a24b81fbb8cd"
      },
      "outputs": [
        {
          "output_type": "stream",
          "name": "stdout",
          "text": [
            "The DataFrame does not contain infinity values.\n"
          ]
        }
      ],
      "source": [
        "# check whether the dataset contains infinity value\n",
        "\n",
        "has_positive_infinity = np.isinf(explore_df).any().any()\n",
        "has_negative_infinity = np.isneginf(explore_df).any().any()\n",
        "\n",
        "if has_positive_infinity:\n",
        "    print(\"The DataFrame contains positive infinity values.\")\n",
        "if has_negative_infinity:\n",
        "    print(\"The DataFrame contains negative infinity values.\")\n",
        "if not has_positive_infinity and not has_negative_infinity:\n",
        "    print(\"The DataFrame does not contain infinity values.\")"
      ]
    },
    {
      "cell_type": "code",
      "execution_count": null,
      "id": "f5f4c8cb",
      "metadata": {
        "scrolled": true,
        "colab": {
          "base_uri": "https://localhost:8080/",
          "height": 206
        },
        "id": "f5f4c8cb",
        "outputId": "5f64d680-0380-41b0-bba4-adad3bea4f20"
      },
      "outputs": [
        {
          "output_type": "execute_result",
          "data": {
            "text/plain": [
              "col_0  count\n",
              "label       \n",
              "1      30049\n",
              "2      30040\n",
              "3      30088\n",
              "4      30068"
            ],
            "text/html": [
              "\n",
              "  <div id=\"df-41e4f450-56fa-4ca7-a51a-32f18d60f0fc\" class=\"colab-df-container\">\n",
              "    <div>\n",
              "<style scoped>\n",
              "    .dataframe tbody tr th:only-of-type {\n",
              "        vertical-align: middle;\n",
              "    }\n",
              "\n",
              "    .dataframe tbody tr th {\n",
              "        vertical-align: top;\n",
              "    }\n",
              "\n",
              "    .dataframe thead th {\n",
              "        text-align: right;\n",
              "    }\n",
              "</style>\n",
              "<table border=\"1\" class=\"dataframe\">\n",
              "  <thead>\n",
              "    <tr style=\"text-align: right;\">\n",
              "      <th>col_0</th>\n",
              "      <th>count</th>\n",
              "    </tr>\n",
              "    <tr>\n",
              "      <th>label</th>\n",
              "      <th></th>\n",
              "    </tr>\n",
              "  </thead>\n",
              "  <tbody>\n",
              "    <tr>\n",
              "      <th>1</th>\n",
              "      <td>30049</td>\n",
              "    </tr>\n",
              "    <tr>\n",
              "      <th>2</th>\n",
              "      <td>30040</td>\n",
              "    </tr>\n",
              "    <tr>\n",
              "      <th>3</th>\n",
              "      <td>30088</td>\n",
              "    </tr>\n",
              "    <tr>\n",
              "      <th>4</th>\n",
              "      <td>30068</td>\n",
              "    </tr>\n",
              "  </tbody>\n",
              "</table>\n",
              "</div>\n",
              "    <div class=\"colab-df-buttons\">\n",
              "\n",
              "  <div class=\"colab-df-container\">\n",
              "    <button class=\"colab-df-convert\" onclick=\"convertToInteractive('df-41e4f450-56fa-4ca7-a51a-32f18d60f0fc')\"\n",
              "            title=\"Convert this dataframe to an interactive table.\"\n",
              "            style=\"display:none;\">\n",
              "\n",
              "  <svg xmlns=\"http://www.w3.org/2000/svg\" height=\"24px\" viewBox=\"0 -960 960 960\">\n",
              "    <path d=\"M120-120v-720h720v720H120Zm60-500h600v-160H180v160Zm220 220h160v-160H400v160Zm0 220h160v-160H400v160ZM180-400h160v-160H180v160Zm440 0h160v-160H620v160ZM180-180h160v-160H180v160Zm440 0h160v-160H620v160Z\"/>\n",
              "  </svg>\n",
              "    </button>\n",
              "\n",
              "  <style>\n",
              "    .colab-df-container {\n",
              "      display:flex;\n",
              "      gap: 12px;\n",
              "    }\n",
              "\n",
              "    .colab-df-convert {\n",
              "      background-color: #E8F0FE;\n",
              "      border: none;\n",
              "      border-radius: 50%;\n",
              "      cursor: pointer;\n",
              "      display: none;\n",
              "      fill: #1967D2;\n",
              "      height: 32px;\n",
              "      padding: 0 0 0 0;\n",
              "      width: 32px;\n",
              "    }\n",
              "\n",
              "    .colab-df-convert:hover {\n",
              "      background-color: #E2EBFA;\n",
              "      box-shadow: 0px 1px 2px rgba(60, 64, 67, 0.3), 0px 1px 3px 1px rgba(60, 64, 67, 0.15);\n",
              "      fill: #174EA6;\n",
              "    }\n",
              "\n",
              "    .colab-df-buttons div {\n",
              "      margin-bottom: 4px;\n",
              "    }\n",
              "\n",
              "    [theme=dark] .colab-df-convert {\n",
              "      background-color: #3B4455;\n",
              "      fill: #D2E3FC;\n",
              "    }\n",
              "\n",
              "    [theme=dark] .colab-df-convert:hover {\n",
              "      background-color: #434B5C;\n",
              "      box-shadow: 0px 1px 3px 1px rgba(0, 0, 0, 0.15);\n",
              "      filter: drop-shadow(0px 1px 2px rgba(0, 0, 0, 0.3));\n",
              "      fill: #FFFFFF;\n",
              "    }\n",
              "  </style>\n",
              "\n",
              "    <script>\n",
              "      const buttonEl =\n",
              "        document.querySelector('#df-41e4f450-56fa-4ca7-a51a-32f18d60f0fc button.colab-df-convert');\n",
              "      buttonEl.style.display =\n",
              "        google.colab.kernel.accessAllowed ? 'block' : 'none';\n",
              "\n",
              "      async function convertToInteractive(key) {\n",
              "        const element = document.querySelector('#df-41e4f450-56fa-4ca7-a51a-32f18d60f0fc');\n",
              "        const dataTable =\n",
              "          await google.colab.kernel.invokeFunction('convertToInteractive',\n",
              "                                                    [key], {});\n",
              "        if (!dataTable) return;\n",
              "\n",
              "        const docLinkHtml = 'Like what you see? Visit the ' +\n",
              "          '<a target=\"_blank\" href=https://colab.research.google.com/notebooks/data_table.ipynb>data table notebook</a>'\n",
              "          + ' to learn more about interactive tables.';\n",
              "        element.innerHTML = '';\n",
              "        dataTable['output_type'] = 'display_data';\n",
              "        await google.colab.output.renderOutput(dataTable, element);\n",
              "        const docLink = document.createElement('div');\n",
              "        docLink.innerHTML = docLinkHtml;\n",
              "        element.appendChild(docLink);\n",
              "      }\n",
              "    </script>\n",
              "  </div>\n",
              "\n",
              "\n",
              "<div id=\"df-b8f5ff7d-d4e0-4f32-918e-90e2885dfe5b\">\n",
              "  <button class=\"colab-df-quickchart\" onclick=\"quickchart('df-b8f5ff7d-d4e0-4f32-918e-90e2885dfe5b')\"\n",
              "            title=\"Suggest charts.\"\n",
              "            style=\"display:none;\">\n",
              "\n",
              "<svg xmlns=\"http://www.w3.org/2000/svg\" height=\"24px\"viewBox=\"0 0 24 24\"\n",
              "     width=\"24px\">\n",
              "    <g>\n",
              "        <path d=\"M19 3H5c-1.1 0-2 .9-2 2v14c0 1.1.9 2 2 2h14c1.1 0 2-.9 2-2V5c0-1.1-.9-2-2-2zM9 17H7v-7h2v7zm4 0h-2V7h2v10zm4 0h-2v-4h2v4z\"/>\n",
              "    </g>\n",
              "</svg>\n",
              "  </button>\n",
              "\n",
              "<style>\n",
              "  .colab-df-quickchart {\n",
              "      --bg-color: #E8F0FE;\n",
              "      --fill-color: #1967D2;\n",
              "      --hover-bg-color: #E2EBFA;\n",
              "      --hover-fill-color: #174EA6;\n",
              "      --disabled-fill-color: #AAA;\n",
              "      --disabled-bg-color: #DDD;\n",
              "  }\n",
              "\n",
              "  [theme=dark] .colab-df-quickchart {\n",
              "      --bg-color: #3B4455;\n",
              "      --fill-color: #D2E3FC;\n",
              "      --hover-bg-color: #434B5C;\n",
              "      --hover-fill-color: #FFFFFF;\n",
              "      --disabled-bg-color: #3B4455;\n",
              "      --disabled-fill-color: #666;\n",
              "  }\n",
              "\n",
              "  .colab-df-quickchart {\n",
              "    background-color: var(--bg-color);\n",
              "    border: none;\n",
              "    border-radius: 50%;\n",
              "    cursor: pointer;\n",
              "    display: none;\n",
              "    fill: var(--fill-color);\n",
              "    height: 32px;\n",
              "    padding: 0;\n",
              "    width: 32px;\n",
              "  }\n",
              "\n",
              "  .colab-df-quickchart:hover {\n",
              "    background-color: var(--hover-bg-color);\n",
              "    box-shadow: 0 1px 2px rgba(60, 64, 67, 0.3), 0 1px 3px 1px rgba(60, 64, 67, 0.15);\n",
              "    fill: var(--button-hover-fill-color);\n",
              "  }\n",
              "\n",
              "  .colab-df-quickchart-complete:disabled,\n",
              "  .colab-df-quickchart-complete:disabled:hover {\n",
              "    background-color: var(--disabled-bg-color);\n",
              "    fill: var(--disabled-fill-color);\n",
              "    box-shadow: none;\n",
              "  }\n",
              "\n",
              "  .colab-df-spinner {\n",
              "    border: 2px solid var(--fill-color);\n",
              "    border-color: transparent;\n",
              "    border-bottom-color: var(--fill-color);\n",
              "    animation:\n",
              "      spin 1s steps(1) infinite;\n",
              "  }\n",
              "\n",
              "  @keyframes spin {\n",
              "    0% {\n",
              "      border-color: transparent;\n",
              "      border-bottom-color: var(--fill-color);\n",
              "      border-left-color: var(--fill-color);\n",
              "    }\n",
              "    20% {\n",
              "      border-color: transparent;\n",
              "      border-left-color: var(--fill-color);\n",
              "      border-top-color: var(--fill-color);\n",
              "    }\n",
              "    30% {\n",
              "      border-color: transparent;\n",
              "      border-left-color: var(--fill-color);\n",
              "      border-top-color: var(--fill-color);\n",
              "      border-right-color: var(--fill-color);\n",
              "    }\n",
              "    40% {\n",
              "      border-color: transparent;\n",
              "      border-right-color: var(--fill-color);\n",
              "      border-top-color: var(--fill-color);\n",
              "    }\n",
              "    60% {\n",
              "      border-color: transparent;\n",
              "      border-right-color: var(--fill-color);\n",
              "    }\n",
              "    80% {\n",
              "      border-color: transparent;\n",
              "      border-right-color: var(--fill-color);\n",
              "      border-bottom-color: var(--fill-color);\n",
              "    }\n",
              "    90% {\n",
              "      border-color: transparent;\n",
              "      border-bottom-color: var(--fill-color);\n",
              "    }\n",
              "  }\n",
              "</style>\n",
              "\n",
              "  <script>\n",
              "    async function quickchart(key) {\n",
              "      const quickchartButtonEl =\n",
              "        document.querySelector('#' + key + ' button');\n",
              "      quickchartButtonEl.disabled = true;  // To prevent multiple clicks.\n",
              "      quickchartButtonEl.classList.add('colab-df-spinner');\n",
              "      try {\n",
              "        const charts = await google.colab.kernel.invokeFunction(\n",
              "            'suggestCharts', [key], {});\n",
              "      } catch (error) {\n",
              "        console.error('Error during call to suggestCharts:', error);\n",
              "      }\n",
              "      quickchartButtonEl.classList.remove('colab-df-spinner');\n",
              "      quickchartButtonEl.classList.add('colab-df-quickchart-complete');\n",
              "    }\n",
              "    (() => {\n",
              "      let quickchartButtonEl =\n",
              "        document.querySelector('#df-b8f5ff7d-d4e0-4f32-918e-90e2885dfe5b button');\n",
              "      quickchartButtonEl.style.display =\n",
              "        google.colab.kernel.accessAllowed ? 'block' : 'none';\n",
              "    })();\n",
              "  </script>\n",
              "</div>\n",
              "    </div>\n",
              "  </div>\n"
            ]
          },
          "metadata": {},
          "execution_count": 31
        }
      ],
      "source": [
        "pd.crosstab(index =explore_df[\"label\"],columns=\"count\")"
      ]
    },
    {
      "cell_type": "code",
      "execution_count": null,
      "id": "94ca57de",
      "metadata": {
        "scrolled": true,
        "colab": {
          "base_uri": "https://localhost:8080/",
          "height": 410
        },
        "id": "94ca57de",
        "outputId": "7ae26773-95bf-4476-ad8e-f91d5834b77e"
      },
      "outputs": [
        {
          "output_type": "display_data",
          "data": {
            "text/plain": [
              "<Figure size 500x400 with 1 Axes>"
            ],
            "image/png": "[encoded data removed]"
          },
          "metadata": {}
        }
      ],
      "source": [
        "sns.set_style(\"whitegrid\")\n",
        "plt.figure(figsize = (5, 4))\n",
        "sns.countplot(x = 'label', data = explore_df)\n",
        "plt.title('Number of samples by activity')\n",
        "plt.show()"
      ]
    },
    {
      "cell_type": "code",
      "execution_count": null,
      "id": "6aeab81b",
      "metadata": {
        "colab": {
          "base_uri": "https://localhost:8080/",
          "height": 701
        },
        "id": "6aeab81b",
        "outputId": "d94fceee-7ec8-4218-bdb0-b0df4fcb5582"
      },
      "outputs": [
        {
          "output_type": "execute_result",
          "data": {
            "text/plain": [
              "<Axes: >"
            ]
          },
          "metadata": {},
          "execution_count": 41
        },
        {
          "output_type": "display_data",
          "data": {
            "text/plain": [
              "<Figure size 800x800 with 2 Axes>"
            ],
            "image/png": "[encoded data removed]"
          },
          "metadata": {}
        }
      ],
      "source": [
        "#correlation matrix\n",
        "corr_matrix=explore_df.corr()\n",
        "corr_matrix\n",
        "\n",
        "fig, ax = plt.subplots(figsize=(8,8))\n",
        "sns.heatmap(data=corr_matrix, annot=True, linewidths=.5, ax=ax)"
      ]
    },
    {
      "cell_type": "markdown",
      "id": "9b5a621d",
      "metadata": {
        "id": "9b5a621d"
      },
      "source": [
        "## Data Segmentation"
      ]
    },
    {
      "cell_type": "code",
      "execution_count": 8,
      "id": "051d178f",
      "metadata": {
        "colab": {
          "base_uri": "https://localhost:8080/"
        },
        "id": "051d178f",
        "outputId": "a75c8f75-22be-44d4-819d-0b61a16adedf"
      },
      "outputs": [
        {
          "output_type": "stream",
          "name": "stdout",
          "text": [
            "(120245, 7)\n"
          ]
        }
      ],
      "source": [
        "lstm_df = pd.read_parquet(\"gs://sensordatalogger-logfiles.appspot.com/har.parquet\", engine='auto')\n",
        "print(lstm_df.shape)"
      ]
    },
    {
      "cell_type": "code",
      "execution_count": 9,
      "id": "f22485d7",
      "metadata": {
        "scrolled": true,
        "colab": {
          "base_uri": "https://localhost:8080/"
        },
        "id": "f22485d7",
        "outputId": "57b5bcf5-b1b4-447d-c330-6cc0f9fd759e"
      },
      "outputs": [
        {
          "output_type": "stream",
          "name": "stdout",
          "text": [
            "(4808, 50, 6)\n",
            "(4808, 4)\n"
          ]
        }
      ],
      "source": [
        "# windowing\n",
        "\n",
        "n_time_steps = 50\n",
        "n_features = 6\n",
        "step = 25\n",
        "n_classes = 4\n",
        "segments = []\n",
        "labels = []\n",
        "\n",
        "for i in range(0,  lstm_df.shape[0]- n_time_steps, step):\n",
        "\n",
        "    x_acce = lstm_df['x'].values[i: i + 50]\n",
        "    y_acce = lstm_df['y'].values[i: i + 50]\n",
        "    z_acce = lstm_df['z'].values[i: i + 50]\n",
        "    x_gyro = lstm_df['x2'].values[i: i + 50]\n",
        "    y_gyro = lstm_df['y2'].values[i: i + 50]\n",
        "    z_gyro = lstm_df['z2'].values[i: i + 50]\n",
        "    label_mode_result = stats.mode(lstm_df['label'][i: i + 50])\n",
        "    if np.isscalar(label_mode_result[0]):\n",
        "      label = label_mode_result[0]\n",
        "    else:\n",
        "      label = label_mode_result.mode[0]\n",
        "\n",
        "    segments.append([x_acce, y_acce, z_acce, x_gyro, y_gyro, z_gyro])\n",
        "    labels.append(label)\n",
        "\n",
        "reshaped_segments = np.asarray(segments, dtype= np.float32).reshape(-1, n_time_steps, n_features)\n",
        "labels = np.asarray(pd.get_dummies(labels), dtype = np.float32)\n",
        "print(reshaped_segments.shape)\n",
        "print(labels.shape)"
      ]
    },
    {
      "cell_type": "code",
      "execution_count": 10,
      "id": "0dec9985",
      "metadata": {
        "colab": {
          "base_uri": "https://localhost:8080/"
        },
        "id": "0dec9985",
        "outputId": "310b2ff6-64e4-4101-c57d-13e1facd7729"
      },
      "outputs": [
        {
          "output_type": "stream",
          "name": "stdout",
          "text": [
            "(3846, 50, 6)\n",
            "(3846, 4)\n",
            "(962, 50, 6)\n",
            "(962, 4)\n"
          ]
        }
      ],
      "source": [
        "X_train, X_test, y_train, y_test = train_test_split(reshaped_segments, labels, test_size = 0.2, random_state = 42)\n",
        "print(X_train.shape)\n",
        "print(y_train.shape)\n",
        "print(X_test.shape)\n",
        "print(y_test.shape)"
      ]
    },
    {
      "cell_type": "markdown",
      "id": "4786a68e",
      "metadata": {
        "id": "4786a68e"
      },
      "source": [
        "## Model Training and Evaluation"
      ]
    },
    {
      "cell_type": "code",
      "execution_count": 11,
      "id": "ed7df2d7",
      "metadata": {
        "id": "ed7df2d7"
      },
      "outputs": [],
      "source": [
        "def create_lstm_model(dr=0.3, lr=0.0025):\n",
        "  model = tf.keras.models.Sequential()\n",
        "  model.add(LSTM(units = 32, input_shape = (X_train.shape[1], X_train.shape[2])))\n",
        "  model.add(Dropout(dr))\n",
        "  model.add(Dense(y_train.shape[1], activation = 'softmax'))\n",
        "  optimizer = Adam(learning_rate=lr)\n",
        "  model.compile(loss='categorical_crossentropy', optimizer=optimizer, metrics=['accuracy'])\n",
        "  return model"
      ]
    },
    {
      "cell_type": "code",
      "execution_count": 12,
      "id": "c9711e1c",
      "metadata": {
        "colab": {
          "base_uri": "https://localhost:8080/"
        },
        "id": "c9711e1c",
        "outputId": "f55dbb53-0bab-44a2-8dec-66cb9f3df9e3"
      },
      "outputs": [
        {
          "output_type": "stream",
          "name": "stdout",
          "text": [
            "Model: \"sequential_1\"\n",
            "_________________________________________________________________\n",
            " Layer (type)                Output Shape              Param #   \n",
            "=================================================================\n",
            " lstm (LSTM)                 (None, 32)                4992      \n",
            "                                                                 \n",
            " dropout (Dropout)           (None, 32)                0         \n",
            "                                                                 \n",
            " dense (Dense)               (None, 4)                 132       \n",
            "                                                                 \n",
            "=================================================================\n",
            "Total params: 5124 (20.02 KB)\n",
            "Trainable params: 5124 (20.02 KB)\n",
            "Non-trainable params: 0 (0.00 Byte)\n",
            "_________________________________________________________________\n"
          ]
        }
      ],
      "source": [
        "model = create_lstm_model()\n",
        "model.summary()"
      ]
    },
    {
      "cell_type": "code",
      "execution_count": 13,
      "id": "94ad4ae9",
      "metadata": {
        "colab": {
          "base_uri": "https://localhost:8080/"
        },
        "id": "94ad4ae9",
        "outputId": "78a1dc88-4762-4856-ff06-58f770dcb5cf"
      },
      "outputs": [
        {
          "output_type": "stream",
          "name": "stdout",
          "text": [
            "Epoch 1/50\n",
            "769/769 [==============================] - 12s 6ms/step - loss: 0.7570 - accuracy: 0.6694 - val_loss: 0.4960 - val_accuracy: 0.7922\n",
            "Epoch 2/50\n",
            "769/769 [==============================] - 5s 6ms/step - loss: 0.4078 - accuracy: 0.8547 - val_loss: 0.3367 - val_accuracy: 0.8792\n",
            "Epoch 3/50\n",
            "769/769 [==============================] - 5s 6ms/step - loss: 0.2978 - accuracy: 0.9034 - val_loss: 0.2267 - val_accuracy: 0.9299\n",
            "Epoch 4/50\n",
            "769/769 [==============================] - 4s 6ms/step - loss: 0.2408 - accuracy: 0.9230 - val_loss: 0.2148 - val_accuracy: 0.9351\n",
            "Epoch 5/50\n",
            "769/769 [==============================] - 6s 8ms/step - loss: 0.2075 - accuracy: 0.9327 - val_loss: 0.1708 - val_accuracy: 0.9481\n",
            "Epoch 6/50\n",
            "769/769 [==============================] - 4s 5ms/step - loss: 0.1836 - accuracy: 0.9415 - val_loss: 0.1602 - val_accuracy: 0.9468\n",
            "Epoch 7/50\n",
            "769/769 [==============================] - 5s 7ms/step - loss: 0.1615 - accuracy: 0.9486 - val_loss: 0.1511 - val_accuracy: 0.9519\n",
            "Epoch 8/50\n",
            "769/769 [==============================] - 4s 5ms/step - loss: 0.1668 - accuracy: 0.9480 - val_loss: 0.1427 - val_accuracy: 0.9519\n",
            "Epoch 9/50\n",
            "769/769 [==============================] - 4s 5ms/step - loss: 0.1352 - accuracy: 0.9587 - val_loss: 0.1344 - val_accuracy: 0.9571\n",
            "Epoch 10/50\n",
            "769/769 [==============================] - 5s 6ms/step - loss: 0.1312 - accuracy: 0.9603 - val_loss: 0.1024 - val_accuracy: 0.9688\n",
            "Epoch 11/50\n",
            "769/769 [==============================] - 4s 6ms/step - loss: 0.1121 - accuracy: 0.9616 - val_loss: 0.1172 - val_accuracy: 0.9623\n",
            "Epoch 12/50\n",
            "769/769 [==============================] - 8s 10ms/step - loss: 0.1382 - accuracy: 0.9558 - val_loss: 0.1145 - val_accuracy: 0.9662\n",
            "Epoch 13/50\n",
            "769/769 [==============================] - 8s 11ms/step - loss: 0.1025 - accuracy: 0.9662 - val_loss: 0.0975 - val_accuracy: 0.9636\n",
            "Epoch 14/50\n",
            "769/769 [==============================] - 9s 12ms/step - loss: 0.1067 - accuracy: 0.9620 - val_loss: 0.1303 - val_accuracy: 0.9701\n",
            "Epoch 15/50\n",
            "769/769 [==============================] - 9s 11ms/step - loss: 0.1101 - accuracy: 0.9633 - val_loss: 0.0965 - val_accuracy: 0.9688\n",
            "Epoch 16/50\n",
            "769/769 [==============================] - 6s 7ms/step - loss: 0.0902 - accuracy: 0.9720 - val_loss: 0.1380 - val_accuracy: 0.9519\n",
            "Epoch 17/50\n",
            "769/769 [==============================] - 5s 6ms/step - loss: 0.0796 - accuracy: 0.9701 - val_loss: 0.0950 - val_accuracy: 0.9753\n",
            "Epoch 18/50\n",
            "769/769 [==============================] - 5s 6ms/step - loss: 0.0698 - accuracy: 0.9756 - val_loss: 0.1172 - val_accuracy: 0.9623\n",
            "Epoch 19/50\n",
            "769/769 [==============================] - 4s 6ms/step - loss: 0.0953 - accuracy: 0.9701 - val_loss: 0.1288 - val_accuracy: 0.9623\n",
            "Epoch 20/50\n",
            "769/769 [==============================] - 5s 7ms/step - loss: 0.0589 - accuracy: 0.9805 - val_loss: 0.1162 - val_accuracy: 0.9688\n",
            "Epoch 21/50\n",
            "769/769 [==============================] - 4s 5ms/step - loss: 0.0724 - accuracy: 0.9743 - val_loss: 0.1083 - val_accuracy: 0.9714\n",
            "Epoch 22/50\n",
            "769/769 [==============================] - 4s 6ms/step - loss: 0.0548 - accuracy: 0.9828 - val_loss: 0.1580 - val_accuracy: 0.9571\n"
          ]
        }
      ],
      "source": [
        "batch_size = 4\n",
        "n_epochs = 50\n",
        "early_stopping = EarlyStopping(monitor='val_loss', patience=5, restore_best_weights=True)\n",
        "history = model.fit(X_train, y_train, epochs = n_epochs, validation_split = 0.20, callbacks=[early_stopping], batch_size = batch_size, verbose = 1)"
      ]
    },
    {
      "cell_type": "code",
      "source": [
        "tf.saved_model.save(model, \"Downloads/HAR_LSTM_model\")"
      ],
      "metadata": {
        "id": "OHc1_sy2jaeA"
      },
      "id": "OHc1_sy2jaeA",
      "execution_count": 14,
      "outputs": []
    },
    {
      "cell_type": "code",
      "source": [
        "import tensorflow as tf\n",
        "\n",
        "model = tf.saved_model.load(\"Downloads/HAR_LSTM_model\")\n",
        "converter = tf.lite.TFLiteConverter.from_saved_model(\"Downloads/HAR_LSTM_model\")\n",
        "tflite_model = converter.convert()\n",
        "\n",
        "# Save the TensorFlow Lite model\n",
        "with open('/path/to/tflite/model.tflite', 'wb') as f:\n",
        "    f.write(tflite_model)"
      ],
      "metadata": {
        "id": "DlgkJAEfkwXB"
      },
      "id": "DlgkJAEfkwXB",
      "execution_count": null,
      "outputs": []
    },
    {
      "cell_type": "code",
      "execution_count": null,
      "id": "f9aa142b",
      "metadata": {
        "colab": {
          "base_uri": "https://localhost:8080/",
          "height": 472
        },
        "id": "f9aa142b",
        "outputId": "5853df6e-3072-477f-b7fc-0db7e68cc001"
      },
      "outputs": [
        {
          "output_type": "display_data",
          "data": {
            "text/plain": [
              "<Figure size 640x480 with 1 Axes>"
            ],
            "image/png": "[encoded data removed]"
          },
          "metadata": {}
        }
      ],
      "source": [
        "plt.plot(np.array(history.history['loss']), \"r--\", label = \"Train loss\")\n",
        "plt.plot(np.array(history.history['accuracy']), \"g--\", label = \"Train accuracy\")\n",
        "plt.plot(np.array(history.history['val_loss']), \"r-\", label = \"Validation loss\")\n",
        "plt.plot(np.array(history.history['val_accuracy']), \"g-\", label = \"Validation accuracy\")\n",
        "plt.title(\"Training session's progress over iterations\")\n",
        "plt.legend(loc='lower left')\n",
        "plt.ylabel('Training Progress (Loss/Accuracy)')\n",
        "plt.xlabel('Training Epoch')\n",
        "plt.ylim(0)\n",
        "plt.show()"
      ]
    },
    {
      "cell_type": "code",
      "execution_count": null,
      "id": "8405b8aa",
      "metadata": {
        "colab": {
          "base_uri": "https://localhost:8080/"
        },
        "id": "8405b8aa",
        "outputId": "a2e2713d-9aff-43ca-b300-ad3950a3c96c"
      },
      "outputs": [
        {
          "output_type": "stream",
          "name": "stdout",
          "text": [
            "962/962 [==============================] - 4s 4ms/step - loss: 0.0825 - accuracy: 0.9714\n",
            "962/962 [==============================] - 3s 2ms/step\n",
            "Train Accuracy:  0.9713988304138184\n",
            "Train Loss:  0.08252749592065811\n",
            "Train RMSE:  0.10210643\n"
          ]
        }
      ],
      "source": [
        "loss, accuracy = model.evaluate(X_train, y_train, batch_size = batch_size, verbose = 1)\n",
        "y_pred_train = model.predict(X_train, batch_size = batch_size, verbose=1)\n",
        "mse_train = mean_squared_error(y_pred_train, y_train)\n",
        "rmse_train = np.sqrt(mse_train)\n",
        "\n",
        "print(\"Train Accuracy: \", accuracy)\n",
        "print(\"Train Loss: \", loss)\n",
        "print (\"Train RMSE: \", rmse_train)"
      ]
    },
    {
      "cell_type": "code",
      "execution_count": null,
      "id": "1e3430f2",
      "metadata": {
        "colab": {
          "base_uri": "https://localhost:8080/",
          "height": 493
        },
        "id": "1e3430f2",
        "outputId": "b9afac24-7d47-45ad-99bc-3bf075186d3c"
      },
      "outputs": [
        {
          "output_type": "stream",
          "name": "stdout",
          "text": [
            "121/121 [==============================] - 0s 3ms/step\n"
          ]
        },
        {
          "output_type": "display_data",
          "data": {
            "text/plain": [
              "<Figure size 640x480 with 2 Axes>"
            ],
            "image/png": "[encoded data removed]"
          },
          "metadata": {}
        }
      ],
      "source": [
        "predictions = model.predict(X_train)\n",
        "class_labels = ['1', '2', '3', '4']\n",
        "max_train = np.argmax(y_train, axis=1)\n",
        "max_predictions = np.argmax(predictions, axis=1)\n",
        "confusion_matrix = metrics.confusion_matrix(max_train, max_predictions)\n",
        "sns.heatmap(confusion_matrix, xticklabels = class_labels, yticklabels = class_labels, annot = True, linewidths = 0.1, fmt='d', cmap = 'YlGnBu')\n",
        "plt.title(\"Confusion matrix\", fontsize = 15)\n",
        "plt.ylabel('True label')\n",
        "plt.xlabel('Predicted label')\n",
        "plt.show()"
      ]
    },
    {
      "cell_type": "markdown",
      "id": "cd277d8e",
      "metadata": {
        "id": "cd277d8e"
      },
      "source": [
        "## Hyperparameter Tuning"
      ]
    },
    {
      "cell_type": "code",
      "source": [
        "keras_model = KerasClassifier(build_fn=create_lstm_model, verbose=0, batch_size=4, dr=0.2, epochs=30, lr=0.001)\n",
        "param_grid = {\n",
        "    'batch_size': [4, 16, 32],\n",
        "    'dr': [0.2, 0.3, 0.4],\n",
        "    'epochs': [30, 40, 50],\n",
        "    'lr': [0.001, 0.0025]\n",
        "}\n",
        "early_stopping = EarlyStopping(monitor='val_loss', patience=5, restore_best_weights=True)\n",
        "grid = GridSearchCV(estimator=keras_model, param_grid=param_grid, cv=3, scoring='accuracy', n_jobs=-1)\n",
        "grid_result = grid.fit(X_train, y_train, validation_split=0.2, callbacks=[early_stopping])\n",
        "best_params = grid_result.best_params_\n",
        "best_model = grid_result.best_estimator_.model\n",
        "\n",
        "print(\"Best Parameters: \", grid_result.best_params_)\n",
        "print(\"Best Accuracy: \", grid_result.best_score_)"
      ],
      "metadata": {
        "id": "EgJwEBqxEnHu",
        "colab": {
          "base_uri": "https://localhost:8080/"
        },
        "outputId": "8e58573d-c08f-4ed8-df49-02a8485bd6a8"
      },
      "id": "EgJwEBqxEnHu",
      "execution_count": null,
      "outputs": [
        {
          "output_type": "stream",
          "name": "stdout",
          "text": [
            "Best Parameters:  {'batch_size': 16, 'dr': 0.2, 'epochs': 50, 'lr': 0.0025}\n",
            "Best Accuracy:  0.9648985959438378\n"
          ]
        }
      ]
    },
    {
      "cell_type": "markdown",
      "id": "3153f791",
      "metadata": {
        "id": "3153f791"
      },
      "source": [
        "## Model Testing"
      ]
    },
    {
      "cell_type": "code",
      "source": [
        "tuned_model = tf.keras.models.Sequential()\n",
        "tuned_model.add(LSTM(units = 32, input_shape = (X_train.shape[1], X_train.shape[2])))\n",
        "tuned_model.add(Dropout(0.2))\n",
        "tuned_model.add(Dense(y_train.shape[1], activation = 'softmax'))\n",
        "optimizer = Adam(learning_rate=0.0025)\n",
        "tuned_model.compile(loss='categorical_crossentropy', optimizer=optimizer, metrics=['accuracy'])\n",
        "tuned_model.summary()"
      ],
      "metadata": {
        "colab": {
          "base_uri": "https://localhost:8080/"
        },
        "id": "2A8fk_SBe5xs",
        "outputId": "8fdfd575-b74b-44c6-9cb2-76c5436444cd"
      },
      "id": "2A8fk_SBe5xs",
      "execution_count": null,
      "outputs": [
        {
          "output_type": "stream",
          "name": "stdout",
          "text": [
            "Model: \"sequential\"\n",
            "_________________________________________________________________\n",
            " Layer (type)                Output Shape              Param #   \n",
            "=================================================================\n",
            " lstm (LSTM)                 (None, 32)                4992      \n",
            "                                                                 \n",
            " dropout (Dropout)           (None, 32)                0         \n",
            "                                                                 \n",
            " dense (Dense)               (None, 4)                 132       \n",
            "                                                                 \n",
            "=================================================================\n",
            "Total params: 5124 (20.02 KB)\n",
            "Trainable params: 5124 (20.02 KB)\n",
            "Non-trainable params: 0 (0.00 Byte)\n",
            "_________________________________________________________________\n"
          ]
        }
      ]
    },
    {
      "cell_type": "code",
      "source": [
        "batch_size = 16\n",
        "n_epochs = 50\n",
        "early_stopping = EarlyStopping(monitor='val_loss', patience=5, restore_best_weights=True)\n",
        "history = tuned_model.fit(X_train, y_train, epochs = n_epochs, validation_split = 0.20, callbacks=[early_stopping], batch_size = batch_size, verbose = 1)"
      ],
      "metadata": {
        "colab": {
          "base_uri": "https://localhost:8080/"
        },
        "id": "IEDZsUsdfNM4",
        "outputId": "90dd398d-4871-49fd-8f13-3eb7f7fc59aa"
      },
      "id": "IEDZsUsdfNM4",
      "execution_count": null,
      "outputs": [
        {
          "output_type": "stream",
          "name": "stdout",
          "text": [
            "Epoch 1/50\n",
            "193/193 [==============================] - 19s 23ms/step - loss: 0.7763 - accuracy: 0.6795 - val_loss: 0.5510 - val_accuracy: 0.7987\n",
            "Epoch 2/50\n",
            "193/193 [==============================] - 2s 13ms/step - loss: 0.4754 - accuracy: 0.8231 - val_loss: 0.4053 - val_accuracy: 0.8506\n",
            "Epoch 3/50\n",
            "193/193 [==============================] - 2s 10ms/step - loss: 0.3639 - accuracy: 0.8761 - val_loss: 0.3044 - val_accuracy: 0.9130\n",
            "Epoch 4/50\n",
            "193/193 [==============================] - 2s 11ms/step - loss: 0.2910 - accuracy: 0.9064 - val_loss: 0.2617 - val_accuracy: 0.9182\n",
            "Epoch 5/50\n",
            "193/193 [==============================] - 2s 11ms/step - loss: 0.2688 - accuracy: 0.9119 - val_loss: 0.1963 - val_accuracy: 0.9416\n",
            "Epoch 6/50\n",
            "193/193 [==============================] - 3s 14ms/step - loss: 0.2766 - accuracy: 0.9077 - val_loss: 0.3317 - val_accuracy: 0.8961\n",
            "Epoch 7/50\n",
            "193/193 [==============================] - 2s 12ms/step - loss: 0.2279 - accuracy: 0.9220 - val_loss: 0.1880 - val_accuracy: 0.9364\n",
            "Epoch 8/50\n",
            "193/193 [==============================] - 2s 10ms/step - loss: 0.1801 - accuracy: 0.9447 - val_loss: 0.1326 - val_accuracy: 0.9532\n",
            "Epoch 9/50\n",
            "193/193 [==============================] - 1s 7ms/step - loss: 0.1606 - accuracy: 0.9483 - val_loss: 0.1227 - val_accuracy: 0.9636\n",
            "Epoch 10/50\n",
            "193/193 [==============================] - 1s 7ms/step - loss: 0.1531 - accuracy: 0.9516 - val_loss: 0.1248 - val_accuracy: 0.9558\n",
            "Epoch 11/50\n",
            "193/193 [==============================] - 1s 6ms/step - loss: 0.1437 - accuracy: 0.9571 - val_loss: 0.1525 - val_accuracy: 0.9597\n",
            "Epoch 12/50\n",
            "193/193 [==============================] - 1s 6ms/step - loss: 0.1351 - accuracy: 0.9600 - val_loss: 0.1267 - val_accuracy: 0.9597\n",
            "Epoch 13/50\n",
            "193/193 [==============================] - 1s 7ms/step - loss: 0.1230 - accuracy: 0.9607 - val_loss: 0.1970 - val_accuracy: 0.9494\n",
            "Epoch 14/50\n",
            "193/193 [==============================] - 2s 9ms/step - loss: 0.1353 - accuracy: 0.9581 - val_loss: 0.1327 - val_accuracy: 0.9571\n"
          ]
        }
      ]
    },
    {
      "cell_type": "code",
      "source": [
        "# use best model\n",
        "loss_tuned, accuracy_tuned = tuned_model.evaluate(X_test, y_test, batch_size = batch_size, verbose = 1)\n",
        "y_pred_tuned = tuned_model.predict(X_test)\n",
        "mse_tuned = mean_squared_error(y_pred_tuned, y_test)\n",
        "rmse_tuned = np.sqrt(mse_tuned)\n",
        "\n",
        "print(\"Test Accuracy: \", accuracy_tuned)\n",
        "print(\"Test Loss: \", loss_tuned)\n",
        "print(\"Test RMSE: \", rmse_tuned)"
      ],
      "metadata": {
        "colab": {
          "base_uri": "https://localhost:8080/"
        },
        "id": "2eDPU4SF3bum",
        "outputId": "4262700e-fb50-42f1-8982-686ad345ff88"
      },
      "id": "2eDPU4SF3bum",
      "execution_count": null,
      "outputs": [
        {
          "output_type": "stream",
          "name": "stdout",
          "text": [
            "61/61 [==============================] - 0s 4ms/step - loss: 0.1407 - accuracy: 0.9553\n",
            "31/31 [==============================] - 0s 3ms/step\n",
            "Test Accuracy:  0.9553014636039734\n",
            "Test Loss:  0.14069998264312744\n",
            "Test RMSE:  0.13145277\n"
          ]
        }
      ]
    },
    {
      "cell_type": "code",
      "source": [
        "# use best model\n",
        "predictions = tuned_model.predict(X_test)\n",
        "class_labels = ['1', '2', '3', '4']\n",
        "max_test = np.argmax(y_test, axis=1)\n",
        "max_predictions = np.argmax(predictions, axis=1)\n",
        "confusion_matrix = metrics.confusion_matrix(max_test, max_predictions)\n",
        "sns.heatmap(confusion_matrix, xticklabels = class_labels, yticklabels = class_labels, annot = True, linewidths = 0.1, fmt='d', cmap = 'YlGnBu')\n",
        "plt.title(\"Confusion matrix\", fontsize = 15)\n",
        "plt.ylabel('True label')\n",
        "plt.xlabel('Predicted label')\n",
        "plt.show()"
      ],
      "metadata": {
        "colab": {
          "base_uri": "https://localhost:8080/",
          "height": 493
        },
        "id": "keuw9MlEk7DX",
        "outputId": "11983739-57ae-42aa-d4fe-d60430633dfe"
      },
      "id": "keuw9MlEk7DX",
      "execution_count": null,
      "outputs": [
        {
          "output_type": "stream",
          "name": "stdout",
          "text": [
            "31/31 [==============================] - 0s 3ms/step\n"
          ]
        },
        {
          "output_type": "display_data",
          "data": {
            "text/plain": [
              "<Figure size 640x480 with 2 Axes>"
            ],
            "image/png": "[encoded data removed]"
          },
          "metadata": {}
        }
      ]
    },
    {
      "cell_type": "code",
      "source": [
        "plt.plot(np.array(history.history['loss']), \"r--\", label = \"Test loss\")\n",
        "plt.plot(np.array(history.history['accuracy']), \"g--\", label = \"Test accuracy\")\n",
        "plt.plot(np.array(history.history['val_loss']), \"r-\", label = \"Validation loss\")\n",
        "plt.plot(np.array(history.history['val_accuracy']), \"g-\", label = \"Validation accuracy\")\n",
        "plt.title(\"Testing session's progress over iterations\")\n",
        "plt.legend(loc='lower left')\n",
        "plt.ylabel('Testing Progress (Loss/Accuracy)')\n",
        "plt.xlabel('Testing Epoch')\n",
        "plt.ylim(0)\n",
        "plt.show()"
      ],
      "metadata": {
        "colab": {
          "base_uri": "https://localhost:8080/",
          "height": 472
        },
        "id": "p_8EpFuAlRof",
        "outputId": "d1858723-1315-428d-cf84-c5213dc7285a"
      },
      "id": "p_8EpFuAlRof",
      "execution_count": null,
      "outputs": [
        {
          "output_type": "display_data",
          "data": {
            "text/plain": [
              "<Figure size 640x480 with 1 Axes>"
            ],
            "image/png": "[encoded data removed]"
          },
          "metadata": {}
        }
      ]
    },
    {
      "cell_type": "code",
      "execution_count": null,
      "id": "82a0e78b",
      "metadata": {
        "colab": {
          "base_uri": "https://localhost:8080/"
        },
        "id": "82a0e78b",
        "outputId": "e19507a8-d254-48ff-a174-fdc31797ddf1"
      },
      "outputs": [
        {
          "output_type": "stream",
          "name": "stdout",
          "text": [
            "241/241 [==============================] - 1s 3ms/step - loss: 0.1515 - accuracy: 0.9563\n",
            "31/31 [==============================] - 0s 3ms/step\n",
            "Test Accuracy:  0.9563409686088562\n",
            "Test Loss:  0.15146298706531525\n",
            "Test RMSE:  0.13548326\n"
          ]
        }
      ],
      "source": [
        "# model testing\n",
        "loss, accuracy = model.evaluate(X_test, y_test, batch_size = batch_size, verbose = 1)\n",
        "y_pred_test = model.predict(X_test)\n",
        "mse_test = mean_squared_error(y_pred_test, y_test)\n",
        "rmse_test = np.sqrt(mse_test)\n",
        "\n",
        "print(\"Test Accuracy: \", accuracy)\n",
        "print(\"Test Loss: \", loss)\n",
        "print(\"Test RMSE: \", rmse_test)"
      ]
    },
    {
      "cell_type": "code",
      "execution_count": null,
      "id": "e3dea8bd",
      "metadata": {
        "colab": {
          "base_uri": "https://localhost:8080/",
          "height": 493
        },
        "id": "e3dea8bd",
        "outputId": "230ff883-4806-4c81-f85e-5cdf34cdaece"
      },
      "outputs": [
        {
          "output_type": "stream",
          "name": "stdout",
          "text": [
            "31/31 [==============================] - 0s 3ms/step\n"
          ]
        },
        {
          "output_type": "display_data",
          "data": {
            "text/plain": [
              "<Figure size 640x480 with 2 Axes>"
            ],
            "image/png": "[encoded data removed]"
          },
          "metadata": {}
        }
      ],
      "source": [
        "predictions = model.predict(X_test)\n",
        "class_labels = ['1', '2', '3', '4']\n",
        "max_test = np.argmax(y_test, axis=1)\n",
        "max_predictions = np.argmax(predictions, axis=1)\n",
        "confusion_matrix = metrics.confusion_matrix(max_test, max_predictions)\n",
        "sns.heatmap(confusion_matrix, xticklabels = class_labels, yticklabels = class_labels, annot = True, linewidths = 0.1, fmt='d', cmap = 'YlGnBu')\n",
        "plt.title(\"Confusion matrix\", fontsize = 15)\n",
        "plt.ylabel('True label')\n",
        "plt.xlabel('Predicted label')\n",
        "plt.show()"
      ]
    },
    {
      "cell_type": "code",
      "execution_count": null,
      "id": "8673c311",
      "metadata": {
        "id": "8673c311"
      },
      "outputs": [],
      "source": []
    },
    {
      "cell_type": "code",
      "execution_count": null,
      "id": "09c60a85",
      "metadata": {
        "id": "09c60a85"
      },
      "outputs": [],
      "source": []
    },
    {
      "cell_type": "code",
      "execution_count": null,
      "id": "c964d43c",
      "metadata": {
        "id": "c964d43c"
      },
      "outputs": [],
      "source": []
    },
    {
      "cell_type": "code",
      "execution_count": null,
      "id": "fc943f29",
      "metadata": {
        "id": "fc943f29"
      },
      "outputs": [],
      "source": [
        "def grid(classifier):\n",
        "\n",
        "    # define the grid search parameters\n",
        "    batch_size = [32, 64, 128]\n",
        "    epochs = [30, 40, 50]\n",
        "    lstm_units: [32, 64, 128]\n",
        "    dropout_rate: [0.2, 0.3, 0.4]\n",
        "    validation_split=[0.2]\n",
        "\n",
        "    param_grid = dict(batch_size=batch_size, epochs=epochs, dropout_rate=dropout_rate, lstm_units=lstm_units, validation_split=validation_split)\n",
        "\n",
        "    grid = GridSearchCV(estimator=classifier, param_grid=param_grid, n_jobs=-1, cv=5, return_train_score=True, verbose=2)\n",
        "\n",
        "    grid_result = grid.fit(X_train, y_train)\n",
        "\n",
        "    # summarize results\n",
        "    print(\"Best: %f using %s\" % (grid_result.best_score_, grid_result.best_params_))\n",
        "    means = grid_result.cv_results_['mean_test_score']\n",
        "    stds = grid_result.cv_results_['std_test_score']\n",
        "    params = grid_result.cv_results_['params']\n",
        "\n",
        "    for mean, stdev, param in zip(means, stds, params):\n",
        "        print(\"%f (%f) with: %r\" % (mean, stdev, param))\n",
        "\n",
        "    return grid_result"
      ]
    },
    {
      "cell_type": "code",
      "execution_count": null,
      "id": "184ef1e3",
      "metadata": {
        "id": "184ef1e3"
      },
      "outputs": [],
      "source": [
        "def segments(df, time_steps, step, label_name):\n",
        "    N_FEATURES = 6\n",
        "    segments = []\n",
        "    labels = []\n",
        "\n",
        "    for i in range(0, len(df) - time_steps, step):\n",
        "        acce_x = df['x'].values[i:i+time_steps]\n",
        "        acce_y = df['y'].values[i:i+time_steps]\n",
        "        acce_z = df['z'].values[i:i+time_steps]\n",
        "        gyro_x = df['x2'].values[i:i+time_steps]\n",
        "        gyro_y = df['y2'].values[i:i+time_steps]\n",
        "        gyro_z = df['z2'].values[i:i+time_steps]\n",
        "\n",
        "        label = mode(df[label_name][i:i+time_steps])[0][0]\n",
        "        segments.append([acce_x, acce_y, acce_z, gyro_x, gyro_y, gyro_z])\n",
        "        labels.append(label)\n",
        "\n",
        "    reshaped_segments = np.asarray(segments, dtype=np.float32).reshape(-1, time_steps, N_FEATURES)\n",
        "    labels = np.asarray(labels)\n",
        "\n",
        "    return reshaped_segments, labels\n",
        "\n",
        "TIME_PERIOD = 100\n",
        "STEP_DISTANCE = 50\n",
        "LABEL = 'activityEncode'\n",
        "x_train, y_train = segments(df_train, TIME_PERIOD, STEP_DISTANCE, LABEL)\n",
        "x_test, y_test = segments(df_test, TIME_PERIOD, STEP_DISTANCE, LABEL)\n",
        "\n",
        "print(x_train.shape)\n",
        "print(x_train.shape[0])\n",
        "print(y_train.shape)\n",
        "print(x_test.shape)\n",
        "print(x_test.shape[0])\n",
        "print(y_test.shape)"
      ]
    },
    {
      "cell_type": "code",
      "execution_count": null,
      "id": "f4079730",
      "metadata": {
        "id": "f4079730"
      },
      "outputs": [],
      "source": []
    },
    {
      "cell_type": "code",
      "execution_count": null,
      "id": "41bbfd2c",
      "metadata": {
        "id": "41bbfd2c"
      },
      "outputs": [],
      "source": []
    },
    {
      "cell_type": "code",
      "execution_count": null,
      "id": "d23efa65",
      "metadata": {
        "id": "d23efa65",
        "outputId": "2b7655d7-8f5d-47ee-c7b1-df119c34f53d"
      },
      "outputs": [
        {
          "name": "stdout",
          "output_type": "stream",
          "text": [
            "(720, 225)\n"
          ]
        }
      ],
      "source": [
        "df_new = X_new.copy()\n",
        "df_new['label'] = Y_new\n",
        "df_new['label'] = df_new['label'].astype(int)\n",
        "\n",
        "print(df_new.shape)"
      ]
    },
    {
      "cell_type": "code",
      "execution_count": null,
      "id": "5e7fc3dd",
      "metadata": {
        "id": "5e7fc3dd"
      },
      "outputs": [],
      "source": [
        "label_encode = LabelEncoder()\n",
        "df_new['activityEncode'] = label_encode.fit_transform(df_new['label'].values.ravel())"
      ]
    },
    {
      "cell_type": "code",
      "execution_count": null,
      "id": "52e834bb",
      "metadata": {
        "scrolled": true,
        "id": "52e834bb",
        "outputId": "ae802722-f2c7-4806-94d3-167901117fc0"
      },
      "outputs": [
        {
          "name": "stdout",
          "output_type": "stream",
          "text": [
            "(720, 225)\n",
            "(720,)\n",
            "(576, 225)\n",
            "(576,)\n",
            "(144, 225)\n",
            "(144,)\n"
          ]
        }
      ],
      "source": [
        "X = df_new.drop('activityEncode',axis=1)\n",
        "y = df_new['activityEncode']\n",
        "y = y.to_numpy()\n",
        "y = y.astype('int')\n",
        "\n",
        "print(X.shape)\n",
        "print(y.shape)\n",
        "\n",
        "X_train, X_test, y_train, y_test = train_test_split(X, y, test_size = 0.2, random_state = random_seed)\n",
        "\n",
        "print(X_train.shape)\n",
        "print(y_train.shape)\n",
        "print(X_test.shape)\n",
        "print(y_test.shape)"
      ]
    },
    {
      "cell_type": "code",
      "execution_count": null,
      "id": "d6317473",
      "metadata": {
        "id": "d6317473",
        "outputId": "126e195a-c911-4a95-96af-4a0548560a1d"
      },
      "outputs": [
        {
          "name": "stdout",
          "output_type": "stream",
          "text": [
            "     acce_x_mean  acce_y_mean  acce_z_mean  gyro_x_mean  gyro_y_mean  \\\n",
            "395      -0.6251       9.8663      -0.3829       0.1221       0.1923   \n",
            "41       -0.4124       9.8022      -0.0361      -0.0006       0.0029   \n",
            "108      -0.4445       9.8004      -0.1043      -0.0002      -0.0052   \n",
            "644      -0.5532       9.8708      -0.5330       0.1096       0.1394   \n",
            "56       -0.4390       9.8018      -0.0779       0.0020       0.0034   \n",
            "..           ...          ...          ...          ...          ...   \n",
            "71       -0.4395       9.7994      -0.1194       0.0037       0.0025   \n",
            "106      -0.4564       9.7999      -0.1263      -0.0015       0.0023   \n",
            "270      -0.7815       9.7805      -0.0795      -0.0037      -0.0003   \n",
            "435      -0.5007       9.8625      -0.2058      -0.1783      -0.0456   \n",
            "102      -0.4488       9.7979      -0.1946       0.0011      -0.0048   \n",
            "\n",
            "     gyro_z_mean  acce_x_std  acce_y_std  acce_z_std  gyro_x_std  ...  \\\n",
            "395      -0.0218    1.648365    2.904234    2.381432    0.867184  ...   \n",
            "41        0.0000    0.011056    0.009958    0.015290    0.002375  ...   \n",
            "108       0.0018    0.032631    0.011993    0.021225    0.004238  ...   \n",
            "644      -0.0213    1.688470    3.204849    2.452244    0.846676  ...   \n",
            "56       -0.0004    0.022113    0.010235    0.017905    0.004000  ...   \n",
            "..           ...         ...         ...         ...         ...  ...   \n",
            "71       -0.0007    0.028085    0.011029    0.021946    0.005771  ...   \n",
            "106      -0.0019    0.036566    0.012449    0.029988    0.004770  ...   \n",
            "270       0.0005    0.019513    0.013883    0.019513    0.007163  ...   \n",
            "435      -0.0746    2.127373    3.126452    2.575655    0.849452  ...   \n",
            "102       0.0030    0.027974    0.012829    0.025156    0.006767  ...   \n",
            "\n",
            "     gyro_y_argmin_fft  gyro_z_argmin_fft  acce_x_arg_diff_fft  \\\n",
            "395                 24                 24                   16   \n",
            "41                  20                 20                   24   \n",
            "108                 24                 24                   13   \n",
            "644                 26                 26                   29   \n",
            "56                  27                 27                   24   \n",
            "..                 ...                ...                  ...   \n",
            "71                  18                 18                   26   \n",
            "106                 45                 45                   24   \n",
            "270                 40                 40                   10   \n",
            "435                 16                 16                   40   \n",
            "102                  7                  7                   31   \n",
            "\n",
            "     acce_y_arg_diff_fft  acce_z_arg_diff_fft  gyro_x_arg_diff_fft  \\\n",
            "395                   27                   18                   24   \n",
            "41                     5                   18                   20   \n",
            "108                   19                   24                   24   \n",
            "644                   20                   19                   22   \n",
            "56                    43                   38                   27   \n",
            "..                   ...                  ...                  ...   \n",
            "71                    38                   24                   18   \n",
            "106                   41                   21                    3   \n",
            "270                   17                   35                    8   \n",
            "435                   24                   24                   16   \n",
            "102                   35                   18                    7   \n",
            "\n",
            "     gyro_y_arg_diff_fft  gyro_z_arg_diff_fft  label  activityEncode  \n",
            "395                   24                   24      2               1  \n",
            "41                    20                   20      1               0  \n",
            "108                   24                   24      1               0  \n",
            "644                   22                   22      2               1  \n",
            "56                    27                   27      1               0  \n",
            "..                   ...                  ...    ...             ...  \n",
            "71                    18                   18      1               0  \n",
            "106                    3                    3      1               0  \n",
            "270                    8                    8      1               0  \n",
            "435                   16                   16      2               1  \n",
            "102                    7                    7      1               0  \n",
            "\n",
            "[576 rows x 226 columns]\n",
            "(576, 226)\n",
            "     acce_x_mean  acce_y_mean  acce_z_mean  gyro_x_mean  gyro_y_mean  \\\n",
            "340      -0.7288       9.7855      -0.0277       0.0052      -0.0005   \n",
            "290      -0.8088       9.7769      -0.1182      -0.0002       0.0008   \n",
            "54       -0.4210       9.8017      -0.0854      -0.0018      -0.0062   \n",
            "198      -0.7829       9.7780      -0.1461      -0.0046      -0.0003   \n",
            "453      -0.8519       9.4746      -0.7215      -0.2393       0.0432   \n",
            "..           ...          ...          ...          ...          ...   \n",
            "164      -0.7960       9.7791      -0.1627      -0.0005       0.0001   \n",
            "165      -0.8021       9.7778      -0.1636       0.0002       0.0045   \n",
            "199      -0.7865       9.7797      -0.1151      -0.0060       0.0009   \n",
            "132      -0.8104       9.7787      -0.0626      -0.0013      -0.0074   \n",
            "501      -0.4887       9.7092      -0.3008       0.1672      -0.1237   \n",
            "\n",
            "     gyro_z_mean  acce_x_std  acce_y_std  acce_z_std  gyro_x_std  ...  \\\n",
            "340       0.0001    0.013136    0.012440    0.027887    0.004996  ...   \n",
            "290       0.0009    0.027687    0.011975    0.016024    0.003156  ...   \n",
            "54        0.0003    0.011790    0.010301    0.024512    0.003842  ...   \n",
            "198       0.0002    0.024871    0.011576    0.022176    0.004984  ...   \n",
            "453       0.0198    1.661543    3.023649    2.248732    0.769631  ...   \n",
            "..           ...         ...         ...         ...         ...  ...   \n",
            "164       0.0007    0.010583    0.012417    0.015024    0.002958  ...   \n",
            "165       0.0000    0.010324    0.010824    0.013529    0.001400  ...   \n",
            "199       0.0003    0.021512    0.010436    0.027839    0.004899  ...   \n",
            "132       0.0034    0.030362    0.011971    0.035345    0.004616  ...   \n",
            "501      -0.0202    1.256294    2.787702    2.601115    0.902953  ...   \n",
            "\n",
            "     gyro_y_argmin_fft  gyro_z_argmin_fft  acce_x_arg_diff_fft  \\\n",
            "340                 24                 24                   33   \n",
            "290                 20                 20                   24   \n",
            "54                   5                  5                    3   \n",
            "198                 21                 21                   17   \n",
            "453                 33                 33                   10   \n",
            "..                 ...                ...                  ...   \n",
            "164                 22                 22                   30   \n",
            "165                 24                 24                   32   \n",
            "199                 15                 15                   32   \n",
            "132                 37                 37                   24   \n",
            "501                 24                 24                   14   \n",
            "\n",
            "     acce_y_arg_diff_fft  acce_z_arg_diff_fft  gyro_x_arg_diff_fft  \\\n",
            "340                   24                   11                   24   \n",
            "290                   30                    4                   28   \n",
            "54                    24                   46                    5   \n",
            "198                   35                   25                   21   \n",
            "453                   24                   25                   33   \n",
            "..                   ...                  ...                  ...   \n",
            "164                    9                   23                   22   \n",
            "165                   33                   19                   24   \n",
            "199                   34                   32                   15   \n",
            "132                   15                   24                   37   \n",
            "501                   19                   18                   24   \n",
            "\n",
            "     gyro_y_arg_diff_fft  gyro_z_arg_diff_fft  label  activityEncode  \n",
            "340                   24                   24      1               0  \n",
            "290                   28                   28      1               0  \n",
            "54                     5                    5      1               0  \n",
            "198                   21                   21      1               0  \n",
            "453                   33                   33      2               1  \n",
            "..                   ...                  ...    ...             ...  \n",
            "164                   22                   22      1               0  \n",
            "165                   24                   24      1               0  \n",
            "199                   15                   15      1               0  \n",
            "132                   37                   37      1               0  \n",
            "501                   24                   24      2               1  \n",
            "\n",
            "[144 rows x 226 columns]\n",
            "(144, 226)\n"
          ]
        }
      ],
      "source": [
        "# train data\n",
        "df_train = pd.DataFrame(X_train)\n",
        "df_train['activityEncode'] = y_train\n",
        "print(df_train)\n",
        "print(df_train.shape)\n",
        "\n",
        "# test data\n",
        "df_test = pd.DataFrame(X_test)\n",
        "df_test['activityEncode'] = y_test\n",
        "print(df_test)\n",
        "print(df_test.shape)"
      ]
    },
    {
      "cell_type": "code",
      "execution_count": null,
      "id": "400a86bb",
      "metadata": {
        "id": "400a86bb",
        "outputId": "85685e96-f9fb-4c2b-9269-f7050404e4f3"
      },
      "outputs": [
        {
          "name": "stdout",
          "output_type": "stream",
          "text": [
            "(13, 80, 224)\n",
            "(13,)\n",
            "(2, 80, 224)\n",
            "(2,)\n"
          ]
        }
      ],
      "source": [
        "def segments(df, time_steps, step, label_name):\n",
        "    N_FEATURES = 224\n",
        "    segments = []\n",
        "    labels = []\n",
        "\n",
        "    for i in range(0, len(df) - time_steps, step):\n",
        "        segment_data = []\n",
        "\n",
        "        for column in df.columns:\n",
        "            if column != 'activityEncode' and column != 'label':\n",
        "                segment = df[column].values[i:i+time_steps]\n",
        "                segment_data.append(segment)\n",
        "\n",
        "        label = mode(df[label_name][i:i+time_steps])[0][0]\n",
        "        segments.append(segment_data)\n",
        "        labels.append(label)\n",
        "\n",
        "    reshaped_segments = np.asarray(segments, dtype=np.float32).reshape(-1, time_steps, N_FEATURES)\n",
        "    labels = np.asarray(labels)\n",
        "\n",
        "    return reshaped_segments, labels\n",
        "\n",
        "TIME_PERIOD = 80\n",
        "STEP_DISTANCE = 40\n",
        "LABEL = 'activityEncode'\n",
        "x_train, y_train = segments(df_train, TIME_PERIOD, STEP_DISTANCE, LABEL)\n",
        "x_test, y_test = segments(df_test, TIME_PERIOD, STEP_DISTANCE, LABEL)\n",
        "print(x_train.shape)\n",
        "print(y_train.shape)\n",
        "print(x_test.shape)\n",
        "print(y_test.shape)"
      ]
    },
    {
      "cell_type": "code",
      "execution_count": null,
      "id": "ccf85500",
      "metadata": {
        "id": "ccf85500",
        "outputId": "61feae25-1091-4cca-9ffa-738896ea3f82"
      },
      "outputs": [
        {
          "name": "stdout",
          "output_type": "stream",
          "text": [
            "[1, 2]\n"
          ]
        }
      ],
      "source": [
        "## Input and Output Dimensions\n",
        "time_period, sensors = x_train.shape[1], x_train.shape[2]\n",
        "num_classes = label_encode.classes_.size\n",
        "print(list(label_encode.classes_))"
      ]
    },
    {
      "cell_type": "code",
      "execution_count": null,
      "id": "aaac6342",
      "metadata": {
        "id": "aaac6342",
        "outputId": "ae825d91-c1fa-42d8-c26d-58dd04e9acb8"
      },
      "outputs": [
        {
          "name": "stdout",
          "output_type": "stream",
          "text": [
            "Input Shape:  17920\n",
            "Input Data Shape:  (13, 17920)\n"
          ]
        }
      ],
      "source": [
        "## reshaping data\n",
        "input_shape = time_period * sensors\n",
        "x_train = x_train.reshape(x_train.shape[0], input_shape)\n",
        "print(\"Input Shape: \", input_shape)\n",
        "print(\"Input Data Shape: \", x_train.shape)"
      ]
    },
    {
      "cell_type": "code",
      "execution_count": null,
      "id": "c6bd1db2",
      "metadata": {
        "id": "c6bd1db2"
      },
      "outputs": [],
      "source": [
        "x_train = x_train.astype('float32')\n",
        "y_train = y_train.astype('float32')"
      ]
    },
    {
      "cell_type": "code",
      "execution_count": null,
      "id": "cc3aa3b2",
      "metadata": {
        "id": "cc3aa3b2",
        "outputId": "a6e5277a-78f8-41a6-cebf-99cdf3e58f1e"
      },
      "outputs": [
        {
          "name": "stdout",
          "output_type": "stream",
          "text": [
            "y_train shape:  (13, 2)\n"
          ]
        }
      ],
      "source": [
        "y_train_hot = to_categorical(y_train, num_classes)\n",
        "print(\"y_train shape: \", y_train_hot.shape)"
      ]
    },
    {
      "cell_type": "code",
      "execution_count": null,
      "id": "971278af",
      "metadata": {
        "id": "971278af",
        "outputId": "28b41ddb-3e90-44a6-faf8-d1fe48518414"
      },
      "outputs": [
        {
          "name": "stdout",
          "output_type": "stream",
          "text": [
            "Model: \"sequential_21\"\n",
            "_________________________________________________________________\n",
            " Layer (type)                Output Shape              Param #   \n",
            "=================================================================\n",
            " lstm_31 (LSTM)              (None, 17920, 32)         4352      \n",
            "                                                                 \n",
            " lstm_32 (LSTM)              (None, 17920, 32)         8320      \n",
            "                                                                 \n",
            " reshape_22 (Reshape)        (None, 1, 17920, 32)      0         \n",
            "                                                                 \n",
            " conv1d_11 (Conv1D)          (None, 1, 8960, 64)       4160      \n",
            "                                                                 \n",
            " reshape_23 (Reshape)        (None, 8960, 64)          0         \n",
            "                                                                 \n",
            " max_pooling1d_4 (MaxPoolin  (None, 2240, 64)          0         \n",
            " g1D)                                                            \n",
            "                                                                 \n",
            " conv1d_12 (Conv1D)          (None, 2239, 192)         24768     \n",
            "                                                                 \n",
            " reshape_24 (Reshape)        (None, 2239, 192)         0         \n",
            "                                                                 \n",
            " global_average_pooling1d_2  (None, 192)               0         \n",
            "  (GlobalAveragePooling1D)                                       \n",
            "                                                                 \n",
            " batch_normalization_2 (Bat  (None, 192)               768       \n",
            " chNormalization)                                                \n",
            "                                                                 \n",
            " dense_15 (Dense)            (None, 2)                 386       \n",
            "                                                                 \n",
            " activation_2 (Activation)   (None, 2)                 0         \n",
            "                                                                 \n",
            "=================================================================\n",
            "Total params: 42754 (167.01 KB)\n",
            "Trainable params: 42370 (165.51 KB)\n",
            "Non-trainable params: 384 (1.50 KB)\n",
            "_________________________________________________________________\n",
            "None\n"
          ]
        }
      ],
      "source": [
        "model = Sequential()\n",
        "model.add(LSTM(32, return_sequences=True, input_shape=(input_shape,1), activation='relu'))\n",
        "model.add(LSTM(32,return_sequences=True, activation='relu'))\n",
        "model.add(Reshape((1, 17920, 32)))\n",
        "model.add(Conv1D(filters=64,kernel_size=2, activation='relu', strides=2))\n",
        "model.add(Reshape((8960, 64)))\n",
        "model.add(MaxPool1D(pool_size=4, padding='same'))\n",
        "model.add(Conv1D(filters=192, kernel_size=2, activation='relu', strides=1))\n",
        "model.add(Reshape((2239, 192)))\n",
        "model.add(GlobalAveragePooling1D())\n",
        "model.add(BatchNormalization(epsilon=1e-06))\n",
        "model.add(Dense(2))\n",
        "model.add(Activation('softmax'))\n",
        "\n",
        "print(model.summary())"
      ]
    },
    {
      "cell_type": "code",
      "execution_count": null,
      "id": "23cfb0c1",
      "metadata": {
        "id": "23cfb0c1",
        "outputId": "fa4fc2b9-9384-4fda-d36c-98687670b0b6"
      },
      "outputs": [
        {
          "name": "stdout",
          "output_type": "stream",
          "text": [
            "Epoch 1/50\n",
            "1/1 [==============================] - 85s 85s/step - loss: nan - accuracy: 0.4615\n",
            "Epoch 2/50\n",
            "1/1 [==============================] - 86s 86s/step - loss: nan - accuracy: 0.4615\n",
            "Epoch 3/50\n",
            "1/1 [==============================] - 98s 98s/step - loss: nan - accuracy: 0.4615\n",
            "Epoch 4/50\n",
            "1/1 [==============================] - 85s 85s/step - loss: nan - accuracy: 0.4615\n",
            "Epoch 5/50\n",
            "1/1 [==============================] - 85s 85s/step - loss: nan - accuracy: 0.4615\n",
            "Epoch 6/50\n",
            "1/1 [==============================] - 99s 99s/step - loss: nan - accuracy: 0.4615\n",
            "Epoch 7/50\n",
            "1/1 [==============================] - 81s 81s/step - loss: nan - accuracy: 0.4615\n",
            "Epoch 8/50\n",
            "1/1 [==============================] - 84s 84s/step - loss: nan - accuracy: 0.4615\n",
            "Epoch 9/50\n",
            "1/1 [==============================] - 84s 84s/step - loss: nan - accuracy: 0.4615\n",
            "Epoch 10/50\n",
            "1/1 [==============================] - 81s 81s/step - loss: nan - accuracy: 0.4615\n",
            "Epoch 11/50\n",
            "1/1 [==============================] - 81s 81s/step - loss: nan - accuracy: 0.4615\n",
            "Epoch 12/50\n",
            "1/1 [==============================] - 82s 82s/step - loss: nan - accuracy: 0.4615\n",
            "Epoch 13/50\n",
            "1/1 [==============================] - 85s 85s/step - loss: nan - accuracy: 0.4615\n",
            "Epoch 14/50\n",
            "1/1 [==============================] - 87s 87s/step - loss: nan - accuracy: 0.4615\n",
            "Epoch 15/50\n",
            "1/1 [==============================] - 81s 81s/step - loss: nan - accuracy: 0.4615\n",
            "Epoch 16/50\n"
          ]
        }
      ],
      "source": [
        "model.compile(loss='categorical_crossentropy', optimizer='adam', metrics=['accuracy'])\n",
        "history = model.fit(x_train,\n",
        "                    y_train_hot,\n",
        "                    batch_size= 192,\n",
        "                    epochs=50\n",
        "                   )"
      ]
    },
    {
      "cell_type": "code",
      "execution_count": null,
      "id": "59c78333",
      "metadata": {
        "id": "59c78333",
        "outputId": "48829f99-8902-43a4-8b15-275a13c1a936"
      },
      "outputs": [
        {
          "data": {
            "image/png": "[encoded data removed]",
            "text/plain": [
              "<Figure size 432x288 with 1 Axes>"
            ]
          },
          "metadata": {
            "needs_background": "light"
          },
          "output_type": "display_data"
        }
      ],
      "source": [
        "plt.figure(figsize=(6, 4))\n",
        "plt.plot(history.history['accuracy'], 'r', label='Accuracy of training data')\n",
        "plt.plot(history.history['loss'], 'r--', label='Loss of training data')\n",
        "plt.title('Model Accuracy and Loss')\n",
        "plt.ylabel('Accuracy and Loss')\n",
        "plt.xlabel('Training Epoch')\n",
        "plt.ylim(0)\n",
        "plt.legend()\n",
        "plt.show()\n",
        "\n",
        "y_pred_train = model.predict(x_train)\n",
        "max_y_pred_train = np.argmax(y_pred_train, axis=1)\n",
        "print(classification_report(y_train, max_y_pred_train))"
      ]
    },
    {
      "cell_type": "code",
      "execution_count": null,
      "id": "c8f2a668",
      "metadata": {
        "id": "c8f2a668"
      },
      "outputs": [],
      "source": [
        "x_test = x_test.reshape(x_test.shape[0], input_shape)\n",
        "x_test = x_test.astype('float32')\n",
        "y_test = y_test.astype('float32')\n",
        "y_test = to_categorical(y_test, num_classes)"
      ]
    },
    {
      "cell_type": "code",
      "execution_count": null,
      "id": "334fd58b",
      "metadata": {
        "id": "334fd58b"
      },
      "outputs": [],
      "source": [
        "score = model.evaluate(x_test, y_test)\n",
        "print(\"Accuracy:\", score[1])\n",
        "print(\"Loss:\", score[0])"
      ]
    },
    {
      "cell_type": "code",
      "execution_count": null,
      "id": "7fc80beb",
      "metadata": {
        "id": "7fc80beb"
      },
      "outputs": [],
      "source": [
        "predictions = model.predict(x_test)\n",
        "predictions = np.argmax(predictions, axis=1)\n",
        "y_test_pred = np.argmax(y_test, axis=1)\n",
        "cm = confusion_matrix(y_test_pred, predictions)\n",
        "cm_disp = ConfusionMatrixDisplay(confusion_matrix= cm)\n",
        "cm_disp.plot()\n",
        "plt.show()"
      ]
    },
    {
      "cell_type": "code",
      "execution_count": null,
      "id": "00f76ba6",
      "metadata": {
        "id": "00f76ba6"
      },
      "outputs": [],
      "source": []
    },
    {
      "cell_type": "code",
      "execution_count": null,
      "id": "b836dea7",
      "metadata": {
        "id": "b836dea7"
      },
      "outputs": [],
      "source": []
    },
    {
      "cell_type": "code",
      "execution_count": null,
      "id": "5b51f2a9",
      "metadata": {
        "id": "5b51f2a9"
      },
      "outputs": [],
      "source": []
    },
    {
      "cell_type": "code",
      "execution_count": null,
      "id": "460108cf",
      "metadata": {
        "id": "460108cf",
        "outputId": "11dffe17-edaf-4c11-80a2-c252ef7892fa"
      },
      "outputs": [
        {
          "name": "stdout",
          "output_type": "stream",
          "text": [
            "(575, 100, 6)\n",
            "575\n",
            "(575,)\n",
            "(143, 100, 6)\n",
            "143\n",
            "(143,)\n"
          ]
        }
      ],
      "source": [
        "def segments(df, time_steps, step, label_name):\n",
        "    N_FEATURES = 6\n",
        "    segments = []\n",
        "    labels = []\n",
        "\n",
        "    for i in range(0, len(df) - time_steps, step):\n",
        "        acce_x = df['x'].values[i:i+time_steps]\n",
        "        acce_y = df['y'].values[i:i+time_steps]\n",
        "        acce_z = df['z'].values[i:i+time_steps]\n",
        "        gyro_x = df['x2'].values[i:i+time_steps]\n",
        "        gyro_y = df['y2'].values[i:i+time_steps]\n",
        "        gyro_z = df['z2'].values[i:i+time_steps]\n",
        "\n",
        "        label = mode(df[label_name][i:i+time_steps])[0][0]\n",
        "        segments.append([acce_x, acce_y, acce_z, gyro_x, gyro_y, gyro_z])\n",
        "        labels.append(label)\n",
        "\n",
        "    reshaped_segments = np.asarray(segments, dtype=np.float32).reshape(-1, time_steps, N_FEATURES)\n",
        "    labels = np.asarray(labels)\n",
        "\n",
        "    return reshaped_segments, labels\n",
        "\n",
        "TIME_PERIOD = 100\n",
        "STEP_DISTANCE = 50\n",
        "LABEL = 'activityEncode'\n",
        "x_train, y_train = segments(df_train, TIME_PERIOD, STEP_DISTANCE, LABEL)\n",
        "x_test, y_test = segments(df_test, TIME_PERIOD, STEP_DISTANCE, LABEL)\n",
        "\n",
        "print(x_train.shape)\n",
        "print(x_train.shape[0])\n",
        "print(y_train.shape)\n",
        "print(x_test.shape)\n",
        "print(x_test.shape[0])\n",
        "print(y_test.shape)"
      ]
    },
    {
      "cell_type": "code",
      "execution_count": null,
      "id": "60a5247d",
      "metadata": {
        "id": "60a5247d"
      },
      "outputs": [],
      "source": [
        "def create_dataset(X, y, time_steps=1, step=1):\n",
        "    Xs, ys = [], []\n",
        "    for i in range(0, len(X) - time_steps, step):\n",
        "        v = X.iloc[i:(i + time_steps)].values\n",
        "        labels = y.iloc[i: i + time_steps]\n",
        "        Xs.append(v)\n",
        "        ys.append(stats.mode(labels)[0][0])\n",
        "    return np.array(Xs), np.array(ys).reshape(-1, 1)"
      ]
    },
    {
      "cell_type": "code",
      "execution_count": null,
      "id": "e8be24c3",
      "metadata": {
        "id": "e8be24c3"
      },
      "outputs": [],
      "source": [
        "TIME_STEPS = 200\n",
        "STEP = 40\n",
        "\n",
        "X_train, y_train = create_dataset(\n",
        "    df_train[['x', 'y', 'z', 'x2', 'y2', 'z2']],\n",
        "    df_train.label,\n",
        "    TIME_STEPS,\n",
        "    STEP\n",
        ")\n",
        "\n",
        "X_test, y_test = create_dataset(\n",
        "    df_test[['x', 'y', 'z', 'x2', 'y2', 'z2']],\n",
        "    df_test.label,\n",
        "    TIME_STEPS,\n",
        "    STEP\n",
        ")"
      ]
    },
    {
      "cell_type": "code",
      "execution_count": null,
      "id": "3ec84f05",
      "metadata": {
        "id": "3ec84f05",
        "outputId": "f914ba34-acd2-4dd4-835d-38f97a4bb75f"
      },
      "outputs": [
        {
          "name": "stdout",
          "output_type": "stream",
          "text": [
            "Model: \"sequential_13\"\n",
            "_________________________________________________________________\n",
            " Layer (type)                Output Shape              Param #   \n",
            "=================================================================\n",
            " lstm_14 (LSTM)              (None, 32)                4992      \n",
            "                                                                 \n",
            " dropout_14 (Dropout)        (None, 32)                0         \n",
            "                                                                 \n",
            " dense_19 (Dense)            (None, 2)                 66        \n",
            "                                                                 \n",
            "=================================================================\n",
            "Total params: 5058 (19.76 KB)\n",
            "Trainable params: 5058 (19.76 KB)\n",
            "Non-trainable params: 0 (0.00 Byte)\n",
            "_________________________________________________________________\n"
          ]
        }
      ],
      "source": [
        "model = tf.keras.Sequential([\n",
        "    tf.keras.layers.LSTM(32, input_shape=(X_train.shape[1], X_train.shape[2])),  # Adjust input shape\n",
        "    tf.keras.layers.Dropout(0.2),\n",
        "    tf.keras.layers.Dense(y_train.shape[1], activation='sigmoid')  # Adjust num_classes\n",
        "])\n",
        "model.summary()\n",
        "model.compile(loss='categorical_crossentropy', optimizer='adam', metrics=['accuracy'])\n",
        "#model.fit(X_train, y_train, batch_size=4, epochs=30, verbose=1)"
      ]
    },
    {
      "cell_type": "code",
      "execution_count": null,
      "id": "25bf0d7e",
      "metadata": {
        "id": "25bf0d7e"
      },
      "outputs": [],
      "source": [
        "# Define the model architecture\n",
        "model = tf.keras.Sequential([\n",
        "    tf.keras.layers.LSTM(32, input_shape=(X_train.shape[1], X_train.shape[2])),  # Adjust input shape\n",
        "    tf.keras.layers.Dropout(0.2),\n",
        "    tf.keras.layers.Dense(y_train.shape[1], activation='sigmoid')  # Adjust num_classes\n",
        "])"
      ]
    },
    {
      "cell_type": "code",
      "source": [
        "def create_lstm_model():\n",
        "  model = tf.keras.models.Sequential()\n",
        "  model.add(LSTM(units = 32, input_shape = (X_train.shape[1], X_train.shape[2])))\n",
        "  model.add(Dropout(0.3))\n",
        "  #model.add(Dense(units = 64, activation='relu'))\n",
        "  model.add(Dense(y_train.shape[1], activation = 'softmax'))\n",
        "  model.compile(loss='categorical_crossentropy', optimizer='adam', metrics=['accuracy'])\n",
        "  return model"
      ],
      "metadata": {
        "id": "INJI6tK-sCVf"
      },
      "id": "INJI6tK-sCVf",
      "execution_count": null,
      "outputs": []
    },
    {
      "cell_type": "markdown",
      "id": "29065b83",
      "metadata": {
        "id": "29065b83"
      },
      "source": [
        "## Model Validation"
      ]
    },
    {
      "cell_type": "code",
      "execution_count": null,
      "id": "f2dba511",
      "metadata": {
        "id": "f2dba511"
      },
      "outputs": [],
      "source": []
    },
    {
      "cell_type": "code",
      "execution_count": null,
      "id": "553e5019",
      "metadata": {
        "id": "553e5019"
      },
      "outputs": [],
      "source": [
        "# Train the model with the best hyperparameters\n",
        "best_lstm_model = create_lstm_model(units=best_params['units'], activation=best_params['activation'], optimizer=best_params['optimizer'])\n",
        "best_lstm_model.fit(X_train, y_train, epochs=best_params['epochs'], batch_size=best_params['batch_size'], verbose=1)\n",
        "\n",
        "# Evaluate the model on the test data\n",
        "y_pred = best_lstm_model.predict(X_test)\n",
        "mse = mean_squared_error(y_test, y_pred)\n",
        "print(\"Mean Squared Error on Test Data:\", mse)"
      ]
    }
  ],
  "metadata": {
    "kernelspec": {
      "display_name": "Python 3",
      "name": "python3"
    },
    "language_info": {
      "codemirror_mode": {
        "name": "ipython",
        "version": 3
      },
      "file_extension": ".py",
      "mimetype": "text/x-python",
      "name": "python",
      "nbconvert_exporter": "python",
      "pygments_lexer": "ipython3",
      "version": "3.9.12"
    },
    "colab": {
      "provenance": [],
      "collapsed_sections": [
        "6e3cd158",
        "6a92eda9",
        "ca38239d",
        "136d6613",
        "91be39d7",
        "9b5a621d",
        "29065b83"
      ],
      "gpuType": "T4",
      "include_colab_link": true
    },
    "accelerator": "GPU"
  },
  "nbformat": 4,
  "nbformat_minor": 5
}