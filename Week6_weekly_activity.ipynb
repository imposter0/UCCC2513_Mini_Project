{
 "cells": [
  {
   "cell_type": "code",
   "execution_count": 1,
   "id": "da07706e",
   "metadata": {},
   "outputs": [
    {
     "data": {
      "text/plain": [
       "True"
      ]
     },
     "execution_count": 1,
     "metadata": {},
     "output_type": "execute_result"
    }
   ],
   "source": [
    "import sys\n",
    "# Python 3.7 is required\n",
    "assert sys.version_info >= (3,7)\n",
    "\n",
    "import cv2 as cv\n",
    "import numpy as np\n",
    "import matplotlib.pyplot as plt\n",
    "\n",
    "# Make sure that optimization is enabled\n",
    "if not cv.useOptimized():\n",
    "    cv.setUseOptimized(True)\n",
    "\n",
    "cv.useOptimized()"
   ]
  },
  {
   "cell_type": "markdown",
   "id": "88da59d8",
   "metadata": {},
   "source": [
    "## Question 1"
   ]
  },
  {
   "cell_type": "code",
   "execution_count": 10,
   "id": "da665e6a",
   "metadata": {},
   "outputs": [],
   "source": [
    "boat_image = cv.imread('boat.jpg', 0)\n",
    "\n",
    "#Gaussian filtering\n",
    "boat_image_g = cv.GaussianBlur(boat_image,(5,5),0)\n",
    "\n",
    "#apply Otsu thresholding\n",
    "ret, th = cv.threshold(boat_image_g, 0, 255, cv.THRESH_OTSU+cv.THRESH_BINARY_INV)\n",
    "\n",
    "#corner of rectangle\n",
    "pts1 = (300, 340) #top left corner\n",
    "pts2 = (690, 480) #bottom right corner\n",
    "\n",
    "#draw bounding box\n",
    "cv.rectangle(boat_image, pts1, pts2, (50,100,150), 2)\n",
    "\n",
    "cv.imshow('Original', boat_image)\n",
    "cv.imshow('Segmented boat', th)\n",
    "cv.waitKey(0)\n",
    "cv.destroyAllWindows()"
   ]
  },
  {
   "cell_type": "markdown",
   "id": "4cdcb747",
   "metadata": {},
   "source": [
    "## Question 2"
   ]
  },
  {
   "cell_type": "code",
   "execution_count": 5,
   "id": "80726d1e",
   "metadata": {},
   "outputs": [],
   "source": [
    "#load image\n",
    "leaf_image = cv.imread('leaf.jfif')\n",
    "\n",
    "#perform thresholding\n",
    "ret, th = cv.threshold(leaf_image, 230, 255, cv.THRESH_BINARY)\n",
    "\n",
    "max_size = 10\n",
    "\n",
    "def erosion(x):\n",
    "    i = cv.getTrackbarPos('Size', 'Erosion Window')\n",
    "    structuring_element = np.ones((i,i), dtype=np.uint8)\n",
    "    erosion_dst = cv.erode(th, structuring_element)\n",
    "    cv.imshow('Erosion', erosion_dst)\n",
    "\n",
    "cv.namedWindow('Erosion Window')\n",
    "cv.createTrackbar('Size', 'Erosion Window', 1, max_size, erosion)\n",
    "cv.waitKey(0)\n",
    "cv.destroyAllWindows()"
   ]
  },
  {
   "cell_type": "markdown",
   "id": "4ac90cf6",
   "metadata": {},
   "source": [
    "## Question 3"
   ]
  },
  {
   "cell_type": "code",
   "execution_count": null,
   "id": "53aec035",
   "metadata": {},
   "outputs": [],
   "source": [
    "Apply the steps shown in exercise 4 to segment the porcelain from these images: \"porcelain1.jfif\" - \"porcelain5.jfif\"."
   ]
  },
  {
   "cell_type": "code",
   "execution_count": 22,
   "id": "59624a02",
   "metadata": {},
   "outputs": [],
   "source": [
    "#plot the pixel on 3D scatter plot\n",
    "from mpl_toolkits.mplot3d import Axes3D\n",
    "from matplotlib import colors"
   ]
  },
  {
   "cell_type": "code",
   "execution_count": 9,
   "id": "c1079774",
   "metadata": {},
   "outputs": [
    {
     "ename": "AttributeError",
     "evalue": "'numpy.ndarray' object has no attribute 'append'",
     "output_type": "error",
     "traceback": [
      "\u001b[1;31m---------------------------------------------------------------------------\u001b[0m",
      "\u001b[1;31mAttributeError\u001b[0m                            Traceback (most recent call last)",
      "Input \u001b[1;32mIn [9]\u001b[0m, in \u001b[0;36m<cell line: 5>\u001b[1;34m()\u001b[0m\n\u001b[0;32m      8\u001b[0m     img_mask\u001b[38;5;241m.\u001b[39mappend(img)\n\u001b[0;32m      9\u001b[0m     img \u001b[38;5;241m=\u001b[39m cv\u001b[38;5;241m.\u001b[39mcvtColor(img,cv\u001b[38;5;241m.\u001b[39mCOLOR_RGB2HSV)\n\u001b[1;32m---> 10\u001b[0m     \u001b[43mimg\u001b[49m\u001b[38;5;241;43m.\u001b[39;49m\u001b[43mappend\u001b[49m(img)\n\u001b[0;32m     12\u001b[0m blue_light \u001b[38;5;241m=\u001b[39m (\u001b[38;5;241m50\u001b[39m,\u001b[38;5;241m50\u001b[39m,\u001b[38;5;241m50\u001b[39m)\n\u001b[0;32m     13\u001b[0m blue_dark \u001b[38;5;241m=\u001b[39m (\u001b[38;5;241m130\u001b[39m,\u001b[38;5;241m250\u001b[39m,\u001b[38;5;241m250\u001b[39m)\n",
      "\u001b[1;31mAttributeError\u001b[0m: 'numpy.ndarray' object has no attribute 'append'"
     ]
    }
   ],
   "source": [
    "#load images\n",
    "img = []\n",
    "img_mask = []\n",
    "\n",
    "for i in range(5):\n",
    "    img = cv.imread('porcelain{}.jfif'.format(i+1))\n",
    "    img = cv.cvtColor(img, cv.COLOR_BGR2RGB)\n",
    "    img_mask.append(img)\n",
    "    img = cv.cvtColor(img,cv.COLOR_RGB2HSV)\n",
    "    img.append(img)\n",
    "    \n",
    "blue_light = (50,50,50)\n",
    "blue_dark = (130,250,250)\n"
   ]
  },
  {
   "cell_type": "code",
   "execution_count": null,
   "id": "2ae08b95",
   "metadata": {},
   "outputs": [],
   "source": []
  }
 ],
 "metadata": {
  "kernelspec": {
   "display_name": "Python 3 (ipykernel)",
   "language": "python",
   "name": "python3"
  },
  "language_info": {
   "codemirror_mode": {
    "name": "ipython",
    "version": 3
   },
   "file_extension": ".py",
   "mimetype": "text/x-python",
   "name": "python",
   "nbconvert_exporter": "python",
   "pygments_lexer": "ipython3",
   "version": "3.9.12"
  }
 },
 "nbformat": 4,
 "nbformat_minor": 5
}
