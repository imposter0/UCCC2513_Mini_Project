{
 "cells": [
  {
   "cell_type": "code",
   "execution_count": 2,
   "id": "1043a0e2",
   "metadata": {},
   "outputs": [
    {
     "data": {
      "text/plain": [
       "True"
      ]
     },
     "execution_count": 2,
     "metadata": {},
     "output_type": "execute_result"
    }
   ],
   "source": [
    "import sys\n",
    "# Python 3.7 is required\n",
    "assert sys.version_info >= (3,7)\n",
    "\n",
    "import cv2 as cv\n",
    "import numpy as np\n",
    "\n",
    "# For reproducibility,\n",
    "np.random.seed(99)\n",
    "\n",
    "# Make sure that optimization is enabled\n",
    "if not cv.useOptimized():\n",
    "    cv.setUseOptimized(True)\n",
    "\n",
    "cv.useOptimized()"
   ]
  },
  {
   "cell_type": "code",
   "execution_count": 2,
   "id": "7bb9eee9",
   "metadata": {},
   "outputs": [],
   "source": [
    "from IPython.core.interactiveshell import InteractiveShell\n",
    "InteractiveShell.ast_node_interactivity = \"all\""
   ]
  },
  {
   "cell_type": "markdown",
   "id": "73f46fd4",
   "metadata": {},
   "source": [
    "## Question 1"
   ]
  },
  {
   "cell_type": "code",
   "execution_count": 6,
   "id": "8a8f0e59",
   "metadata": {},
   "outputs": [],
   "source": [
    "#first method\n",
    "dog_img_color = cv.imread('dog.jfif')\n",
    "dog_img_grayscale = cv.imread('dog.jfif', 0)\n",
    "cv.imshow('Color', dog_img_color)\n",
    "cv.imshow('Grayscale', dog_img_grayscale)\n",
    "cv.waitKey(0)\n",
    "cv.destroyAllWindows()"
   ]
  },
  {
   "cell_type": "code",
   "execution_count": 4,
   "id": "8c308f35",
   "metadata": {},
   "outputs": [
    {
     "data": {
      "text/plain": [
       "-1"
      ]
     },
     "execution_count": 4,
     "metadata": {},
     "output_type": "execute_result"
    }
   ],
   "source": [
    "#second method\n",
    "soccer_img_color = cv.imread('soccer.jpg')\n",
    "soccer_img_grayscale = cv.imread('soccer.jpg', 0)\n",
    "\n",
    "#make the grayscale image to have 3 channels\n",
    "soccer_img_grayscale_2 = cv.cvtColor(soccer_img_grayscale, cv.COLOR_GRAY2BGR)\n",
    "\n",
    "#resize the image \n",
    "soccer_img_color = cv.resize(soccer_img_color, (0,0), None, .5, .5)\n",
    "soccer_img_grayscale_2 = cv.resize(soccer_img_grayscale_2, (0,0), None, .5, .5)\n",
    "\n",
    "img = np.concatenate((soccer_img_color, soccer_img_grayscale_2), axis=1)\n",
    "\n",
    "cv.imshow('Img', img)\n",
    "cv.waitKey(0)\n",
    "cv.destroyAllWindows()"
   ]
  },
  {
   "cell_type": "markdown",
   "id": "8874d125",
   "metadata": {},
   "source": [
    "## Question 2"
   ]
  },
  {
   "cell_type": "code",
   "execution_count": 82,
   "id": "98eb3a40",
   "metadata": {},
   "outputs": [
    {
     "data": {
      "text/plain": [
       "1080.0"
      ]
     },
     "execution_count": 82,
     "metadata": {},
     "output_type": "execute_result"
    },
    {
     "data": {
      "text/plain": [
       "1920.0"
      ]
     },
     "execution_count": 82,
     "metadata": {},
     "output_type": "execute_result"
    },
    {
     "data": {
      "text/plain": [
       "60.0"
      ]
     },
     "execution_count": 82,
     "metadata": {},
     "output_type": "execute_result"
    }
   ],
   "source": [
    "video = cv.VideoCapture('img_pexels.mp4')\n",
    "\n",
    "#get basic info of the video\n",
    "width = video.get(3)\n",
    "height = video.get(4)\n",
    "frame_rate = video.get(5)\n",
    "width\n",
    "height\n",
    "frame_rate"
   ]
  },
  {
   "cell_type": "code",
   "execution_count": 80,
   "id": "1471cafe",
   "metadata": {},
   "outputs": [],
   "source": [
    "video = cv.VideoCapture('img_pexels.mp4')\n",
    "fourcc = cv.VideoWriter_fourcc(*'MP4V')\n",
    "\n",
    "if video.isOpened():\n",
    "    smaller_video = cv.VideoWriter('smaller_img_pexels.mp4',fourcc, 20.0, (400, 500), True)\n",
    "\n",
    "while video.isOpened():\n",
    "    ret, frame = video.read()\n",
    "    if ret == True:\n",
    "        rescaled_frame = cv.resize(frame, (400, 500), interpolation = cv.INTER_CUBIC)\n",
    "        smaller_video.write(rescaled_frame)\n",
    "    else:\n",
    "        break\n",
    "\n",
    "video.release()\n",
    "smaller_video.release()\n",
    "cv.destroyAllWindows()"
   ]
  },
  {
   "cell_type": "code",
   "execution_count": 81,
   "id": "35b43cee",
   "metadata": {},
   "outputs": [
    {
     "data": {
      "text/plain": [
       "400.0"
      ]
     },
     "execution_count": 81,
     "metadata": {},
     "output_type": "execute_result"
    },
    {
     "data": {
      "text/plain": [
       "500.0"
      ]
     },
     "execution_count": 81,
     "metadata": {},
     "output_type": "execute_result"
    },
    {
     "data": {
      "text/plain": [
       "20.0"
      ]
     },
     "execution_count": 81,
     "metadata": {},
     "output_type": "execute_result"
    }
   ],
   "source": [
    "smaller_video = cv.VideoCapture('smaller_img_pexels.mp4')\n",
    "\n",
    "s_width = smaller_video.get(3)\n",
    "s_height = smaller_video.get(4)\n",
    "s_frame_rate = smaller_video.get(5)\n",
    "s_width\n",
    "s_height\n",
    "s_frame_rate"
   ]
  },
  {
   "cell_type": "markdown",
   "id": "b8774ad6",
   "metadata": {},
   "source": [
    "## Question 3"
   ]
  },
  {
   "cell_type": "code",
   "execution_count": 4,
   "id": "70513ab8",
   "metadata": {},
   "outputs": [],
   "source": [
    "noise = np.array(np.random.rand(400,400,3))\n",
    "cv.imshow('Noise_image', noise)\n",
    "cv.waitKey(0)\n",
    "cv.destroyAllWindows()"
   ]
  },
  {
   "cell_type": "code",
   "execution_count": null,
   "id": "31eadcf6",
   "metadata": {},
   "outputs": [],
   "source": []
  }
 ],
 "metadata": {
  "kernelspec": {
   "display_name": "Python 3 (ipykernel)",
   "language": "python",
   "name": "python3"
  },
  "language_info": {
   "codemirror_mode": {
    "name": "ipython",
    "version": 3
   },
   "file_extension": ".py",
   "mimetype": "text/x-python",
   "name": "python",
   "nbconvert_exporter": "python",
   "pygments_lexer": "ipython3",
   "version": "3.9.12"
  }
 },
 "nbformat": 4,
 "nbformat_minor": 5
}
